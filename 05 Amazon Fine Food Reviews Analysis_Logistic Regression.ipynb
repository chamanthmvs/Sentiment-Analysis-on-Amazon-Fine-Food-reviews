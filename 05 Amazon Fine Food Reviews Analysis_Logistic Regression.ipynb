{
 "cells": [
  {
   "cell_type": "markdown",
   "metadata": {
    "colab_type": "text",
    "id": "AM7jsfwALPlp"
   },
   "source": [
    "# Amazon Fine Food Reviews Analysis\n",
    "\n",
    "\n",
    "Data Source: https://www.kaggle.com/snap/amazon-fine-food-reviews <br>\n",
    "\n",
    "EDA: https://nycdatascience.com/blog/student-works/amazon-fine-foods-visualization/\n",
    "\n",
    "\n",
    "The Amazon Fine Food Reviews dataset consists of reviews of fine foods from Amazon.<br>\n",
    "\n",
    "Number of reviews: 568,454<br>\n",
    "Number of users: 256,059<br>\n",
    "Number of products: 74,258<br>\n",
    "Timespan: Oct 1999 - Oct 2012<br>\n",
    "Number of Attributes/Columns in data: 10 \n",
    "\n",
    "Attribute Information:\n",
    "\n",
    "1. Id\n",
    "2. ProductId - unique identifier for the product\n",
    "3. UserId - unqiue identifier for the user\n",
    "4. ProfileName\n",
    "5. HelpfulnessNumerator - number of users who found the review helpful\n",
    "6. HelpfulnessDenominator - number of users who indicated whether they found the review helpful or not\n",
    "7. Score - rating between 1 and 5\n",
    "8. Time - timestamp for the review\n",
    "9. Summary - brief summary of the review\n",
    "10. Text - text of the review\n",
    "\n",
    "\n",
    "#### Objective:\n",
    "Given a review, determine whether the review is positive (rating of 4 or 5) or negative (rating of 1 or 2).\n",
    "\n",
    "<br>\n",
    "[Q] How to determine if a review is positive or negative?<br>\n",
    "<br> \n",
    "[Ans] We could use Score/Rating. A rating of 4 or 5 can be cosnidered as a positive review. A rating of 1 or 2 can be considered as negative one. A review of rating 3 is considered nuetral and such reviews are ignored from our analysis. This is an approximate and proxy way of determining the polarity (positivity/negativity) of a review.\n",
    "\n",
    "\n"
   ]
  },
  {
   "cell_type": "markdown",
   "metadata": {
    "colab_type": "text",
    "id": "CaQ7XJ4OLPls"
   },
   "source": [
    "# [1]. Reading Data"
   ]
  },
  {
   "cell_type": "markdown",
   "metadata": {
    "colab_type": "text",
    "id": "5VnEBjKRLPlu"
   },
   "source": [
    "## [1.1] Loading the data\n",
    "\n",
    "The dataset is available in two forms\n",
    "1. .csv file\n",
    "2. SQLite Database\n",
    "\n",
    "In order to load the data, We have used the SQLITE dataset as it is easier to query the data and visualise the data efficiently.\n",
    "<br> \n",
    "\n",
    "Here as we only want to get the global sentiment of the recommendations (positive or negative), we will purposefully ignore all Scores equal to 3. If the score is above 3, then the recommendation wil be set to \"positive\". Otherwise, it will be set to \"negative\"."
   ]
  },
  {
   "cell_type": "code",
   "execution_count": 1,
   "metadata": {
    "colab": {},
    "colab_type": "code",
    "collapsed": true,
    "id": "x6YclOzXLPlv"
   },
   "outputs": [],
   "source": [
    "%matplotlib inline\n",
    "import warnings\n",
    "warnings.filterwarnings(\"ignore\")\n",
    "\n",
    "\n",
    "import sqlite3\n",
    "import pandas as pd\n",
    "import numpy as np\n",
    "import nltk\n",
    "import string\n",
    "import matplotlib.pyplot as plt\n",
    "import seaborn as sns\n",
    "from sklearn.feature_extraction.text import TfidfTransformer\n",
    "from sklearn.feature_extraction.text import TfidfVectorizer\n",
    "\n",
    "from sklearn.feature_extraction.text import CountVectorizer\n",
    "from sklearn.metrics import confusion_matrix\n",
    "from sklearn import metrics\n",
    "from sklearn.metrics import roc_curve, auc, roc_auc_score\n",
    "from nltk.stem.porter import PorterStemmer\n",
    "\n",
    "import re\n",
    "# Tutorial about Python regular expressions: https://pymotw.com/2/re/\n",
    "import string\n",
    "from nltk.corpus import stopwords\n",
    "from nltk.stem import PorterStemmer\n",
    "from nltk.stem.wordnet import WordNetLemmatizer\n",
    "\n",
    "from gensim.models import Word2Vec\n",
    "from gensim.models import KeyedVectors\n",
    "import pickle\n",
    "\n",
    "from tqdm import tqdm\n",
    "import os"
   ]
  },
  {
   "cell_type": "markdown",
   "metadata": {
    "colab_type": "text",
    "id": "Kxx72u1hLPo1"
   },
   "source": [
    "# [5] Assignment 5: Apply Logistic Regression"
   ]
  },
  {
   "cell_type": "markdown",
   "metadata": {
    "colab_type": "text",
    "id": "KDR9We0oLPo2"
   },
   "source": [
    "<ol>\n",
    "    <li><strong>Apply Logistic Regression on these feature sets</strong>\n",
    "        <ul>\n",
    "            <li><font color='red'>SET 1:</font>Review text, preprocessed one converted into vectors using (BOW)</li>\n",
    "            <li><font color='red'>SET 2:</font>Review text, preprocessed one converted into vectors using (TFIDF)</li>\n",
    "            <li><font color='red'>SET 3:</font>Review text, preprocessed one converted into vectors using (AVG W2v)</li>\n",
    "            <li><font color='red'>SET 4:</font>Review text, preprocessed one converted into vectors using (TFIDF W2v)</li>\n",
    "        </ul>\n",
    "    </li>\n",
    "    <br>\n",
    "    <li><strong>Hyper paramter tuning (find best hyper parameters corresponding the algorithm that you choose)</strong>\n",
    "        <ul>\n",
    "    <li>Find the best hyper parameter which will give the maximum <a href='https://www.appliedaicourse.com/course/applied-ai-course-online/lessons/receiver-operating-characteristic-curve-roc-curve-and-auc-1/'>AUC</a> value</li>\n",
    "    <li>Find the best hyper paramter using k-fold cross validation or simple cross validation data</li>\n",
    "    <li>Use gridsearch cv or randomsearch cv or you can also write your own for loops to do this task of hyperparameter tuning</li>          \n",
    "        </ul>\n",
    "    </li>\n",
    "    <br>\n",
    "    <li><strong>Pertubation Test</strong>\n",
    "        <ul>\n",
    "    <li>Get the weights W after fit your model with the data X i.e Train data.</li>\n",
    "    <li>Add a noise to the X (X' = X + e) and get the new data set X' (if X is a sparse\n",
    "matrix, X.data+=e)</li>\n",
    "    <li>Fit the model again on data X' and get the weights W'</li>\n",
    "    <li>Add a small eps value(to eliminate the divisible by zero error) to W and W’ i.e\n",
    "W=W+10^-6 and W’ = W’+10^-6</li>\n",
    "    <li>Now find the % change between W and W' (| (W-W') / (W) |)*100)</li>\n",
    "    <li>Calculate the 0th, 10th, 20th, 30th, ...100th percentiles, and observe any sudden rise in the values of percentage_change_vector</li>\n",
    "    <li> Ex: consider your 99th percentile is 1.3 and your 100th percentiles are 34.6, there is sudden rise from 1.3 to 34.6, now calculate the 99.1, 99.2, 99.3,..., 100th percentile values and get the proper value after which there is sudden rise the values, assume it is 2.5</li>\n",
    "            <li> Print the feature names whose % change is more than a threshold x(in our example it's 2.5)</li>\n",
    "        </ul>\n",
    "    </li>\n",
    "    <br>\n",
    "    <li><strong>Sparsity</strong>\n",
    "        <ul>\n",
    "    <li>Calculate sparsity on weight vector obtained after using L1 regularization</li>\n",
    "        </ul>\n",
    "    </li>\n",
    "    <br><font color='red'>NOTE: Do sparsity and multicollinearity for any one of the vectorizers. Bow or tf-idf is recommended.</font>\n",
    "    <br>\n",
    "    <br>\n",
    "    <li><strong>Feature importance</strong>\n",
    "        <ul>\n",
    "    <li>Get top 10 important features for both positive and negative classes separately.</li>\n",
    "        </ul>\n",
    "    </li>\n",
    "    <br>\n",
    "    <li><strong>Feature engineering</strong>\n",
    "        <ul>\n",
    "    <li>To increase the performance of your model, you can also experiment with with feature engineering like :</li>\n",
    "            <ul>\n",
    "            <li>Taking length of reviews as another feature.</li>\n",
    "            <li>Considering some features from review summary as well.</li>\n",
    "        </ul>\n",
    "        </ul>\n",
    "    </li>\n",
    "    <br>\n",
    "    <li><strong>Representation of results</strong>\n",
    "        <ul>\n",
    "    <li>You need to plot the performance of model both on train data and cross validation data for each hyper parameter, like shown in the figure.\n",
    "    <img src='train_cv_auc.JPG' width=300px></li>\n",
    "    <li>Once after you found the best hyper parameter, you need to train your model with it, and find the AUC on test data and plot the ROC curve on both train and test.\n",
    "    <img src='train_test_auc.JPG' width=300px></li>\n",
    "    <li>Along with plotting ROC curve, you need to print the <a href='https://www.appliedaicourse.com/course/applied-ai-course-online/lessons/confusion-matrix-tpr-fpr-fnr-tnr-1/'>confusion matrix</a> with predicted and original labels of test data points. Please visualize your confusion matrices using <a href='https://seaborn.pydata.org/generated/seaborn.heatmap.html'>seaborn heatmaps.\n",
    "    <img src='confusion_matrix.png' width=300px></li>\n",
    "        </ul>\n",
    "    </li>\n",
    "    <br>\n",
    "    <li><strong>Conclusion</strong>\n",
    "        <ul>\n",
    "    <li>You need to summarize the results at the end of the notebook, summarize it in the table format. To print out a table please refer to this prettytable library<a href='http://zetcode.com/python/prettytable/'>  link</a> \n",
    "        <img src='summary.JPG' width=400px>\n",
    "    </li>\n",
    "        </ul>\n",
    "</ol>"
   ]
  },
  {
   "cell_type": "markdown",
   "metadata": {
    "colab_type": "text",
    "id": "gilb-DOVLPo2"
   },
   "source": [
    "<h4><font color='red'>Note: Data Leakage</font></h4>\n",
    "\n",
    "1. There will be an issue of data-leakage if you vectorize the entire data and then split it into train/cv/test.\n",
    "2. To avoid the issue of data-leakag, make sure to split your data first and then vectorize it. \n",
    "3. While vectorizing your data, apply the method fit_transform() on you train data, and apply the method transform() on cv/test data.\n",
    "4. For more details please go through this <a href='https://soundcloud.com/applied-ai-course/leakage-bow-and-tfidf'>link.</a>"
   ]
  },
  {
   "cell_type": "markdown",
   "metadata": {},
   "source": [
    "#### Reading the csv file (Which is already saved on my system (saved while doing naive bayes assignment))\n"
   ]
  },
  {
   "cell_type": "code",
   "execution_count": 2,
   "metadata": {
    "collapsed": true
   },
   "outputs": [],
   "source": [
    "review_dataset_filtered = pd.read_csv('filtered_reviews_data.csv')"
   ]
  },
  {
   "cell_type": "code",
   "execution_count": 3,
   "metadata": {},
   "outputs": [
    {
     "data": {
      "text/plain": [
       "(364173, 12)"
      ]
     },
     "execution_count": 3,
     "metadata": {},
     "output_type": "execute_result"
    }
   ],
   "source": [
    "review_dataset_filtered.shape"
   ]
  },
  {
   "cell_type": "code",
   "execution_count": 4,
   "metadata": {
    "collapsed": true
   },
   "outputs": [],
   "source": [
    "#removing all the null value represnted rows (removing rows even if one column has na in entire 12 columns in given dataset)\n",
    "review_dataset_filtered.dropna(inplace=True)"
   ]
  },
  {
   "cell_type": "code",
   "execution_count": 5,
   "metadata": {},
   "outputs": [
    {
     "data": {
      "text/plain": [
       "(364158, 12)"
      ]
     },
     "execution_count": 5,
     "metadata": {},
     "output_type": "execute_result"
    }
   ],
   "source": [
    "review_dataset_filtered.shape"
   ]
  },
  {
   "cell_type": "code",
   "execution_count": 6,
   "metadata": {
    "collapsed": true
   },
   "outputs": [],
   "source": [
    "### As it is temporal data, I will be performing time-based splitting"
   ]
  },
  {
   "cell_type": "code",
   "execution_count": 7,
   "metadata": {
    "collapsed": true
   },
   "outputs": [],
   "source": [
    "#sorting the dataset according to time as we need time-based splitting\n",
    "review_dataset_final_sorted = review_dataset_filtered.sort_values(by ='Time',axis=0,ascending=True,inplace=False,kind='quicksort')"
   ]
  },
  {
   "cell_type": "code",
   "execution_count": 8,
   "metadata": {},
   "outputs": [
    {
     "data": {
      "text/html": [
       "<div>\n",
       "<style scoped>\n",
       "    .dataframe tbody tr th:only-of-type {\n",
       "        vertical-align: middle;\n",
       "    }\n",
       "\n",
       "    .dataframe tbody tr th {\n",
       "        vertical-align: top;\n",
       "    }\n",
       "\n",
       "    .dataframe thead th {\n",
       "        text-align: right;\n",
       "    }\n",
       "</style>\n",
       "<table border=\"1\" class=\"dataframe\">\n",
       "  <thead>\n",
       "    <tr style=\"text-align: right;\">\n",
       "      <th></th>\n",
       "      <th>Unnamed: 0</th>\n",
       "      <th>Id</th>\n",
       "      <th>ProductId</th>\n",
       "      <th>UserId</th>\n",
       "      <th>ProfileName</th>\n",
       "      <th>HelpfulnessNumerator</th>\n",
       "      <th>HelpfulnessDenominator</th>\n",
       "      <th>Score</th>\n",
       "      <th>Time</th>\n",
       "      <th>Summary</th>\n",
       "      <th>Text</th>\n",
       "      <th>Cleaned_text</th>\n",
       "    </tr>\n",
       "  </thead>\n",
       "  <tbody>\n",
       "    <tr>\n",
       "      <th>117926</th>\n",
       "      <td>150523</td>\n",
       "      <td>150524</td>\n",
       "      <td>0006641040</td>\n",
       "      <td>ACITT7DI6IDDL</td>\n",
       "      <td>shari zychinski</td>\n",
       "      <td>0</td>\n",
       "      <td>0</td>\n",
       "      <td>positive</td>\n",
       "      <td>939340800</td>\n",
       "      <td>EVERY book is educational</td>\n",
       "      <td>this witty little book makes my son laugh at l...</td>\n",
       "      <td>witti littl book make son laugh loud recit car...</td>\n",
       "    </tr>\n",
       "    <tr>\n",
       "      <th>117903</th>\n",
       "      <td>150500</td>\n",
       "      <td>150501</td>\n",
       "      <td>0006641040</td>\n",
       "      <td>AJ46FKXOVC7NR</td>\n",
       "      <td>Nicholas A Mesiano</td>\n",
       "      <td>2</td>\n",
       "      <td>2</td>\n",
       "      <td>positive</td>\n",
       "      <td>940809600</td>\n",
       "      <td>This whole series is great way to spend time w...</td>\n",
       "      <td>I can remember seeing the show when it aired o...</td>\n",
       "      <td>rememb see show air televis year ago child sis...</td>\n",
       "    </tr>\n",
       "    <tr>\n",
       "      <th>298794</th>\n",
       "      <td>451855</td>\n",
       "      <td>451856</td>\n",
       "      <td>B00004CXX9</td>\n",
       "      <td>AIUWLEQ1ADEG5</td>\n",
       "      <td>Elizabeth Medina</td>\n",
       "      <td>0</td>\n",
       "      <td>0</td>\n",
       "      <td>positive</td>\n",
       "      <td>944092800</td>\n",
       "      <td>Entertainingl Funny!</td>\n",
       "      <td>Beetlejuice is a well written movie ..... ever...</td>\n",
       "      <td>beetlejuic well written movi everyth excel act...</td>\n",
       "    </tr>\n",
       "    <tr>\n",
       "      <th>169283</th>\n",
       "      <td>230284</td>\n",
       "      <td>230285</td>\n",
       "      <td>B00004RYGX</td>\n",
       "      <td>A344SMIA5JECGM</td>\n",
       "      <td>Vincent P. Ross</td>\n",
       "      <td>1</td>\n",
       "      <td>2</td>\n",
       "      <td>positive</td>\n",
       "      <td>944438400</td>\n",
       "      <td>A modern day fairy tale</td>\n",
       "      <td>A twist of rumplestiskin captured on film, sta...</td>\n",
       "      <td>twist rumplestiskin captur film star michael k...</td>\n",
       "    </tr>\n",
       "    <tr>\n",
       "      <th>298793</th>\n",
       "      <td>451854</td>\n",
       "      <td>451855</td>\n",
       "      <td>B00004CXX9</td>\n",
       "      <td>AJH6LUC1UT1ON</td>\n",
       "      <td>The Phantom of the Opera</td>\n",
       "      <td>0</td>\n",
       "      <td>0</td>\n",
       "      <td>positive</td>\n",
       "      <td>946857600</td>\n",
       "      <td>FANTASTIC!</td>\n",
       "      <td>Beetlejuice is an excellent and funny movie. K...</td>\n",
       "      <td>beetlejuic excel funni movi keaton hilari wack...</td>\n",
       "    </tr>\n",
       "  </tbody>\n",
       "</table>\n",
       "</div>"
      ],
      "text/plain": [
       "        Unnamed: 0      Id   ProductId          UserId  \\\n",
       "117926      150523  150524  0006641040   ACITT7DI6IDDL   \n",
       "117903      150500  150501  0006641040   AJ46FKXOVC7NR   \n",
       "298794      451855  451856  B00004CXX9   AIUWLEQ1ADEG5   \n",
       "169283      230284  230285  B00004RYGX  A344SMIA5JECGM   \n",
       "298793      451854  451855  B00004CXX9   AJH6LUC1UT1ON   \n",
       "\n",
       "                     ProfileName  HelpfulnessNumerator  \\\n",
       "117926           shari zychinski                     0   \n",
       "117903        Nicholas A Mesiano                     2   \n",
       "298794          Elizabeth Medina                     0   \n",
       "169283           Vincent P. Ross                     1   \n",
       "298793  The Phantom of the Opera                     0   \n",
       "\n",
       "        HelpfulnessDenominator     Score       Time  \\\n",
       "117926                       0  positive  939340800   \n",
       "117903                       2  positive  940809600   \n",
       "298794                       0  positive  944092800   \n",
       "169283                       2  positive  944438400   \n",
       "298793                       0  positive  946857600   \n",
       "\n",
       "                                                  Summary  \\\n",
       "117926                          EVERY book is educational   \n",
       "117903  This whole series is great way to spend time w...   \n",
       "298794                               Entertainingl Funny!   \n",
       "169283                            A modern day fairy tale   \n",
       "298793                                         FANTASTIC!   \n",
       "\n",
       "                                                     Text  \\\n",
       "117926  this witty little book makes my son laugh at l...   \n",
       "117903  I can remember seeing the show when it aired o...   \n",
       "298794  Beetlejuice is a well written movie ..... ever...   \n",
       "169283  A twist of rumplestiskin captured on film, sta...   \n",
       "298793  Beetlejuice is an excellent and funny movie. K...   \n",
       "\n",
       "                                             Cleaned_text  \n",
       "117926  witti littl book make son laugh loud recit car...  \n",
       "117903  rememb see show air televis year ago child sis...  \n",
       "298794  beetlejuic well written movi everyth excel act...  \n",
       "169283  twist rumplestiskin captur film star michael k...  \n",
       "298793  beetlejuic excel funni movi keaton hilari wack...  "
      ]
     },
     "execution_count": 8,
     "metadata": {},
     "output_type": "execute_result"
    }
   ],
   "source": [
    "review_dataset_final_sorted.head()"
   ]
  },
  {
   "cell_type": "code",
   "execution_count": 9,
   "metadata": {
    "collapsed": true
   },
   "outputs": [],
   "source": [
    "labels = review_dataset_final_sorted['Score']"
   ]
  },
  {
   "cell_type": "code",
   "execution_count": 10,
   "metadata": {
    "collapsed": true
   },
   "outputs": [],
   "source": [
    "LABELS = labels.value_counts()"
   ]
  },
  {
   "cell_type": "code",
   "execution_count": 11,
   "metadata": {},
   "outputs": [
    {
     "data": {
      "image/png": "[encoded data removed]",
      "text/plain": [
       "<Figure size 576x396 with 1 Axes>"
      ]
     },
     "metadata": {},
     "output_type": "display_data"
    }
   ],
   "source": [
    "sns.barplot(LABELS.index,LABELS.values,alpha=0.8)\n",
    "plt.title(\"distribution of positive and negative classes in original dataset\")\n",
    "plt.xlabel(\"Positive  Negative\")\n",
    "plt.ylabel(\"Count\")\n",
    "plt.show()"
   ]
  },
  {
   "cell_type": "code",
   "execution_count": 12,
   "metadata": {},
   "outputs": [
    {
     "name": "stdout",
     "output_type": "stream",
     "text": [
      "POSITIVE class labels in original data is 84.32 %\n",
      "NEGATIVE class labels in original data is 15.68 %\n"
     ]
    }
   ],
   "source": [
    "print(f\"POSITIVE class labels in original data is {round(((labels.value_counts()[0]/review_dataset_final_sorted.shape[0])*100),2)} %\")\n",
    "print(f\"NEGATIVE class labels in original data is {round(((labels.value_counts()[1]/review_dataset_final_sorted.shape[0])*100),2)} %\")"
   ]
  },
  {
   "cell_type": "code",
   "execution_count": 13,
   "metadata": {
    "collapsed": true
   },
   "outputs": [],
   "source": [
    "#Now, let's take only 100k datapoints for computation because 300K+ would not be ideal to choose among\n",
    "review_dataset_final_sorted_sample = review_dataset_final_sorted.sample(n=100000)"
   ]
  },
  {
   "cell_type": "code",
   "execution_count": 14,
   "metadata": {
    "collapsed": true
   },
   "outputs": [],
   "source": [
    "#Now, let's make a check distribution of data or percentage of data present\n",
    "sample_labels = review_dataset_final_sorted_sample['Score'] "
   ]
  },
  {
   "cell_type": "code",
   "execution_count": 15,
   "metadata": {},
   "outputs": [
    {
     "data": {
      "text/plain": [
       "positive    84215\n",
       "negative    15785\n",
       "Name: Score, dtype: int64"
      ]
     },
     "execution_count": 15,
     "metadata": {},
     "output_type": "execute_result"
    }
   ],
   "source": [
    "sample_labels.value_counts()"
   ]
  },
  {
   "cell_type": "code",
   "execution_count": 16,
   "metadata": {},
   "outputs": [
    {
     "data": {
      "image/png": "[encoded data removed]",
      "text/plain": [
       "<Figure size 576x396 with 1 Axes>"
      ]
     },
     "metadata": {},
     "output_type": "display_data"
    }
   ],
   "source": [
    "sns.barplot(sample_labels.index,sample_labels.values,alpha=0.8)\n",
    "plt.title(\"distribution of positive and negative classes in original dataset\")\n",
    "plt.xlabel(\"Positive  Negative\")\n",
    "plt.ylabel(\"Count\")\n",
    "plt.show()"
   ]
  },
  {
   "cell_type": "code",
   "execution_count": 17,
   "metadata": {},
   "outputs": [
    {
     "name": "stdout",
     "output_type": "stream",
     "text": [
      "POSITIVE class labels in sample data is 84.21 %\n",
      "NEGATIVE class labels in sample data is 15.78 %\n"
     ]
    }
   ],
   "source": [
    "print(f\"POSITIVE class labels in sample data is {round(((sample_labels.value_counts()[0]/review_dataset_final_sorted_sample.shape[0])*100),2)} %\")\n",
    "print(f\"NEGATIVE class labels in sample data is {round(((sample_labels.value_counts()[1]/review_dataset_final_sorted_sample.shape[0])*100),2)} %\")"
   ]
  },
  {
   "cell_type": "markdown",
   "metadata": {},
   "source": [
    "So, it is almost same as our original dataset. Now, we can proceed on with further operations"
   ]
  },
  {
   "cell_type": "markdown",
   "metadata": {},
   "source": [
    "#### Actually it is reviews dataset. So,I think it is better if we perform time-based splitting rather than random split\n",
    "So, we will sort it first and then divide the data in 80:20 ratio and from train we can divide cross validation data"
   ]
  },
  {
   "cell_type": "code",
   "execution_count": 18,
   "metadata": {
    "collapsed": true
   },
   "outputs": [],
   "source": [
    "#sorting the dataset according to time as we need time-based splitting\n",
    "final_data = review_dataset_final_sorted_sample.sort_values(by ='Time',axis=0,ascending=True,inplace=False,kind='quicksort')"
   ]
  },
  {
   "cell_type": "code",
   "execution_count": 19,
   "metadata": {},
   "outputs": [
    {
     "data": {
      "text/plain": [
       "(100000, 12)"
      ]
     },
     "execution_count": 19,
     "metadata": {},
     "output_type": "execute_result"
    }
   ],
   "source": [
    "final_data.shape"
   ]
  },
  {
   "cell_type": "markdown",
   "metadata": {},
   "source": [
    "So, 80000 will be train data and 20000 will be test data"
   ]
  },
  {
   "cell_type": "code",
   "execution_count": 20,
   "metadata": {
    "collapsed": true
   },
   "outputs": [],
   "source": [
    "train_data = final_data['Cleaned_text'][:80000]\n",
    "test_data = final_data['Cleaned_text'][80000:]\n",
    "train_data_labels = final_data['Score'][:80000]\n",
    "test_data_labels = final_data['Score'][80000:]"
   ]
  },
  {
   "cell_type": "code",
   "execution_count": 21,
   "metadata": {},
   "outputs": [
    {
     "name": "stdout",
     "output_type": "stream",
     "text": [
      "positive labels distribution for TRAIN data 84.5\n",
      "negative labels distribution for TRAIN data 15.5\n"
     ]
    }
   ],
   "source": [
    "#TRAIN DATA\n",
    "print(f\"positive labels distribution for TRAIN data {round((train_data_labels.value_counts()[0]/train_data_labels.shape[0])*100,2)}\")\n",
    "print(f\"negative labels distribution for TRAIN data {round((train_data_labels.value_counts()[1]/train_data_labels.shape[0])*100,2)}\")"
   ]
  },
  {
   "cell_type": "code",
   "execution_count": 22,
   "metadata": {},
   "outputs": [
    {
     "name": "stdout",
     "output_type": "stream",
     "text": [
      "positive labels distribution for TEST data 83.06\n",
      "negative labels distribution for TEST data 16.94\n"
     ]
    }
   ],
   "source": [
    "#TEST DATA\n",
    "print(f\"positive labels distribution for TEST data {round((test_data_labels.value_counts()[0]/test_data_labels.shape[0])*100,2)}\")\n",
    "print(f\"negative labels distribution for TEST data {round((test_data_labels.value_counts()[1]/test_data_labels.shape[0])*100,2)}\")"
   ]
  },
  {
   "cell_type": "markdown",
   "metadata": {},
   "source": [
    "So, as we can see that there is slight variation in both distributions but it is fine to some extent"
   ]
  },
  {
   "cell_type": "code",
   "execution_count": null,
   "metadata": {
    "collapsed": true
   },
   "outputs": [],
   "source": []
  },
  {
   "cell_type": "markdown",
   "metadata": {
    "colab_type": "text",
    "id": "jiYocvSHLPo4"
   },
   "source": [
    "# Applying Logistic Regression"
   ]
  },
  {
   "cell_type": "code",
   "execution_count": 39,
   "metadata": {
    "collapsed": true
   },
   "outputs": [],
   "source": [
    "#importing all the necessary packages needed for Logistic regression\n",
    "from sklearn.model_selection import GridSearchCV\n",
    "from sklearn.linear_model import LogisticRegression"
   ]
  },
  {
   "cell_type": "markdown",
   "metadata": {
    "colab_type": "text",
    "id": "LE_XPVZJLPo4"
   },
   "source": [
    "## [5.1] Logistic Regression on BOW,<font color='red'> SET 1</font>"
   ]
  },
  {
   "cell_type": "markdown",
   "metadata": {
    "colab_type": "text",
    "id": "_iciJvj2LPo4"
   },
   "source": [
    "### [5.1.1] Applying Logistic Regression with L1 regularization on BOW,<font color='red'> SET 1</font>"
   ]
  },
  {
   "cell_type": "markdown",
   "metadata": {},
   "source": [
    "#### 1. Initially applying BOW on train data and then will apply BOW on test data"
   ]
  },
  {
   "cell_type": "code",
   "execution_count": 40,
   "metadata": {
    "colab": {},
    "colab_type": "code",
    "id": "MyOVi-xYLPo5"
   },
   "outputs": [
    {
     "name": "stdout",
     "output_type": "stream",
     "text": [
      "some feature names  ['aa', 'aaa', 'aaaaa', 'aaaaaaaaaaaaaaaaaaaargh', 'aaaaah', 'aaaah', 'aaaand', 'aaaarrrrghh', 'aaah', 'aachen']\n",
      "==================================================\n",
      "the type of count vectorizer  <class 'scipy.sparse.csr.csr_matrix'>\n",
      "the shape of out text BOW vectorizer  (80000, 34040)\n",
      "the number of unique words  34040\n"
     ]
    }
   ],
   "source": [
    "#BoW on train data\n",
    "count_vect = CountVectorizer() #in scikit-learn\n",
    "bow_train_data = count_vect.fit_transform(train_data)\n",
    "print(\"some feature names \", count_vect.get_feature_names()[:10])\n",
    "print('='*50)\n",
    "print(\"the type of count vectorizer \",type(bow_train_data))\n",
    "print(\"the shape of out text BOW vectorizer \",bow_train_data.get_shape())\n",
    "print(\"the number of unique words \", bow_train_data.get_shape()[1])"
   ]
  },
  {
   "cell_type": "code",
   "execution_count": 41,
   "metadata": {},
   "outputs": [
    {
     "data": {
      "text/plain": [
       "GridSearchCV(cv=3, error_score='raise-deprecating',\n",
       "       estimator=LogisticRegression(C=1.0, class_weight=None, dual=False, fit_intercept=True,\n",
       "          intercept_scaling=1, max_iter=100, multi_class='warn',\n",
       "          n_jobs=None, penalty='l1', random_state=None, solver='warn',\n",
       "          tol=0.0001, verbose=0, warm_start=False),\n",
       "       fit_params=None, iid='warn', n_jobs=None,\n",
       "       param_grid=[{'C': [0.0001, 0.01, 1, 100, 10000]}],\n",
       "       pre_dispatch='2*n_jobs', refit=True, return_train_score='warn',\n",
       "       scoring='roc_auc', verbose=0)"
      ]
     },
     "execution_count": 41,
     "metadata": {},
     "output_type": "execute_result"
    }
   ],
   "source": [
    "tuned_parameters = [{'C': [10**-4, 10**-2, 10**0, 10**2, 10**4]}]\n",
    "\n",
    "#using GridSearchCV\n",
    "model = GridSearchCV(LogisticRegression(penalty='l1'),tuned_parameters,scoring='roc_auc',cv=3)\n",
    "model.fit(bow_train_data,train_data_labels.values)\n"
   ]
  },
  {
   "cell_type": "code",
   "execution_count": 42,
   "metadata": {},
   "outputs": [
    {
     "name": "stdout",
     "output_type": "stream",
     "text": [
      "LogisticRegression(C=1, class_weight=None, dual=False, fit_intercept=True,\n",
      "          intercept_scaling=1, max_iter=100, multi_class='warn',\n",
      "          n_jobs=None, penalty='l1', random_state=None, solver='warn',\n",
      "          tol=0.0001, verbose=0, warm_start=False)\n"
     ]
    }
   ],
   "source": [
    "print(model.best_estimator_)"
   ]
  },
  {
   "cell_type": "code",
   "execution_count": 43,
   "metadata": {
    "collapsed": true
   },
   "outputs": [],
   "source": [
    "#https://stackoverflow.com/questions/38692520/what-is-the-difference-between-fit-transform-and-transform-in-sklearn-countvecto\n",
    "bow_test_data = count_vect.transform(test_data)"
   ]
  },
  {
   "cell_type": "code",
   "execution_count": 50,
   "metadata": {},
   "outputs": [
    {
     "name": "stdout",
     "output_type": "stream",
     "text": [
      "Train accuracy is 97.18%\n"
     ]
    }
   ],
   "source": [
    "print(f\"Train accuracy is {round(model.score(bow_train_data, train_data_labels.values)*100,2)}%\")"
   ]
  },
  {
   "cell_type": "code",
   "execution_count": 51,
   "metadata": {},
   "outputs": [
    {
     "name": "stdout",
     "output_type": "stream",
     "text": [
      "Test accuracy is 93.18%\n"
     ]
    }
   ],
   "source": [
    "print(f\"Test accuracy is {round(model.score(bow_test_data, test_data_labels.values)*100,2)}%\")"
   ]
  },
  {
   "cell_type": "markdown",
   "metadata": {
    "colab_type": "text",
    "id": "5h4NhywcLPo7"
   },
   "source": [
    "#### [5.1.1.1] Calculating sparsity on weight vector obtained using L1 regularization on BOW,<font color='red'> SET 1</font>"
   ]
  },
  {
   "cell_type": "code",
   "execution_count": 52,
   "metadata": {
    "colab": {},
    "colab_type": "code",
    "id": "-mmdLzUALPo-"
   },
   "outputs": [
    {
     "name": "stdout",
     "output_type": "stream",
     "text": [
      "4578\n"
     ]
    }
   ],
   "source": [
    "# Please write all the code with proper documentation\n",
    "l1_model = LogisticRegression(C=1.0,penalty='l1')\n",
    "l1_model.fit(bow_train_data,train_data_labels.values)\n",
    "weight_vec = l1_model.coef_\n",
    "print(np.count_nonzero(weight_vec))"
   ]
  },
  {
   "cell_type": "markdown",
   "metadata": {},
   "source": [
    "#### Confusion matrix and AUC Scores"
   ]
  },
  {
   "cell_type": "code",
   "execution_count": 53,
   "metadata": {
    "collapsed": true
   },
   "outputs": [],
   "source": [
    "predictions = l1_model.predict(bow_test_data)\n",
    "prediction_probability_test = l1_model.predict_proba(bow_test_data)\n",
    "prediction_probability_train = l1_model.predict_proba(bow_train_data)"
   ]
  },
  {
   "cell_type": "code",
   "execution_count": 54,
   "metadata": {},
   "outputs": [
    {
     "data": {
      "image/png": "[encoded data removed]",
      "text/plain": [
       "<Figure size 576x396 with 2 Axes>"
      ]
     },
     "metadata": {},
     "output_type": "display_data"
    }
   ],
   "source": [
    "# Code for drawing seaborn heatmaps\n",
    "class_names = ['positive','negative']\n",
    "heatmap_dataframe = pd.DataFrame(confusion_matrix(test_data_labels.values, predictions), index=class_names, columns=class_names )\n",
    "heatmap = sns.heatmap(heatmap_dataframe, annot=True, fmt=\"d\")\n",
    "\n",
    "# Setting tick labels for heatmap\n",
    "heatmap.xaxis.set_ticklabels(heatmap.xaxis.get_ticklabels())\n",
    "heatmap.yaxis.set_ticklabels(heatmap.yaxis.get_ticklabels())\n",
    "plt.xlabel('True label')\n",
    "plt.ylabel('Predicted label')\n",
    "plt.title(\"Confusion Matrix\")\n",
    "plt.show()"
   ]
  },
  {
   "cell_type": "code",
   "execution_count": 80,
   "metadata": {},
   "outputs": [
    {
     "name": "stdout",
     "output_type": "stream",
     "text": [
      "The AUC value for test data is 0.9318569699988875\n"
     ]
    },
    {
     "data": {
      "image/png": "[encoded data removed]",
      "text/plain": [
       "<Figure size 576x396 with 1 Axes>"
      ]
     },
     "metadata": {},
     "output_type": "display_data"
    }
   ],
   "source": [
    "#https://machinelearningmastery.com/roc-curves-and-precision-recall-curves-for-classification-in-python/\n",
    "#https://medium.com/greyatom/lets-learn-about-auc-roc-curve-4a94b4d88152\n",
    "#AUC and ROC Values\n",
    "\n",
    "fpr_train, tpr_train, threshold_train = roc_curve(train_data_labels, prediction_probability_train [:,1],pos_label='positive')\n",
    "fpr_test, tpr_test, threshold_test = roc_curve(test_data_labels, prediction_probability_test[:,1],pos_label='positive')\n",
    "print(f\"The AUC value for test data is {roc_auc_score(test_data_labels, prediction_probability_test[:,1])}\")\n",
    "\n",
    "plt.plot(fpr_train, tpr_train,'g', label = 'Train Data')\n",
    "plt.plot(fpr_test, tpr_test,'y', label = 'Test Data')\n",
    "plt.ylim(0,1)\n",
    "plt.legend(bbox_to_anchor=(1.05, 1), loc='upper left', borderaxespad=0.)\n",
    "plt.grid(True)\n",
    "plt.title(\"ROC Curve for Train and Test Data\")\n",
    "plt.xlabel(\"FPR\")\n",
    "plt.ylabel(\"TPR\")\n",
    "plt.show()"
   ]
  },
  {
   "cell_type": "code",
   "execution_count": null,
   "metadata": {
    "collapsed": true
   },
   "outputs": [],
   "source": []
  },
  {
   "cell_type": "markdown",
   "metadata": {
    "colab_type": "text",
    "id": "aRHMa52qLPpA"
   },
   "source": [
    "### [5.1.2] Applying Logistic Regression with L2 regularization on BOW,<font color='red'> SET 1</font>"
   ]
  },
  {
   "cell_type": "code",
   "execution_count": 101,
   "metadata": {
    "colab": {},
    "colab_type": "code",
    "id": "GBbb9lxlLPpB"
   },
   "outputs": [
    {
     "data": {
      "text/plain": [
       "GridSearchCV(cv=3, error_score='raise-deprecating',\n",
       "       estimator=LogisticRegression(C=1.0, class_weight=None, dual=False, fit_intercept=True,\n",
       "          intercept_scaling=1, max_iter=100, multi_class='warn',\n",
       "          n_jobs=None, penalty='l2', random_state=None, solver='warn',\n",
       "          tol=0.0001, verbose=0, warm_start=False),\n",
       "       fit_params=None, iid='warn', n_jobs=None,\n",
       "       param_grid=[{'C': [0.0001, 0.01, 1, 100, 10000]}],\n",
       "       pre_dispatch='2*n_jobs', refit=True, return_train_score='warn',\n",
       "       scoring='roc_auc', verbose=0)"
      ]
     },
     "execution_count": 101,
     "metadata": {},
     "output_type": "execute_result"
    }
   ],
   "source": [
    "# Please write all the code with proper documentation\n",
    "tuned_parameters = [{'C': [10**-4, 10**-2, 10**0, 10**2, 10**4]}]\n",
    "\n",
    "#using GridSearchCV\n",
    "model = GridSearchCV(LogisticRegression(penalty='l2'),tuned_parameters,scoring='roc_auc',cv=3)\n",
    "model.fit(bow_train_data,train_data_labels.values)\n"
   ]
  },
  {
   "cell_type": "code",
   "execution_count": 102,
   "metadata": {},
   "outputs": [
    {
     "name": "stdout",
     "output_type": "stream",
     "text": [
      "LogisticRegression(C=0.01, class_weight=None, dual=False, fit_intercept=True,\n",
      "          intercept_scaling=1, max_iter=100, multi_class='warn',\n",
      "          n_jobs=None, penalty='l2', random_state=None, solver='warn',\n",
      "          tol=0.0001, verbose=0, warm_start=False)\n"
     ]
    }
   ],
   "source": [
    "print(model.best_estimator_)"
   ]
  },
  {
   "cell_type": "code",
   "execution_count": 103,
   "metadata": {},
   "outputs": [
    {
     "name": "stdout",
     "output_type": "stream",
     "text": [
      "34040\n"
     ]
    }
   ],
   "source": [
    "l2_model = LogisticRegression(C=0.01,penalty='l2')\n",
    "l2_model.fit(bow_train_data,train_data_labels.values)\n",
    "weight_vec = l2_model.coef_\n",
    "print(np.count_nonzero(weight_vec))"
   ]
  },
  {
   "cell_type": "code",
   "execution_count": 104,
   "metadata": {},
   "outputs": [
    {
     "name": "stdout",
     "output_type": "stream",
     "text": [
      "Train accuracy is 91.11%\n"
     ]
    }
   ],
   "source": [
    "print(f\"Train accuracy is {round(l2_model.score(bow_train_data,train_data_labels.values)*100,2)}%\") #Test accuracy"
   ]
  },
  {
   "cell_type": "code",
   "execution_count": 105,
   "metadata": {},
   "outputs": [
    {
     "name": "stdout",
     "output_type": "stream",
     "text": [
      "Test accuracy is 89.73%\n"
     ]
    }
   ],
   "source": [
    "print(f\"Test accuracy is {round(l2_model.score(bow_test_data, test_data_labels.values)*100,2)}%\") #Test accuracy"
   ]
  },
  {
   "cell_type": "code",
   "execution_count": 106,
   "metadata": {
    "collapsed": true
   },
   "outputs": [],
   "source": [
    "predictions = l2_model.predict(bow_test_data)\n",
    "prediction_probability_test = l2_model.predict_proba(bow_test_data)\n",
    "prediction_probability_train = l2_model.predict_proba(bow_train_data)"
   ]
  },
  {
   "cell_type": "code",
   "execution_count": 107,
   "metadata": {},
   "outputs": [
    {
     "data": {
      "image/png": "[encoded data removed]",
      "text/plain": [
       "<Figure size 576x396 with 2 Axes>"
      ]
     },
     "metadata": {},
     "output_type": "display_data"
    }
   ],
   "source": [
    "# Code for drawing seaborn heatmaps\n",
    "class_names = ['positive','negative']\n",
    "heatmap_dataframe = pd.DataFrame(confusion_matrix(test_data_labels.values, predictions), index=class_names, columns=class_names )\n",
    "heatmap = sns.heatmap(heatmap_dataframe, annot=True, fmt=\"d\")\n",
    "\n",
    "# Setting tick labels for heatmap\n",
    "heatmap.xaxis.set_ticklabels(heatmap.xaxis.get_ticklabels())\n",
    "heatmap.yaxis.set_ticklabels(heatmap.yaxis.get_ticklabels())\n",
    "plt.xlabel('True label')\n",
    "plt.ylabel('Predicted label')\n",
    "plt.title(\"Confusion Matrix\")\n",
    "plt.show()"
   ]
  },
  {
   "cell_type": "code",
   "execution_count": 108,
   "metadata": {},
   "outputs": [
    {
     "name": "stdout",
     "output_type": "stream",
     "text": [
      "The AUC value for test data is 0.9329126470372093\n"
     ]
    },
    {
     "data": {
      "image/png": "[encoded data removed]",
      "text/plain": [
       "<Figure size 576x396 with 1 Axes>"
      ]
     },
     "metadata": {},
     "output_type": "display_data"
    }
   ],
   "source": [
    "fpr_train, tpr_train, threshold_train = roc_curve(train_data_labels, prediction_probability_train [:,1],pos_label='positive')\n",
    "fpr_test, tpr_test, threshold_test = roc_curve(test_data_labels, prediction_probability_test[:,1],pos_label='positive')\n",
    "print(f\"The AUC value for test data is {roc_auc_score(test_data_labels, prediction_probability_test[:,1])}\")\n",
    "\n",
    "plt.plot(fpr_train, tpr_train,'g', label = 'Train Data')\n",
    "plt.plot(fpr_test, tpr_test,'y', label = 'Test Data')\n",
    "plt.ylim(0,1)\n",
    "plt.legend(bbox_to_anchor=(1.05, 1), loc='upper left', borderaxespad=0.)\n",
    "plt.grid(True)\n",
    "plt.title(\"ROC Curve for Train and Test Data\")\n",
    "plt.xlabel(\"FPR\")\n",
    "plt.ylabel(\"TPR\")\n",
    "plt.show()"
   ]
  },
  {
   "cell_type": "code",
   "execution_count": 109,
   "metadata": {},
   "outputs": [
    {
     "data": {
      "text/plain": [
       "(1, 34040)"
      ]
     },
     "execution_count": 109,
     "metadata": {},
     "output_type": "execute_result"
    }
   ],
   "source": [
    "weight_vec.shape"
   ]
  },
  {
   "cell_type": "markdown",
   "metadata": {
    "colab_type": "text",
    "id": "UaJkugTKLPpE"
   },
   "source": [
    "#### [5.1.2.1] Performing pertubation test (multicollinearity check) on BOW,<font color='red'> SET 1</font>"
   ]
  },
  {
   "cell_type": "code",
   "execution_count": 110,
   "metadata": {
    "collapsed": true
   },
   "outputs": [],
   "source": [
    "import numpy as np"
   ]
  },
  {
   "cell_type": "code",
   "execution_count": 111,
   "metadata": {
    "colab": {},
    "colab_type": "code",
    "collapsed": true,
    "id": "E1c5B1nELPpF"
   },
   "outputs": [],
   "source": [
    "#To understand multicollinearity , we perform pertubation test.Actual Definition: a deviation of a system, moving object, or process from its regular or normal state or path, caused by an outside influence which even seems same what we thought of\n",
    "#bow_train_data is my original data , variable new_data is pertubated data , adding error value =,1\n",
    "\n",
    "#let's consider our error value from uniform distribution b/w +0.0001 and -0.0001\n",
    "error = np.random.uniform(-0.0001,0.0001,1 ) #error value which is to be added as a part of pertubation\n",
    "new_data = bow_train_data.astype(float) #new_data is pertubated data (as we are adding float value.So, it is recommended to use float value over there)\n",
    "new_data.data = new_data.data+error\n",
    "\n",
    "\n",
    "pertubated_model = LogisticRegression(C=0.01,penalty='l2') #using the values obtained at l2 regularization\n",
    "pertubated_model.fit(new_data,train_data_labels)\n",
    "pertubated_weight_vec = pertubated_model.coef_\n"
   ]
  },
  {
   "cell_type": "code",
   "execution_count": 112,
   "metadata": {},
   "outputs": [
    {
     "data": {
      "text/plain": [
       "<80000x34040 sparse matrix of type '<class 'numpy.int64'>'\n",
       "\twith 2522048 stored elements in Compressed Sparse Row format>"
      ]
     },
     "execution_count": 112,
     "metadata": {},
     "output_type": "execute_result"
    }
   ],
   "source": [
    "bow_train_data"
   ]
  },
  {
   "cell_type": "code",
   "execution_count": 113,
   "metadata": {},
   "outputs": [
    {
     "data": {
      "text/plain": [
       "(1, 34040)"
      ]
     },
     "execution_count": 113,
     "metadata": {},
     "output_type": "execute_result"
    }
   ],
   "source": [
    "pertubated_weight_vec.shape"
   ]
  },
  {
   "cell_type": "code",
   "execution_count": 114,
   "metadata": {
    "collapsed": true
   },
   "outputs": [],
   "source": [
    "l2_weight_vec = weight_vec+10**-6 #adding 10**-6 to avoid divison by zero error\n",
    "p_weight_vec = pertubated_weight_vec+10**-6 #adding 10**-6 to avoid divison by zero error"
   ]
  },
  {
   "cell_type": "code",
   "execution_count": 115,
   "metadata": {
    "collapsed": true
   },
   "outputs": [],
   "source": [
    "#percentage change\n",
    "percentage_change = (abs((l2_weight_vec - p_weight_vec)/l2_weight_vec)*100)"
   ]
  },
  {
   "cell_type": "code",
   "execution_count": 116,
   "metadata": {},
   "outputs": [
    {
     "data": {
      "text/plain": [
       "array([[ 0.00186035,  0.00175517,  0.0003536 , ...,  0.00048644,\n",
       "         0.00260827,  0.00329643]])"
      ]
     },
     "execution_count": 116,
     "metadata": {},
     "output_type": "execute_result"
    }
   ],
   "source": [
    "percentage_change"
   ]
  },
  {
   "cell_type": "code",
   "execution_count": 117,
   "metadata": {},
   "outputs": [
    {
     "name": "stdout",
     "output_type": "stream",
     "text": [
      "10th percentile value is 0.0011304274649346481\n",
      "20th percentile value is 0.002304258882984027\n",
      "30th percentile value is 0.0034516122733440685\n",
      "40th percentile value is 0.0045656470829227355\n",
      "50th percentile value is 0.005661931709816043\n",
      "60th percentile value is 0.0068176285735520896\n",
      "70th percentile value is 0.00807445293513242\n",
      "80th percentile value is 0.009449424201676423\n",
      "90th percentile value is 0.012544384508900365\n",
      "100th percentile value is 22.973575983298296\n"
     ]
    }
   ],
   "source": [
    "percentiles = [10,20,30,40,50,60,70,80,90,100]\n",
    "for each_percentile in percentiles:\n",
    "    print(f\"{each_percentile}th percentile value is {np.percentile(percentage_change,each_percentile)}\")"
   ]
  },
  {
   "cell_type": "markdown",
   "metadata": {},
   "source": [
    "mostly all of the values seem abnormal but b/w 90th and 100th percentile there is huge change. So, we will try to find b/w them "
   ]
  },
  {
   "cell_type": "code",
   "execution_count": 118,
   "metadata": {},
   "outputs": [
    {
     "name": "stdout",
     "output_type": "stream",
     "text": [
      "99.1th percentile value is 0.07910010315705121\n",
      "99.2th percentile value is 0.09093058087751701\n",
      "99.3th percentile value is 0.10745793501490912\n",
      "99.4th percentile value is 0.12276533415846307\n",
      "99.5th percentile value is 0.1438691173605509\n",
      "99.6th percentile value is 0.17063213460136128\n",
      "99.7th percentile value is 0.22968404506856513\n",
      "99.8th percentile value is 0.4164062723484683\n",
      "99.9th percentile value is 0.952100064403833\n",
      "100th percentile value is 22.973575983298296\n"
     ]
    }
   ],
   "source": [
    "percentiles = [99.1,99.2,99.3,99.4,99.5,99.6,99.7,99.8,99.9,100]\n",
    "for each_percentile in percentiles:\n",
    "    print(f\"{each_percentile}th percentile value is {np.percentile(percentage_change,each_percentile)}\")"
   ]
  },
  {
   "cell_type": "code",
   "execution_count": 119,
   "metadata": {},
   "outputs": [
    {
     "name": "stdout",
     "output_type": "stream",
     "text": [
      "99.0th percentile value is 0.06744852272295626\n",
      "99.1th percentile value is 0.07910010315705121\n",
      "99.2th percentile value is 0.09093058087751701\n",
      "99.3th percentile value is 0.10745793501490912\n",
      "99.4th percentile value is 0.12276533415846307\n",
      "99.5th percentile value is 0.1438691173605509\n",
      "99.6th percentile value is 0.17063213460136128\n",
      "99.7th percentile value is 0.22968404506856513\n",
      "99.8th percentile value is 0.4164062723484683\n",
      "99.9th percentile value is 0.952100064403833\n",
      "100.0th percentile value is 22.973575983298296\n"
     ]
    },
    {
     "data": {
      "text/plain": [
       "[<matplotlib.lines.Line2D at 0x292b4362978>]"
      ]
     },
     "execution_count": 119,
     "metadata": {},
     "output_type": "execute_result"
    },
    {
     "data": {
      "image/png": "[encoded data removed]",
      "text/plain": [
       "<Figure size 576x396 with 1 Axes>"
      ]
     },
     "metadata": {},
     "output_type": "display_data"
    }
   ],
   "source": [
    "percentiles = np.linspace(99,100,11)\n",
    "for each_percentile in percentiles:\n",
    "    print(f\"{each_percentile}th percentile value is {np.percentile(percentage_change,each_percentile)}\")\n",
    "\n",
    "plt.plot(percentiles,np.percentile(percentage_change,percentiles) )"
   ]
  },
  {
   "cell_type": "markdown",
   "metadata": {},
   "source": [
    "So, let's consider our threshold as >0.75, will try to find the features which have similar value"
   ]
  },
  {
   "cell_type": "code",
   "execution_count": 120,
   "metadata": {},
   "outputs": [
    {
     "name": "stdout",
     "output_type": "stream",
     "text": [
      "% of features which didnot change by more than 0.69 is 99.87074030552292\n"
     ]
    }
   ],
   "source": [
    "no_of_multicollinear_features = percentage_change[np.where(percentage_change>0.69)].size\n",
    "print(f\"% of features which didnot change by more than 0.69 is {(l2_weight_vec.size-no_of_multicollinear_features)/l2_weight_vec.size*100}\")"
   ]
  },
  {
   "cell_type": "markdown",
   "metadata": {},
   "source": [
    "#### So, only very small percentage of features have changed. So, we can conclude that there is no multi-collinearity"
   ]
  },
  {
   "cell_type": "code",
   "execution_count": 121,
   "metadata": {},
   "outputs": [
    {
     "name": "stdout",
     "output_type": "stream",
     "text": [
      "% of features which didnot change by more than 0.69 is 99.87074030552292\n"
     ]
    }
   ],
   "source": [
    "print(f\"% of features which didnot change by more than 0.69 is {(l2_weight_vec.size-no_of_multicollinear_features)/l2_weight_vec.size*100}\")"
   ]
  },
  {
   "cell_type": "raw",
   "metadata": {
    "collapsed": true
   },
   "source": [
    "# https://gist.github.com/larsmans/3745866\n",
    "# https://stackoverflow.com/questions/15361885/linking-text-feature-names-to-their-tfidf-value\n",
    "\n",
    "# https://stackoverflow.com/questions/51462979/how-to-get-feature-importance-in-logistic-regression-using-weights"
   ]
  },
  {
   "cell_type": "markdown",
   "metadata": {
    "colab_type": "text",
    "id": "eB1rF0BQLPpG"
   },
   "source": [
    "### [5.1.3] Feature Importance on BOW,<font color='red'> SET 1</font>"
   ]
  },
  {
   "cell_type": "markdown",
   "metadata": {
    "colab_type": "text",
    "id": "JZTP19dqLPpI"
   },
   "source": [
    "#### [5.1.3.1] Top 10 important features of positive class from<font color='red'> SET 1</font>"
   ]
  },
  {
   "cell_type": "code",
   "execution_count": 122,
   "metadata": {
    "colab": {},
    "colab_type": "code",
    "id": "oGRpCVJgLPpI"
   },
   "outputs": [
    {
     "name": "stdout",
     "output_type": "stream",
     "text": [
      "Top 10 important features of positive reviews are : ['delici' 'great' 'best' 'perfect' 'excel' 'love' 'nice' 'amaz' 'thank'\n",
      " 'favorit']\n"
     ]
    }
   ],
   "source": [
    "imp_feat_df = pd.DataFrame(weight_vec.T,columns=['positive'])\n",
    "imp_feat_df['feature'] = count_vect.get_feature_names()\n",
    "top_features = imp_feat_df.sort_values(by='positive',kind='quicksort',ascending=False) # ascending=False because we want to arrange in descending order\n",
    "print(f\"Top 10 important features of positive reviews are : {np.array(top_features['feature'][:10])}\")"
   ]
  },
  {
   "cell_type": "markdown",
   "metadata": {
    "colab_type": "text",
    "id": "UJLYBE1gLPpJ"
   },
   "source": [
    "#### [5.1.3.2] Top 10 important features of negative class from<font color='red'> SET 1</font>"
   ]
  },
  {
   "cell_type": "code",
   "execution_count": 123,
   "metadata": {
    "colab": {},
    "colab_type": "code",
    "id": "c9r7Zjx1LPpK"
   },
   "outputs": [
    {
     "name": "stdout",
     "output_type": "stream",
     "text": [
      "Top 10 important features of negative reviews are : ['bland' 'threw' 'return' 'unfortun' 'money' 'horribl' 'terribl' 'aw'\n",
      " 'worst' 'disappoint']\n"
     ]
    }
   ],
   "source": [
    "print(f\"Top 10 important features of negative reviews are : {np.array(top_features['feature'].tail(10))}\") #tail becuase we know last values will be negative when top of them are positive"
   ]
  },
  {
   "cell_type": "markdown",
   "metadata": {
    "colab_type": "text",
    "id": "nKn3VXcZLPpN"
   },
   "source": [
    "## [5.2] Logistic Regression on TFIDF,<font color='red'> SET 2</font>"
   ]
  },
  {
   "cell_type": "markdown",
   "metadata": {
    "colab_type": "text",
    "id": "naTBSzm6LPpN"
   },
   "source": [
    "### [5.2.1] Applying Logistic Regression with L1 regularization on TFIDF,<font color='red'> SET 2</font>"
   ]
  },
  {
   "cell_type": "code",
   "execution_count": 124,
   "metadata": {
    "colab": {},
    "colab_type": "code",
    "id": "PEhaagXXLPpS"
   },
   "outputs": [
    {
     "name": "stdout",
     "output_type": "stream",
     "text": [
      "some sample features(unique words in the corpus) ['aback', 'abandon', 'abdomin', 'abil', 'abl', 'abl add', 'abl buy', 'abl chew', 'abl drink', 'abl eat']\n",
      "==================================================\n",
      "the type of count vectorizer  <class 'scipy.sparse.csr.csr_matrix'>\n",
      "the shape of out text TFIDF vectorizer  (80000, 48758)\n",
      "the number of unique words including both unigrams and bigrams  48758\n"
     ]
    }
   ],
   "source": [
    "# Please write all the code with proper documentation\n",
    "tf_idf_vectorizer = TfidfVectorizer(ngram_range=(1,2),min_df=10)\n",
    "tf_idf_train_data = tf_idf_vectorizer.fit_transform(train_data)\n",
    "print(\"some sample features(unique words in the corpus)\",tf_idf_vectorizer.get_feature_names()[0:10])\n",
    "print('='*50)\n",
    "print(\"the type of count vectorizer \",type(tf_idf_train_data))\n",
    "print(\"the shape of out text TFIDF vectorizer \",tf_idf_train_data.get_shape())\n",
    "print(\"the number of unique words including both unigrams and bigrams \", tf_idf_train_data.get_shape()[1])"
   ]
  },
  {
   "cell_type": "markdown",
   "metadata": {
    "colab_type": "text",
    "id": "NdFShHQJLPpV"
   },
   "source": [
    "### [5.2.2] Applying Logistic Regression with L2 regularization on TFIDF,<font color='red'> SET 2</font>"
   ]
  },
  {
   "cell_type": "code",
   "execution_count": 125,
   "metadata": {
    "collapsed": true
   },
   "outputs": [],
   "source": [
    "#https://stackoverflow.com/questions/1557571/how-do-i-get-time-of-a-python-programs-execution\n",
    "import timeit"
   ]
  },
  {
   "cell_type": "code",
   "execution_count": 126,
   "metadata": {
    "colab": {},
    "colab_type": "code",
    "id": "Jyhq3JDzLPpW"
   },
   "outputs": [
    {
     "name": "stdout",
     "output_type": "stream",
     "text": [
      "Program Executed in 54.1976971\n"
     ]
    }
   ],
   "source": [
    "# Please write all the code with proper documentation\n",
    "tuned_parameters = [{'C': [10**-4, 10**-2, 10**0, 10**2, 10**4]}]\n",
    "\n",
    "start = timeit.default_timer() #program starting time\n",
    "\n",
    "#using GridSearchCV\n",
    "model = GridSearchCV(LogisticRegression(penalty='l2'),tuned_parameters,scoring='roc_auc',cv=3)\n",
    "model.fit(tf_idf_train_data,train_data_labels.values)\n",
    "\n",
    "stop = timeit.default_timer()  #program end time\n",
    "execution_time = stop - start  #total execution time\n",
    "\n",
    "print(f\"Program Executed in {execution_time}\") #It returns time in sec"
   ]
  },
  {
   "cell_type": "code",
   "execution_count": 127,
   "metadata": {},
   "outputs": [
    {
     "name": "stdout",
     "output_type": "stream",
     "text": [
      "LogisticRegression(C=1, class_weight=None, dual=False, fit_intercept=True,\n",
      "          intercept_scaling=1, max_iter=100, multi_class='warn',\n",
      "          n_jobs=None, penalty='l2', random_state=None, solver='warn',\n",
      "          tol=0.0001, verbose=0, warm_start=False)\n"
     ]
    }
   ],
   "source": [
    "print(model.best_estimator_)"
   ]
  },
  {
   "cell_type": "code",
   "execution_count": 128,
   "metadata": {
    "collapsed": true
   },
   "outputs": [],
   "source": [
    "tf_idf_test_data = tf_idf_vectorizer.transform(test_data)"
   ]
  },
  {
   "cell_type": "code",
   "execution_count": 129,
   "metadata": {},
   "outputs": [
    {
     "name": "stdout",
     "output_type": "stream",
     "text": [
      "48758\n"
     ]
    }
   ],
   "source": [
    "l2_model = LogisticRegression(C=1,penalty='l2')\n",
    "l2_model.fit(tf_idf_train_data,train_data_labels.values)\n",
    "weight_vec = l2_model.coef_\n",
    "print(np.count_nonzero(weight_vec))"
   ]
  },
  {
   "cell_type": "code",
   "execution_count": 130,
   "metadata": {},
   "outputs": [
    {
     "name": "stdout",
     "output_type": "stream",
     "text": [
      "Train accuracy is 93.88%\n"
     ]
    }
   ],
   "source": [
    "print(f\"Train accuracy is {round(l2_model.score(tf_idf_train_data,train_data_labels.values)*100,2)}%\") #Test accuracy"
   ]
  },
  {
   "cell_type": "code",
   "execution_count": 131,
   "metadata": {},
   "outputs": [
    {
     "name": "stdout",
     "output_type": "stream",
     "text": [
      "Test accuracy is 91.54%\n"
     ]
    }
   ],
   "source": [
    "print(f\"Test accuracy is {round(l2_model.score(tf_idf_test_data,test_data_labels.values)*100,2)}%\")"
   ]
  },
  {
   "cell_type": "code",
   "execution_count": 132,
   "metadata": {
    "collapsed": true
   },
   "outputs": [],
   "source": [
    "predictions = l2_model.predict(tf_idf_test_data)\n",
    "prediction_probability_test = l2_model.predict_proba(tf_idf_test_data)\n",
    "prediction_probability_train = l2_model.predict_proba(tf_idf_train_data)"
   ]
  },
  {
   "cell_type": "code",
   "execution_count": 133,
   "metadata": {},
   "outputs": [
    {
     "data": {
      "image/png": "[encoded data removed]",
      "text/plain": [
       "<Figure size 576x396 with 2 Axes>"
      ]
     },
     "metadata": {},
     "output_type": "display_data"
    }
   ],
   "source": [
    "# Code for drawing seaborn heatmaps\n",
    "class_names = ['positive','negative']\n",
    "heatmap_dataframe = pd.DataFrame(confusion_matrix(test_data_labels.values, predictions), index=class_names, columns=class_names )\n",
    "heatmap = sns.heatmap(heatmap_dataframe, annot=True, fmt=\"d\")\n",
    "\n",
    "# Setting tick labels for heatmap\n",
    "heatmap.xaxis.set_ticklabels(heatmap.xaxis.get_ticklabels())\n",
    "heatmap.yaxis.set_ticklabels(heatmap.yaxis.get_ticklabels())\n",
    "plt.xlabel('True label')\n",
    "plt.ylabel('Predicted label')\n",
    "plt.title(\"Confusion Matrix\")\n",
    "plt.show()"
   ]
  },
  {
   "cell_type": "code",
   "execution_count": 134,
   "metadata": {},
   "outputs": [
    {
     "name": "stdout",
     "output_type": "stream",
     "text": [
      "The AUC value for test data is 0.9561577036437138\n"
     ]
    },
    {
     "data": {
      "image/png": "[encoded data removed]",
      "text/plain": [
       "<Figure size 576x396 with 1 Axes>"
      ]
     },
     "metadata": {},
     "output_type": "display_data"
    }
   ],
   "source": [
    "fpr_train, tpr_train, threshold_train = roc_curve(train_data_labels, prediction_probability_train [:,1],pos_label='positive')\n",
    "fpr_test, tpr_test, threshold_test = roc_curve(test_data_labels, prediction_probability_test[:,1],pos_label='positive')\n",
    "print(f\"The AUC value for test data is {roc_auc_score(test_data_labels, prediction_probability_test[:,1])}\")\n",
    "\n",
    "plt.plot(fpr_train, tpr_train,'g', label = 'Train Data')\n",
    "plt.plot(fpr_test, tpr_test,'y', label = 'Test Data')\n",
    "plt.ylim(0,1)\n",
    "plt.legend(bbox_to_anchor=(1.05, 1), loc='upper left', borderaxespad=0.)\n",
    "plt.grid(True)\n",
    "plt.title(\"ROC Curve for Train and Test Data\")\n",
    "plt.xlabel(\"FPR\")\n",
    "plt.ylabel(\"TPR\")\n",
    "plt.show()"
   ]
  },
  {
   "cell_type": "markdown",
   "metadata": {
    "colab_type": "text",
    "id": "xeeJ8eVvLPpX"
   },
   "source": [
    "### [5.2.3] Feature Importance on TFIDF,<font color='red'> SET 2</font>"
   ]
  },
  {
   "cell_type": "markdown",
   "metadata": {
    "colab_type": "text",
    "id": "Cj9XEmqQLPpY"
   },
   "source": [
    "#### [5.2.3.1] Top 10 important features of positive class from<font color='red'> SET 2</font>"
   ]
  },
  {
   "cell_type": "code",
   "execution_count": 135,
   "metadata": {
    "colab": {},
    "colab_type": "code",
    "id": "RG10txygLPpb"
   },
   "outputs": [
    {
     "name": "stdout",
     "output_type": "stream",
     "text": [
      "Top 10 important features of positive reviews are : ['great' 'best' 'love' 'delici' 'perfect' 'excel' 'good' 'high recommend'\n",
      " 'nice' 'favorit']\n"
     ]
    }
   ],
   "source": [
    "imp_feat_df = pd.DataFrame(weight_vec.T,columns=['positive'])\n",
    "imp_feat_df['feature'] = tf_idf_vectorizer.get_feature_names()\n",
    "top_features = imp_feat_df.sort_values(by='positive',kind='quicksort',ascending=False) # ascending=False because we want to arrange in descending order\n",
    "print(f\"Top 10 important features of positive reviews are : {np.array(top_features['feature'][:10])}\")"
   ]
  },
  {
   "cell_type": "markdown",
   "metadata": {
    "colab_type": "text",
    "id": "PowEfns4LPpg"
   },
   "source": [
    "#### [5.2.3.2] Top 10 important features of negative class from<font color='red'> SET 2</font>"
   ]
  },
  {
   "cell_type": "code",
   "execution_count": 136,
   "metadata": {
    "colab": {},
    "colab_type": "code",
    "id": "G7jrma95LPpg"
   },
   "outputs": [
    {
     "name": "stdout",
     "output_type": "stream",
     "text": [
      "Top 10 important features of negative reviews are : ['money' 'bland' 'threw' 'return' 'unfortun' 'horribl' 'terribl' 'aw'\n",
      " 'worst' 'disappoint']\n"
     ]
    }
   ],
   "source": [
    "print(f\"Top 10 important features of negative reviews are : {np.array(top_features['feature'].tail(10))}\") #tail becuase we know last values will be negative when top of them are positive"
   ]
  },
  {
   "cell_type": "code",
   "execution_count": 94,
   "metadata": {
    "collapsed": true
   },
   "outputs": [],
   "source": [
    "#saving features for future use\n",
    "np.savez('bow_train_and_test_data.npz',bow_train_data,bow_test_data)"
   ]
  },
  {
   "cell_type": "code",
   "execution_count": 95,
   "metadata": {
    "collapsed": true
   },
   "outputs": [],
   "source": [
    "np.savez('tf_idf_train_and_test_data.npz',tf_idf_train_data,tf_idf_test_data)"
   ]
  },
  {
   "cell_type": "markdown",
   "metadata": {
    "colab_type": "text",
    "id": "sqYadGOgLPpi"
   },
   "source": [
    "## [5.3] Logistic Regression on AVG W2V,<font color='red'> SET 3</font>"
   ]
  },
  {
   "cell_type": "markdown",
   "metadata": {
    "colab_type": "text",
    "id": "kByBCEA1LPpj"
   },
   "source": [
    "### [5.3.1] Applying Logistic Regression with L1 regularization on AVG W2V<font color='red'> SET 3</font>"
   ]
  },
  {
   "cell_type": "code",
   "execution_count": 197,
   "metadata": {
    "colab": {},
    "colab_type": "code",
    "collapsed": true,
    "id": "yCQ_4iJkLPpj"
   },
   "outputs": [],
   "source": [
    "# Train your own Word2Vec model using your own text corpus with train_data\n",
    "list_of_sentences_train=[]\n",
    "for sentance in train_data:\n",
    "    list_of_sentences_train.append(sentance.split())"
   ]
  },
  {
   "cell_type": "code",
   "execution_count": 198,
   "metadata": {
    "collapsed": true
   },
   "outputs": [],
   "source": [
    "#training W2V using test data\n",
    "list_of_sentences_test=[]\n",
    "for sentance in test_data:\n",
    "    list_of_sentences_test.append(sentance.split())"
   ]
  },
  {
   "cell_type": "code",
   "execution_count": 199,
   "metadata": {},
   "outputs": [
    {
     "name": "stdout",
     "output_type": "stream",
     "text": [
      "number of words that occured minimum 5 times  11536\n"
     ]
    }
   ],
   "source": [
    "# Train your own Word2Vec model using your own text corpus with train_data with min_count = 5\n",
    "w2v_model=Word2Vec(list_of_sentences_train,min_count=5,size=50, workers=4)\n",
    "\n",
    "w2v_words = list(w2v_model.wv.vocab)\n",
    "print(\"number of words that occured minimum 5 times \",len(w2v_words))"
   ]
  },
  {
   "cell_type": "code",
   "execution_count": 200,
   "metadata": {},
   "outputs": [
    {
     "name": "stderr",
     "output_type": "stream",
     "text": [
      "100%|███████████████████████████████████████████████████████████████████████████| 80000/80000 [04:19<00:00, 307.76it/s]\n"
     ]
    }
   ],
   "source": [
    "#computing avgW2V for train data (for each review)\n",
    "train_vectors = []; # the avg-w2v for each sentence/review is stored in this list\n",
    "for sent in tqdm(list_of_sentences_train): # for each review/sentence\n",
    "    sent_vec = np.zeros(50) # as word vectors are of zero length 50, you might need to change this to 300 if you use google's w2v\n",
    "    cnt_words =0; # num of words with a valid vector in the sentence/review\n",
    "    for word in sent: # for each word in a review/sentence\n",
    "        if word in w2v_words:\n",
    "            vec = w2v_model.wv[word]\n",
    "            sent_vec += vec\n",
    "            cnt_words += 1\n",
    "    if cnt_words != 0:\n",
    "        sent_vec /= cnt_words\n",
    "    train_vectors.append(sent_vec)\n"
   ]
  },
  {
   "cell_type": "code",
   "execution_count": 201,
   "metadata": {},
   "outputs": [
    {
     "name": "stderr",
     "output_type": "stream",
     "text": [
      "100%|███████████████████████████████████████████████████████████████████████████| 20000/20000 [00:49<00:00, 400.73it/s]\n"
     ]
    }
   ],
   "source": [
    "#computing avgW2V for train data (for each review)\n",
    "test_vectors = []; # the avg-w2v for each sentence/review is stored in this list\n",
    "for sent in tqdm(list_of_sentences_test): # for each review/sentence\n",
    "    sent_vec = np.zeros(50) # as word vectors are of zero length 50, you might need to change this to 300 if you use google's w2v\n",
    "    cnt_words =0; # num of words with a valid vector in the sentence/review\n",
    "    for word in sent: # for each word in a review/sentence\n",
    "        if word in w2v_words:\n",
    "            vec = w2v_model.wv[word]\n",
    "            sent_vec += vec\n",
    "            cnt_words += 1\n",
    "    if cnt_words != 0:\n",
    "        sent_vec /= cnt_words\n",
    "    test_vectors.append(sent_vec)\n"
   ]
  },
  {
   "cell_type": "code",
   "execution_count": 103,
   "metadata": {
    "collapsed": true
   },
   "outputs": [],
   "source": [
    "#np.savez('avgW2V_train_and_test.npz',train_vectors,test_vectors)"
   ]
  },
  {
   "cell_type": "code",
   "execution_count": 158,
   "metadata": {
    "collapsed": true
   },
   "outputs": [],
   "source": [
    "#avgW2V = np.load('avgW2V_train_and_test.npz')"
   ]
  },
  {
   "cell_type": "code",
   "execution_count": 159,
   "metadata": {},
   "outputs": [
    {
     "data": {
      "text/plain": [
       "['arr_0', 'arr_1']"
      ]
     },
     "execution_count": 159,
     "metadata": {},
     "output_type": "execute_result"
    }
   ],
   "source": [
    "#avgW2V.files"
   ]
  },
  {
   "cell_type": "code",
   "execution_count": 160,
   "metadata": {},
   "outputs": [],
   "source": [
    "#train_vectors = avgW2V['arr_0']"
   ]
  },
  {
   "cell_type": "code",
   "execution_count": 161,
   "metadata": {
    "collapsed": true
   },
   "outputs": [],
   "source": [
    "#test_vectors = avgW2V['arr_1']"
   ]
  },
  {
   "cell_type": "code",
   "execution_count": 202,
   "metadata": {
    "collapsed": true
   },
   "outputs": [],
   "source": [
    "# Data-preprocessing: Standardizing the data , We can even proceed without standardizing but if we standardize our data then whole values will be in same range.So, we are doing it\n",
    "from sklearn.preprocessing import StandardScaler\n",
    "standardization = StandardScaler()\n",
    "train_vector_standardized =standardization.fit_transform(train_vectors)\n",
    "test_vector_standardized = standardization.transform(test_vectors)"
   ]
  },
  {
   "cell_type": "code",
   "execution_count": 203,
   "metadata": {},
   "outputs": [
    {
     "data": {
      "text/plain": [
       "GridSearchCV(cv=3, error_score='raise-deprecating',\n",
       "       estimator=LogisticRegression(C=1.0, class_weight=None, dual=False, fit_intercept=True,\n",
       "          intercept_scaling=1, max_iter=100, multi_class='warn',\n",
       "          n_jobs=None, penalty='l1', random_state=None, solver='warn',\n",
       "          tol=0.0001, verbose=0, warm_start=False),\n",
       "       fit_params=None, iid='warn', n_jobs=None,\n",
       "       param_grid=[{'C': [0.0001, 0.01, 1, 100, 10000]}],\n",
       "       pre_dispatch='2*n_jobs', refit=True, return_train_score='warn',\n",
       "       scoring='roc_auc', verbose=0)"
      ]
     },
     "execution_count": 203,
     "metadata": {},
     "output_type": "execute_result"
    }
   ],
   "source": [
    "# Please write all the code with proper documentation\n",
    "tuned_parameters = [{'C': [10**-4, 10**-2, 10**0, 10**2, 10**4]}]\n",
    "\n",
    "#using GridSearchCV\n",
    "model = GridSearchCV(LogisticRegression(penalty='l1'),tuned_parameters,scoring='roc_auc',cv=3)\n",
    "model.fit(train_vector_standardized,train_data_labels.values)\n"
   ]
  },
  {
   "cell_type": "code",
   "execution_count": 204,
   "metadata": {},
   "outputs": [
    {
     "name": "stdout",
     "output_type": "stream",
     "text": [
      "LogisticRegression(C=1, class_weight=None, dual=False, fit_intercept=True,\n",
      "          intercept_scaling=1, max_iter=100, multi_class='warn',\n",
      "          n_jobs=None, penalty='l1', random_state=None, solver='warn',\n",
      "          tol=0.0001, verbose=0, warm_start=False)\n"
     ]
    }
   ],
   "source": [
    "print(model.best_estimator_)"
   ]
  },
  {
   "cell_type": "code",
   "execution_count": 205,
   "metadata": {},
   "outputs": [
    {
     "data": {
      "text/plain": [
       "LogisticRegression(C=1, class_weight=None, dual=False, fit_intercept=True,\n",
       "          intercept_scaling=1, max_iter=100, multi_class='warn',\n",
       "          n_jobs=None, penalty='l1', random_state=None, solver='warn',\n",
       "          tol=0.0001, verbose=0, warm_start=False)"
      ]
     },
     "execution_count": 205,
     "metadata": {},
     "output_type": "execute_result"
    }
   ],
   "source": [
    "l1_model = LogisticRegression(C=1,penalty='l1')\n",
    "l1_model.fit(train_vector_standardized,train_data_labels.values)"
   ]
  },
  {
   "cell_type": "code",
   "execution_count": 206,
   "metadata": {},
   "outputs": [
    {
     "name": "stdout",
     "output_type": "stream",
     "text": [
      "Train accuracy is 89.21%\n",
      "Test accuracy is 88.34%\n"
     ]
    }
   ],
   "source": [
    "print(f\"Train accuracy is {round(l1_model.score(train_vector_standardized,train_data_labels.values)*100,2)}%\")\n",
    "print(f\"Test accuracy is {round(l1_model.score(test_vector_standardized,test_data_labels.values)*100,2)}%\")"
   ]
  },
  {
   "cell_type": "code",
   "execution_count": 207,
   "metadata": {
    "collapsed": true
   },
   "outputs": [],
   "source": [
    "predictions = l1_model.predict(test_vector_standardized)\n",
    "prediction_probability_test = l1_model.predict_proba(test_vector_standardized)\n",
    "prediction_probability_train = l1_model.predict_proba(train_vector_standardized)"
   ]
  },
  {
   "cell_type": "code",
   "execution_count": 208,
   "metadata": {},
   "outputs": [
    {
     "data": {
      "image/png": "[encoded data removed]",
      "text/plain": [
       "<Figure size 576x396 with 2 Axes>"
      ]
     },
     "metadata": {},
     "output_type": "display_data"
    }
   ],
   "source": [
    "# Code for drawing seaborn heatmaps\n",
    "class_names = ['positive','negative']\n",
    "heatmap_dataframe = pd.DataFrame(confusion_matrix(test_data_labels.values, predictions), index=class_names, columns=class_names )\n",
    "heatmap = sns.heatmap(heatmap_dataframe, annot=True, fmt=\"d\")\n",
    "\n",
    "# Setting tick labels for heatmap\n",
    "heatmap.xaxis.set_ticklabels(heatmap.xaxis.get_ticklabels())\n",
    "heatmap.yaxis.set_ticklabels(heatmap.yaxis.get_ticklabels())\n",
    "plt.xlabel('True label')\n",
    "plt.ylabel('Predicted label')\n",
    "plt.title(\"Confusion Matrix\")\n",
    "plt.show()"
   ]
  },
  {
   "cell_type": "code",
   "execution_count": 209,
   "metadata": {},
   "outputs": [
    {
     "name": "stdout",
     "output_type": "stream",
     "text": [
      "The AUC value for test data is 0.9077587954627114\n"
     ]
    },
    {
     "data": {
      "image/png": "[encoded data removed]",
      "text/plain": [
       "<Figure size 576x396 with 1 Axes>"
      ]
     },
     "metadata": {},
     "output_type": "display_data"
    }
   ],
   "source": [
    "fpr_train, tpr_train, threshold_train = roc_curve(train_data_labels, prediction_probability_train [:,1],pos_label='positive')\n",
    "fpr_test, tpr_test, threshold_test = roc_curve(test_data_labels, prediction_probability_test[:,1],pos_label='positive')\n",
    "print(f\"The AUC value for test data is {roc_auc_score(test_data_labels, prediction_probability_test[:,1])}\")\n",
    "\n",
    "plt.plot(fpr_train, tpr_train,'g', label = 'Train Data')\n",
    "plt.plot(fpr_test, tpr_test,'y', label = 'Test Data')\n",
    "plt.ylim(0,1)\n",
    "plt.legend(bbox_to_anchor=(1.05, 1), loc='upper left', borderaxespad=0.)\n",
    "plt.grid(True)\n",
    "plt.title(\"ROC Curve for Train and Test Data\")\n",
    "plt.xlabel(\"FPR\")\n",
    "plt.ylabel(\"TPR\")\n",
    "plt.show()"
   ]
  },
  {
   "cell_type": "markdown",
   "metadata": {
    "colab_type": "text",
    "id": "O_8Gu2SfLPpn"
   },
   "source": [
    "### [5.3.2] Applying Logistic Regression with L2 regularization on AVG W2V,<font color='red'> SET 3</font>"
   ]
  },
  {
   "cell_type": "code",
   "execution_count": 210,
   "metadata": {
    "colab": {},
    "colab_type": "code",
    "id": "Zy3s4jk1LPpn"
   },
   "outputs": [
    {
     "data": {
      "text/plain": [
       "GridSearchCV(cv=3, error_score='raise-deprecating',\n",
       "       estimator=LogisticRegression(C=1.0, class_weight=None, dual=False, fit_intercept=True,\n",
       "          intercept_scaling=1, max_iter=100, multi_class='warn',\n",
       "          n_jobs=None, penalty='l2', random_state=None, solver='warn',\n",
       "          tol=0.0001, verbose=0, warm_start=False),\n",
       "       fit_params=None, iid='warn', n_jobs=None,\n",
       "       param_grid=[{'C': [0.0001, 0.01, 1, 100, 10000]}],\n",
       "       pre_dispatch='2*n_jobs', refit=True, return_train_score='warn',\n",
       "       scoring='roc_auc', verbose=0)"
      ]
     },
     "execution_count": 210,
     "metadata": {},
     "output_type": "execute_result"
    }
   ],
   "source": [
    "# Please write all the code with proper documentation\n",
    "tuned_parameters = [{'C': [10**-4, 10**-2, 10**0, 10**2, 10**4]}]\n",
    "\n",
    "#using GridSearchCV\n",
    "model = GridSearchCV(LogisticRegression(penalty='l2'),tuned_parameters,scoring='roc_auc',cv=3)\n",
    "model.fit(train_vector_standardized,train_data_labels.values)\n"
   ]
  },
  {
   "cell_type": "code",
   "execution_count": 211,
   "metadata": {},
   "outputs": [
    {
     "name": "stdout",
     "output_type": "stream",
     "text": [
      "LogisticRegression(C=0.01, class_weight=None, dual=False, fit_intercept=True,\n",
      "          intercept_scaling=1, max_iter=100, multi_class='warn',\n",
      "          n_jobs=None, penalty='l2', random_state=None, solver='warn',\n",
      "          tol=0.0001, verbose=0, warm_start=False)\n"
     ]
    }
   ],
   "source": [
    "print(model.best_estimator_)"
   ]
  },
  {
   "cell_type": "code",
   "execution_count": 212,
   "metadata": {},
   "outputs": [
    {
     "data": {
      "text/plain": [
       "LogisticRegression(C=0.01, class_weight=None, dual=False, fit_intercept=True,\n",
       "          intercept_scaling=1, max_iter=100, multi_class='warn',\n",
       "          n_jobs=None, penalty='l2', random_state=None, solver='warn',\n",
       "          tol=0.0001, verbose=0, warm_start=False)"
      ]
     },
     "execution_count": 212,
     "metadata": {},
     "output_type": "execute_result"
    }
   ],
   "source": [
    "l2_model = LogisticRegression(C=0.01,penalty='l2')\n",
    "l2_model.fit(train_vector_standardized,train_data_labels.values)"
   ]
  },
  {
   "cell_type": "code",
   "execution_count": 213,
   "metadata": {},
   "outputs": [
    {
     "name": "stdout",
     "output_type": "stream",
     "text": [
      "Train accuracy is 89.17%\n",
      "Test accuracy is 88.33%\n"
     ]
    }
   ],
   "source": [
    "print(f\"Train accuracy is {round(l2_model.score(train_vector_standardized,train_data_labels.values)*100,2)}%\")\n",
    "print(f\"Test accuracy is {round(l2_model.score(test_vector_standardized,test_data_labels.values)*100,2)}%\")"
   ]
  },
  {
   "cell_type": "code",
   "execution_count": 214,
   "metadata": {
    "collapsed": true
   },
   "outputs": [],
   "source": [
    "predictions = l2_model.predict(test_vector_standardized)\n",
    "prediction_probability_test = l2_model.predict_proba(test_vector_standardized)\n",
    "prediction_probability_train = l2_model.predict_proba(train_vector_standardized)"
   ]
  },
  {
   "cell_type": "code",
   "execution_count": 215,
   "metadata": {},
   "outputs": [
    {
     "data": {
      "image/png": "[encoded data removed]",
      "text/plain": [
       "<Figure size 576x396 with 2 Axes>"
      ]
     },
     "metadata": {},
     "output_type": "display_data"
    }
   ],
   "source": [
    "# Code for drawing seaborn heatmaps\n",
    "class_names = ['positive','negative']\n",
    "heatmap_dataframe = pd.DataFrame(confusion_matrix(test_data_labels.values, predictions), index=class_names, columns=class_names )\n",
    "heatmap = sns.heatmap(heatmap_dataframe, annot=True, fmt=\"d\")\n",
    "\n",
    "# Setting tick labels for heatmap\n",
    "heatmap.xaxis.set_ticklabels(heatmap.xaxis.get_ticklabels())\n",
    "heatmap.yaxis.set_ticklabels(heatmap.yaxis.get_ticklabels())\n",
    "plt.xlabel('True label')\n",
    "plt.ylabel('Predicted label')\n",
    "plt.title(\"Confusion Matrix\")\n",
    "plt.show()"
   ]
  },
  {
   "cell_type": "code",
   "execution_count": 216,
   "metadata": {},
   "outputs": [
    {
     "name": "stdout",
     "output_type": "stream",
     "text": [
      "The AUC value for test data is 0.9076082839019297\n"
     ]
    },
    {
     "data": {
      "image/png": "[encoded data removed]",
      "text/plain": [
       "<Figure size 576x396 with 1 Axes>"
      ]
     },
     "metadata": {},
     "output_type": "display_data"
    }
   ],
   "source": [
    "fpr_train, tpr_train, threshold_train = roc_curve(train_data_labels, prediction_probability_train [:,1],pos_label='positive')\n",
    "fpr_test, tpr_test, threshold_test = roc_curve(test_data_labels, prediction_probability_test[:,1],pos_label='positive')\n",
    "print(f\"The AUC value for test data is {roc_auc_score(test_data_labels, prediction_probability_test[:,1])}\")\n",
    "\n",
    "plt.plot(fpr_train, tpr_train,'g', label = 'Train Data')\n",
    "plt.plot(fpr_test, tpr_test,'y', label = 'Test Data')\n",
    "plt.ylim(0,1)\n",
    "plt.legend(bbox_to_anchor=(1.05, 1), loc='upper left', borderaxespad=0.)\n",
    "plt.grid(True)\n",
    "plt.title(\"ROC Curve for Train and Test Data\")\n",
    "plt.xlabel(\"FPR\")\n",
    "plt.ylabel(\"TPR\")\n",
    "plt.show()"
   ]
  },
  {
   "cell_type": "markdown",
   "metadata": {
    "colab_type": "text",
    "id": "pdXTwVIPLPpp"
   },
   "source": [
    "## [5.4] Logistic Regression on TFIDF W2V,<font color='red'> SET 4</font>"
   ]
  },
  {
   "cell_type": "markdown",
   "metadata": {
    "colab_type": "text",
    "id": "WP9NjwNSLPpp"
   },
   "source": [
    "### [5.4.1] Applying Logistic Regression with L1 regularization on TFIDF W2V,<font color='red'> SET 4</font>"
   ]
  },
  {
   "cell_type": "code",
   "execution_count": 217,
   "metadata": {
    "colab": {},
    "colab_type": "code",
    "id": "207gYymwLPpq"
   },
   "outputs": [
    {
     "name": "stderr",
     "output_type": "stream",
     "text": [
      "100%|██████████████████████████████████████████████████████████████████████████| 80000/80000 [2:32:40<00:00,  8.73it/s]\n"
     ]
    }
   ],
   "source": [
    "# Please write all the code with proper documentation\n",
    "#I am using tfidf_train and test which is already done in previous steps and also using Only Word2Vec from previous one\n",
    "dictionary = dict(zip(tf_idf_vectorizer.get_feature_names(), list(tf_idf_vectorizer.idf_)))\n",
    "tfidf_features = tf_idf_vectorizer.get_feature_names()\n",
    "tfidf_sent_train = []; # the tfidf-w2v for each sentence/review is stored in this list\n",
    "row=0;\n",
    "for sent in tqdm(list_of_sentences_train): # for each review/sentence \n",
    "    sent_vec = np.zeros(50) # as word vectors are of zero length\n",
    "    weight_sum =0; # num of words with a valid vector in the sentence/review\n",
    "    for word in sent: # for each word in a review/sentence\n",
    "        if word in w2v_words and word in tfidf_features:\n",
    "            vec = w2v_model.wv[word]\n",
    "            #  tf_idf = tf_idf_matrix[row, tfidf_feat.index(word)]\n",
    "            # to reduce the computation we are \n",
    "            # dictionary[word] = idf value of word in whole courpus\n",
    "            # sent.count(word) = tf valeus of word in this review\n",
    "            tf_idf = dictionary[word]*(sent.count(word)/len(sent))\n",
    "            sent_vec += (vec * tf_idf)\n",
    "            weight_sum += tf_idf\n",
    "    if weight_sum != 0:\n",
    "        sent_vec /= weight_sum\n",
    "    tfidf_sent_train.append(sent_vec)\n",
    "    row += 1"
   ]
  },
  {
   "cell_type": "code",
   "execution_count": 218,
   "metadata": {},
   "outputs": [
    {
     "name": "stderr",
     "output_type": "stream",
     "text": [
      "100%|████████████████████████████████████████████████████████████████████████████| 20000/20000 [32:12<00:00, 10.35it/s]\n"
     ]
    }
   ],
   "source": [
    "#test-data (for test data)\n",
    "dictionary = dict(zip(tf_idf_vectorizer.get_feature_names(), list(tf_idf_vectorizer.idf_)))\n",
    "tfidf_features = tf_idf_vectorizer.get_feature_names()\n",
    "tfidf_sent_test = []; # the tfidf-w2v for each sentence/review is stored in this list\n",
    "row=0;\n",
    "for sent in tqdm(list_of_sentences_test): # for each review/sentence \n",
    "    sent_vec = np.zeros(50) # as word vectors are of zero length\n",
    "    weight_sum =0; # num of words with a valid vector in the sentence/review\n",
    "    for word in sent: # for each word in a review/sentence\n",
    "        if word in w2v_words and word in tfidf_features:\n",
    "            vec = w2v_model.wv[word]\n",
    "            #  tf_idf = tf_idf_matrix[row, tfidf_feat.index(word)]\n",
    "            # to reduce the computation we are \n",
    "            # dictionary[word] = idf value of word in whole courpus\n",
    "            # sent.count(word) = tf valeus of word in this review\n",
    "            tf_idf = dictionary[word]*(sent.count(word)/len(sent))\n",
    "            sent_vec += (vec * tf_idf)\n",
    "            weight_sum += tf_idf\n",
    "    if weight_sum != 0:\n",
    "        sent_vec /= weight_sum\n",
    "    tfidf_sent_test.append(sent_vec)\n",
    "    row += 1"
   ]
  },
  {
   "cell_type": "code",
   "execution_count": 118,
   "metadata": {
    "collapsed": true
   },
   "outputs": [],
   "source": [
    "#np.savez('tf_idf_W2V_train_and_test.npz',tfidf_sent_train,tfidf_sent_test)"
   ]
  },
  {
   "cell_type": "code",
   "execution_count": 177,
   "metadata": {
    "collapsed": true
   },
   "outputs": [],
   "source": [
    "#tfidfW2V = np.load('tf_idf_W2V_train_and_test.npz')"
   ]
  },
  {
   "cell_type": "code",
   "execution_count": 178,
   "metadata": {
    "collapsed": true
   },
   "outputs": [],
   "source": [
    "#tfidf_sent_train = tfidfW2V['arr_0']"
   ]
  },
  {
   "cell_type": "code",
   "execution_count": 179,
   "metadata": {
    "collapsed": true
   },
   "outputs": [],
   "source": [
    "#tfidf_sent_test = tfidfW2V['arr_1']"
   ]
  },
  {
   "cell_type": "code",
   "execution_count": 219,
   "metadata": {
    "collapsed": true
   },
   "outputs": [],
   "source": [
    "# Data-preprocessing: Standardizing the data , We can even proceed without standardizing but if we standardize our data then whole values will be in same range.So, we are doing it\n",
    "from sklearn.preprocessing import StandardScaler\n",
    "standardization = StandardScaler()\n",
    "tfidf_sent_train_standardized =standardization.fit_transform(tfidf_sent_train)\n",
    "tfidf_sent_test_standardized = standardization.transform(tfidf_sent_test)"
   ]
  },
  {
   "cell_type": "code",
   "execution_count": 220,
   "metadata": {},
   "outputs": [
    {
     "data": {
      "text/plain": [
       "GridSearchCV(cv=3, error_score='raise-deprecating',\n",
       "       estimator=LogisticRegression(C=1.0, class_weight=None, dual=False, fit_intercept=True,\n",
       "          intercept_scaling=1, max_iter=100, multi_class='warn',\n",
       "          n_jobs=None, penalty='l1', random_state=None, solver='warn',\n",
       "          tol=0.0001, verbose=0, warm_start=False),\n",
       "       fit_params=None, iid='warn', n_jobs=None,\n",
       "       param_grid=[{'C': [0.0001, 0.01, 1, 100, 10000]}],\n",
       "       pre_dispatch='2*n_jobs', refit=True, return_train_score='warn',\n",
       "       scoring='roc_auc', verbose=0)"
      ]
     },
     "execution_count": 220,
     "metadata": {},
     "output_type": "execute_result"
    }
   ],
   "source": [
    "# Please write all the code with proper documentation\n",
    "tuned_parameters = [{'C': [10**-4, 10**-2, 10**0, 10**2, 10**4]}]\n",
    "\n",
    "#using GridSearchCV\n",
    "model = GridSearchCV(LogisticRegression(penalty='l1'),tuned_parameters,scoring='roc_auc',cv=3)\n",
    "model.fit(tfidf_sent_train_standardized,train_data_labels.values)\n"
   ]
  },
  {
   "cell_type": "code",
   "execution_count": 221,
   "metadata": {},
   "outputs": [
    {
     "name": "stdout",
     "output_type": "stream",
     "text": [
      "LogisticRegression(C=1, class_weight=None, dual=False, fit_intercept=True,\n",
      "          intercept_scaling=1, max_iter=100, multi_class='warn',\n",
      "          n_jobs=None, penalty='l1', random_state=None, solver='warn',\n",
      "          tol=0.0001, verbose=0, warm_start=False)\n"
     ]
    }
   ],
   "source": [
    "print(model.best_estimator_)"
   ]
  },
  {
   "cell_type": "code",
   "execution_count": 222,
   "metadata": {},
   "outputs": [
    {
     "data": {
      "text/plain": [
       "LogisticRegression(C=1, class_weight=None, dual=False, fit_intercept=True,\n",
       "          intercept_scaling=1, max_iter=100, multi_class='warn',\n",
       "          n_jobs=None, penalty='l1', random_state=None, solver='warn',\n",
       "          tol=0.0001, verbose=0, warm_start=False)"
      ]
     },
     "execution_count": 222,
     "metadata": {},
     "output_type": "execute_result"
    }
   ],
   "source": [
    "l1_model = LogisticRegression(C=1,penalty='l1')\n",
    "l1_model.fit(tfidf_sent_train_standardized,train_data_labels.values)"
   ]
  },
  {
   "cell_type": "code",
   "execution_count": 223,
   "metadata": {},
   "outputs": [
    {
     "name": "stdout",
     "output_type": "stream",
     "text": [
      "Train accuracy is 87.86%\n",
      "Test accuracy is 87.2%\n"
     ]
    }
   ],
   "source": [
    "print(f\"Train accuracy is {round(l1_model.score(tfidf_sent_train_standardized,train_data_labels.values)*100,2)}%\")\n",
    "print(f\"Test accuracy is {round(l1_model.score(tfidf_sent_test_standardized,test_data_labels.values)*100,2)}%\")"
   ]
  },
  {
   "cell_type": "code",
   "execution_count": 224,
   "metadata": {
    "collapsed": true
   },
   "outputs": [],
   "source": [
    "predictions = l1_model.predict(tfidf_sent_test_standardized)\n",
    "prediction_probability_test = l1_model.predict_proba(tfidf_sent_test_standardized)\n",
    "prediction_probability_train = l1_model.predict_proba(tfidf_sent_train_standardized)"
   ]
  },
  {
   "cell_type": "code",
   "execution_count": 225,
   "metadata": {},
   "outputs": [
    {
     "data": {
      "image/png": "[encoded data removed]",
      "text/plain": [
       "<Figure size 576x396 with 2 Axes>"
      ]
     },
     "metadata": {},
     "output_type": "display_data"
    }
   ],
   "source": [
    "# Code for drawing seaborn heatmaps\n",
    "class_names = ['positive','negative']\n",
    "heatmap_dataframe = pd.DataFrame(confusion_matrix(test_data_labels.values, predictions), index=class_names, columns=class_names )\n",
    "heatmap = sns.heatmap(heatmap_dataframe, annot=True, fmt=\"d\")\n",
    "\n",
    "# Setting tick labels for heatmap\n",
    "heatmap.xaxis.set_ticklabels(heatmap.xaxis.get_ticklabels())\n",
    "heatmap.yaxis.set_ticklabels(heatmap.yaxis.get_ticklabels())\n",
    "plt.xlabel('True label')\n",
    "plt.ylabel('Predicted label')\n",
    "plt.title(\"Confusion Matrix\")\n",
    "plt.show()"
   ]
  },
  {
   "cell_type": "code",
   "execution_count": 226,
   "metadata": {},
   "outputs": [
    {
     "name": "stdout",
     "output_type": "stream",
     "text": [
      "The AUC value for test data is 0.879929646636763\n"
     ]
    },
    {
     "data": {
      "image/png": "[encoded data removed]",
      "text/plain": [
       "<Figure size 576x396 with 1 Axes>"
      ]
     },
     "metadata": {},
     "output_type": "display_data"
    }
   ],
   "source": [
    "fpr_train, tpr_train, threshold_train = roc_curve(train_data_labels, prediction_probability_train [:,1],pos_label='positive')\n",
    "fpr_test, tpr_test, threshold_test = roc_curve(test_data_labels, prediction_probability_test[:,1],pos_label='positive')\n",
    "print(f\"The AUC value for test data is {roc_auc_score(test_data_labels, prediction_probability_test[:,1])}\")\n",
    "\n",
    "plt.plot(fpr_train, tpr_train,'g', label = 'Train Data')\n",
    "plt.plot(fpr_test, tpr_test,'y', label = 'Test Data')\n",
    "plt.ylim(0,1)\n",
    "plt.legend(bbox_to_anchor=(1.05, 1), loc='upper left', borderaxespad=0.)\n",
    "plt.grid(True)\n",
    "plt.title(\"ROC Curve for Train and Test Data\")\n",
    "plt.xlabel(\"FPR\")\n",
    "plt.ylabel(\"TPR\")\n",
    "plt.show()"
   ]
  },
  {
   "cell_type": "markdown",
   "metadata": {
    "colab_type": "text",
    "id": "ynUK2tYDLPps"
   },
   "source": [
    "### [5.4.2] Applying Logistic Regression with L2 regularization on TFIDF W2V,<font color='red'> SET 4</font>"
   ]
  },
  {
   "cell_type": "code",
   "execution_count": 227,
   "metadata": {
    "colab": {},
    "colab_type": "code",
    "id": "hVYuiXl2LPpt"
   },
   "outputs": [
    {
     "data": {
      "text/plain": [
       "GridSearchCV(cv=3, error_score='raise-deprecating',\n",
       "       estimator=LogisticRegression(C=1.0, class_weight=None, dual=False, fit_intercept=True,\n",
       "          intercept_scaling=1, max_iter=100, multi_class='warn',\n",
       "          n_jobs=None, penalty='l2', random_state=None, solver='warn',\n",
       "          tol=0.0001, verbose=0, warm_start=False),\n",
       "       fit_params=None, iid='warn', n_jobs=None,\n",
       "       param_grid=[{'C': [0.0001, 0.01, 1, 100, 10000]}],\n",
       "       pre_dispatch='2*n_jobs', refit=True, return_train_score='warn',\n",
       "       scoring='roc_auc', verbose=0)"
      ]
     },
     "execution_count": 227,
     "metadata": {},
     "output_type": "execute_result"
    }
   ],
   "source": [
    "# Please write all the code with proper documentation\n",
    "tuned_parameters = [{'C': [10**-4, 10**-2, 10**0, 10**2, 10**4]}]\n",
    "\n",
    "#using GridSearchCV\n",
    "model = GridSearchCV(LogisticRegression(penalty='l2'),tuned_parameters,scoring='roc_auc',cv=3)\n",
    "model.fit(tfidf_sent_train_standardized,train_data_labels.values)\n"
   ]
  },
  {
   "cell_type": "code",
   "execution_count": 228,
   "metadata": {},
   "outputs": [
    {
     "name": "stdout",
     "output_type": "stream",
     "text": [
      "LogisticRegression(C=0.01, class_weight=None, dual=False, fit_intercept=True,\n",
      "          intercept_scaling=1, max_iter=100, multi_class='warn',\n",
      "          n_jobs=None, penalty='l2', random_state=None, solver='warn',\n",
      "          tol=0.0001, verbose=0, warm_start=False)\n"
     ]
    }
   ],
   "source": [
    "print(model.best_estimator_)"
   ]
  },
  {
   "cell_type": "code",
   "execution_count": 229,
   "metadata": {},
   "outputs": [
    {
     "data": {
      "text/plain": [
       "LogisticRegression(C=0.01, class_weight=None, dual=False, fit_intercept=True,\n",
       "          intercept_scaling=1, max_iter=100, multi_class='warn',\n",
       "          n_jobs=None, penalty='l2', random_state=None, solver='warn',\n",
       "          tol=0.0001, verbose=0, warm_start=False)"
      ]
     },
     "execution_count": 229,
     "metadata": {},
     "output_type": "execute_result"
    }
   ],
   "source": [
    "l2_model = LogisticRegression(C=0.01,penalty='l2')\n",
    "l2_model.fit(tfidf_sent_train_standardized,train_data_labels.values)"
   ]
  },
  {
   "cell_type": "code",
   "execution_count": 230,
   "metadata": {},
   "outputs": [
    {
     "name": "stdout",
     "output_type": "stream",
     "text": [
      "Train accuracy is 87.79%\n",
      "Test accuracy is 87.14%\n"
     ]
    }
   ],
   "source": [
    "print(f\"Train accuracy is {round(l2_model.score(tfidf_sent_train_standardized,train_data_labels.values)*100,2)}%\")\n",
    "print(f\"Test accuracy is {round(l2_model.score(tfidf_sent_test_standardized,test_data_labels.values)*100,2)}%\")"
   ]
  },
  {
   "cell_type": "code",
   "execution_count": 231,
   "metadata": {
    "collapsed": true
   },
   "outputs": [],
   "source": [
    "predictions = l2_model.predict(tfidf_sent_test_standardized)\n",
    "prediction_probability_test = l2_model.predict_proba(tfidf_sent_test_standardized)\n",
    "prediction_probability_train = l2_model.predict_proba(tfidf_sent_train_standardized)"
   ]
  },
  {
   "cell_type": "code",
   "execution_count": 232,
   "metadata": {},
   "outputs": [
    {
     "data": {
      "image/png": "[encoded data removed]",
      "text/plain": [
       "<Figure size 576x396 with 2 Axes>"
      ]
     },
     "metadata": {},
     "output_type": "display_data"
    }
   ],
   "source": [
    "# Code for drawing seaborn heatmaps\n",
    "class_names = ['positive','negative']\n",
    "heatmap_dataframe = pd.DataFrame(confusion_matrix(test_data_labels.values, predictions), index=class_names, columns=class_names )\n",
    "heatmap = sns.heatmap(heatmap_dataframe, annot=True, fmt=\"d\")\n",
    "\n",
    "# Setting tick labels for heatmap\n",
    "heatmap.xaxis.set_ticklabels(heatmap.xaxis.get_ticklabels())\n",
    "heatmap.yaxis.set_ticklabels(heatmap.yaxis.get_ticklabels())\n",
    "plt.xlabel('True label')\n",
    "plt.ylabel('Predicted label')\n",
    "plt.title(\"Confusion Matrix\")\n",
    "plt.show()"
   ]
  },
  {
   "cell_type": "code",
   "execution_count": 233,
   "metadata": {},
   "outputs": [
    {
     "name": "stdout",
     "output_type": "stream",
     "text": [
      "The AUC value for test data is 0.8799096802736899\n"
     ]
    },
    {
     "data": {
      "image/png": "[encoded data removed]",
      "text/plain": [
       "<Figure size 576x396 with 1 Axes>"
      ]
     },
     "metadata": {},
     "output_type": "display_data"
    }
   ],
   "source": [
    "fpr_train, tpr_train, threshold_train = roc_curve(train_data_labels, prediction_probability_train [:,1],pos_label='positive')\n",
    "fpr_test, tpr_test, threshold_test = roc_curve(test_data_labels, prediction_probability_test[:,1],pos_label='positive')\n",
    "print(f\"The AUC value for test data is {roc_auc_score(test_data_labels, prediction_probability_test[:,1])}\")\n",
    "\n",
    "plt.plot(fpr_train, tpr_train,'g', label = 'Train Data')\n",
    "plt.plot(fpr_test, tpr_test,'y', label = 'Test Data')\n",
    "plt.ylim(0,1)\n",
    "plt.legend(bbox_to_anchor=(1.05, 1), loc='upper left', borderaxespad=0.)\n",
    "plt.grid(True)\n",
    "plt.title(\"ROC Curve for Train and Test Data\")\n",
    "plt.xlabel(\"FPR\")\n",
    "plt.ylabel(\"TPR\")\n",
    "plt.show()"
   ]
  },
  {
   "cell_type": "markdown",
   "metadata": {
    "colab_type": "text",
    "id": "nOvsBNf2LPpv"
   },
   "source": [
    "# [6] Conclusions"
   ]
  },
  {
   "cell_type": "markdown",
   "metadata": {
    "colab": {},
    "colab_type": "code",
    "collapsed": true,
    "id": "T7VxD0q2LPpw"
   },
   "source": [
    "\n",
    "1. Among all the NLP techniques, we have obtained good accuracy with tf-idf model\n",
    "\n",
    "2. In order to test for multi-collinearity , we have tested using pertubation test. We don't have multi-collinearity (as we have seen that 99.8% hasn\n",
    "'t changed after pertubation)\n",
    "\n",
    "3. Important features for positive reviews are , i.e., when it has these words then they are predicted as POSITIVE review{'delici' 'great' 'best' 'excel' 'perfect' 'love' 'nice' 'amaz' 'favorit'\n",
    " 'wonder'}\n",
    "Similarly, When it has negative reviews , important features which obtained are {'stale' 'wast' 'money' 'unfortun' 'horribl' 'return' 'aw' 'terribl'\n",
    " 'worst' 'disappoint'}\n",
    "\n",
    "4. We have also seen that we have got sparsity for L1 more than L2 ( By L1 regularization, you essentially make the vector x smaller (sparse), as most of its components are useless (zeros), and at the same time, the remaining non-zero components are very “useful”.) https://medium.com/mlreview/l1-norm-regularization-and-sparsity-explained-for-dummies-5b0e4be3938a\n",
    "\n",
    "There is table below which has all the detailed model evaluations.. "
   ]
  },
  {
   "cell_type": "markdown",
   "metadata": {},
   "source": [
    "-----> Even though we haven't tested using cross-validation dataset, By observing test and train accuracies we can co-relate whether our model is good or is it tending to overfit/underfit.\n",
    "\n",
    "-----> Here, in only B.O.W, we can see such phenomena where our there is slight more difference between train and test accuracy. But, typically it also might not be case of overfitting as our test accuracy is somewhat on higher side.\n",
    "\n",
    "-----> Among all, we have got high roc-auc on Tf-idf model. So, we would say, it is best among others."
   ]
  },
  {
   "cell_type": "code",
   "execution_count": 234,
   "metadata": {},
   "outputs": [
    {
     "name": "stdout",
     "output_type": "stream",
     "text": [
      "+-----------------+---------------+-------------------+---------+----------------+---------------+\n",
      "| vectorizer_type | model-Penalty | Hyperparameter(C) | roc-auc | train_accuracy | test_accuracy |\n",
      "+-----------------+---------------+-------------------+---------+----------------+---------------+\n",
      "|   Bag of words  |       L1      |        0.01       |   0.93  |     97.18%     |     93.18%    |\n",
      "|   Bag of words  |       L2      |         1         |   0.93  |     91.1%      |     89.7%     |\n",
      "|      TF-IDF     |       L2      |         1         |  0.956  |     93.4%      |     91.2%     |\n",
      "|      AvgW2V     |       L1      |         1         |  0.907  |     89.21%     |     88.34%    |\n",
      "|      AvgW2V     |       L2      |         1         |  0.907  |     89.17%     |     88.3%     |\n",
      "|    Tf_idfW2V    |       L1      |         1         |  0.879  |     87.86%     |     87.2%     |\n",
      "|    Tf_idfW2V    |       L2      |        0.01       |  0.879  |     87.79%     |     87.14%    |\n",
      "+-----------------+---------------+-------------------+---------+----------------+---------------+\n"
     ]
    }
   ],
   "source": [
    "from prettytable import PrettyTable\n",
    "# reference : http://zetcode.com/python/prettytable/\n",
    "pretty_table = PrettyTable()\n",
    "pretty_table.field_names = [\"vectorizer_type\",\"model-Penalty\",\"Hyperparameter(C)\",\"roc-auc\",\"train_accuracy\",\"test_accuracy\"]\n",
    "pretty_table.add_row([\"Bag of words\",\"L1\",\"0.01\",\"0.93\",\"97.18%\",\"93.18%\"])\n",
    "pretty_table.add_row([\"Bag of words\",\"L2\",\"1\",\"0.93\",\"91.1%\",\"89.7%\"])\n",
    "pretty_table.add_row([\"TF-IDF\",\"L2\",\"1\",\"0.956\",\"93.4%\",\"91.2%\"])\n",
    "pretty_table.add_row([\"AvgW2V\",\"L1\",\"1\",\"0.907\",\"89.21%\",\"88.34%\"])\n",
    "pretty_table.add_row([\"AvgW2V\",\"L2\",\"1\",\"0.907\",\"89.17%\",\"88.3%\"])\n",
    "pretty_table.add_row([\"Tf_idfW2V\",\"L1\",\"1\",\"0.879\",\"87.86%\",\"87.2%\"])\n",
    "pretty_table.add_row([\"Tf_idfW2V\",\"L2\",\"0.01\",\"0.879\",\"87.79%\",\"87.14%\"])\n",
    "print(pretty_table)"
   ]
  },
  {
   "cell_type": "code",
   "execution_count": null,
   "metadata": {
    "collapsed": true
   },
   "outputs": [],
   "source": []
  },
  {
   "cell_type": "code",
   "execution_count": null,
   "metadata": {
    "collapsed": true
   },
   "outputs": [],
   "source": []
  },
  {
   "cell_type": "code",
   "execution_count": null,
   "metadata": {
    "collapsed": true
   },
   "outputs": [],
   "source": []
  }
 ],
 "metadata": {
  "colab": {
   "name": "05 Amazon Fine Food Reviews Analysis_Logistic Regression.ipynb",
   "provenance": [],
   "version": "0.3.2"
  },
  "kernelspec": {
   "display_name": "Python 3",
   "language": "python",
   "name": "python3"
  },
  "language_info": {
   "codemirror_mode": {
    "name": "ipython",
    "version": 3
   },
   "file_extension": ".py",
   "mimetype": "text/x-python",
   "name": "python",
   "nbconvert_exporter": "python",
   "pygments_lexer": "ipython3",
   "version": "3.6.8"
  }
 },
 "nbformat": 4,
 "nbformat_minor": 1
}
