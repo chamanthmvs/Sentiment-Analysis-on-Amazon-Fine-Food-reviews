{
 "cells": [
  {
   "cell_type": "markdown",
   "metadata": {},
   "source": [
    "# Amazon Fine Food Reviews Analysis\n",
    "\n",
    "\n",
    "Data Source: https://www.kaggle.com/snap/amazon-fine-food-reviews <br>\n",
    "\n",
    "EDA: https://nycdatascience.com/blog/student-works/amazon-fine-foods-visualization/\n",
    "\n",
    "\n",
    "The Amazon Fine Food Reviews dataset consists of reviews of fine foods from Amazon.<br>\n",
    "\n",
    "Number of reviews: 568,454<br>\n",
    "Number of users: 256,059<br>\n",
    "Number of products: 74,258<br>\n",
    "Timespan: Oct 1999 - Oct 2012<br>\n",
    "Number of Attributes/Columns in data: 10 \n",
    "\n",
    "Attribute Information:\n",
    "\n",
    "1. Id\n",
    "2. ProductId - unique identifier for the product\n",
    "3. UserId - unqiue identifier for the user\n",
    "4. ProfileName\n",
    "5. HelpfulnessNumerator - number of users who found the review helpful\n",
    "6. HelpfulnessDenominator - number of users who indicated whether they found the review helpful or not\n",
    "7. Score - rating between 1 and 5\n",
    "8. Time - timestamp for the review\n",
    "9. Summary - brief summary of the review\n",
    "10. Text - text of the review\n",
    "\n",
    "\n",
    "#### Objective:\n",
    "Given a review, determine whether the review is positive (rating of 4 or 5) or negative (rating of 1 or 2).\n",
    "\n",
    "<br>\n",
    "[Q] How to determine if a review is positive or negative?<br>\n",
    "<br> \n",
    "[Ans] We could use Score/Rating. A rating of 4 or 5 can be cosnidered as a positive review. A rating of 1 or 2 can be considered as negative one. A review of rating 3 is considered nuetral and such reviews are ignored from our analysis. This is an approximate and proxy way of determining the polarity (positivity/negativity) of a review.\n",
    "\n",
    "\n"
   ]
  },
  {
   "cell_type": "markdown",
   "metadata": {},
   "source": [
    "# [1]. Reading Data"
   ]
  },
  {
   "cell_type": "markdown",
   "metadata": {},
   "source": [
    "## [1.1] Loading the data\n",
    "\n",
    "The dataset is available in two forms\n",
    "1. .csv file\n",
    "2. SQLite Database\n",
    "\n",
    "In order to load the data, We have used the SQLITE dataset as it is easier to query the data and visualise the data efficiently.\n",
    "<br> \n",
    "\n",
    "Here as we only want to get the global sentiment of the recommendations (positive or negative), we will purposefully ignore all Scores equal to 3. If the score is above 3, then the recommendation wil be set to \"positive\". Otherwise, it will be set to \"negative\"."
   ]
  },
  {
   "cell_type": "code",
   "execution_count": 1,
   "metadata": {
    "collapsed": true
   },
   "outputs": [],
   "source": [
    "%matplotlib inline\n",
    "import warnings\n",
    "warnings.filterwarnings(\"ignore\")\n",
    "\n",
    "\n",
    "import sqlite3\n",
    "import pandas as pd\n",
    "import numpy as np\n",
    "import nltk\n",
    "import string\n",
    "import matplotlib.pyplot as plt\n",
    "import seaborn as sns\n",
    "from sklearn.feature_extraction.text import TfidfTransformer\n",
    "from sklearn.feature_extraction.text import TfidfVectorizer\n",
    "\n",
    "from sklearn.feature_extraction.text import CountVectorizer\n",
    "from sklearn.metrics import confusion_matrix\n",
    "from sklearn import metrics\n",
    "from sklearn.metrics import roc_curve, auc\n",
    "from nltk.stem.porter import PorterStemmer\n",
    "\n",
    "import re\n",
    "# Tutorial about Python regular expressions: https://pymotw.com/2/re/\n",
    "import string\n",
    "from nltk.corpus import stopwords\n",
    "from nltk.stem import PorterStemmer\n",
    "from nltk.stem.wordnet import WordNetLemmatizer\n",
    "\n",
    "from gensim.models import Word2Vec\n",
    "from gensim.models import KeyedVectors\n",
    "import pickle\n",
    "\n",
    "from tqdm import tqdm\n",
    "import os"
   ]
  },
  {
   "cell_type": "markdown",
   "metadata": {},
   "source": [
    "# [5] Assignment 7: SVM"
   ]
  },
  {
   "cell_type": "markdown",
   "metadata": {},
   "source": [
    "<ol>\n",
    "    <li><strong>Apply SVM on these feature sets</strong>\n",
    "        <ul>\n",
    "            <li><font color='red'>SET 1:</font>Review text, preprocessed one converted into vectors using (BOW)</li>\n",
    "            <li><font color='red'>SET 2:</font>Review text, preprocessed one converted into vectors using (TFIDF)</li>\n",
    "            <li><font color='red'>SET 3:</font>Review text, preprocessed one converted into vectors using (AVG W2v)</li>\n",
    "            <li><font color='red'>SET 4:</font>Review text, preprocessed one converted into vectors using (TFIDF W2v)</li>\n",
    "        </ul>\n",
    "    </li>\n",
    "    <br>\n",
    "    <li><strong>Procedure</strong>\n",
    "        <ul>\n",
    "    <li>You need to work with 2 versions of SVM\n",
    "        <ul><li>Linear kernel</li>\n",
    "            <li>RBF kernel</li></ul>\n",
    "    <li>When you are working with linear kernel, use SGDClassifier’ with hinge loss because it is computationally less expensive.</li>\n",
    "    <li>When you are working with ‘SGDClassifier’ with hinge loss and trying to find the AUC\n",
    "        score, you would have to use <a href='https://scikit-learn.org/stable/modules/generated/sklearn.calibration.CalibratedClassifierCV.html'>CalibratedClassifierCV</a></li>\n",
    "    <li>Similarly, like kdtree of knn, when you are working with RBF kernel it's better to reduce\n",
    "the number of dimensions. You can put min_df = 10, max_features = 500 and consider a sample size of 40k points.</li>                \n",
    "        </ul>\n",
    "    </li>\n",
    "    <br>\n",
    "    <li><strong>Hyper paramter tuning (find best alpha in range [10^-4 to 10^4], and the best penalty among 'l1', 'l2')</strong>\n",
    "        <ul>\n",
    "    <li>Find the best hyper parameter which will give the maximum <a href='https://www.appliedaicourse.com/course/applied-ai-course-online/lessons/receiver-operating-characteristic-curve-roc-curve-and-auc-1/'>AUC</a> value</li>\n",
    "    <li>Find the best hyper paramter using k-fold cross validation or simple cross validation data</li>\n",
    "    <li>Use gridsearch cv or randomsearch cv or you can also write your own for loops to do this task of hyperparameter tuning</li>          \n",
    "        </ul>\n",
    "    </li>\n",
    "    <br>\n",
    "    <li><strong>Feature importance</strong>\n",
    "        <ul>\n",
    "    <li>When you are working on the linear kernel with BOW or TFIDF please print the top 10 best\n",
    "features for each of the positive and negative classes.</li>\n",
    "        </ul>\n",
    "    </li>\n",
    "    <br>\n",
    "    <li><strong>Feature engineering</strong>\n",
    "        <ul>\n",
    "    <li>To increase the performance of your model, you can also experiment with with feature engineering like :</li>\n",
    "            <ul>\n",
    "            <li>Taking length of reviews as another feature.</li>\n",
    "            <li>Considering some features from review summary as well.</li>\n",
    "        </ul>\n",
    "        </ul>\n",
    "    </li>\n",
    "    <br>\n",
    "    <li><strong>Representation of results</strong>\n",
    "        <ul>\n",
    "    <li>You need to plot the performance of model both on train data and cross validation data for each hyper parameter, like shown in the figure.\n",
    "    <img src='train_cv_auc.JPG' width=300px></li>\n",
    "    <li>Once after you found the best hyper parameter, you need to train your model with it, and find the AUC on test data and plot the ROC curve on both train and test.\n",
    "    <img src='train_test_auc.JPG' width=300px></li>\n",
    "    <li>Along with plotting ROC curve, you need to print the <a href='https://www.appliedaicourse.com/course/applied-ai-course-online/lessons/confusion-matrix-tpr-fpr-fnr-tnr-1/'>confusion matrix</a> with predicted and original labels of test data points. Please visualize your confusion matrices using <a href='https://seaborn.pydata.org/generated/seaborn.heatmap.html'>seaborn heatmaps.\n",
    "    <img src='confusion_matrix.png' width=300px></li>\n",
    "        </ul>\n",
    "    </li>\n",
    "    <br>\n",
    "    <li><strong>Conclusion</strong>\n",
    "        <ul>\n",
    "    <li>You need to summarize the results at the end of the notebook, summarize it in the table format. To print out a table please refer to this prettytable library<a href='http://zetcode.com/python/prettytable/'>  link</a> \n",
    "        <img src='summary.JPG' width=400px>\n",
    "    </li>\n",
    "        </ul>\n",
    "</ol>"
   ]
  },
  {
   "cell_type": "markdown",
   "metadata": {},
   "source": [
    "<h4><font color='red'>Note: Data Leakage</font></h4>\n",
    "\n",
    "1. There will be an issue of data-leakage if you vectorize the entire data and then split it into train/cv/test.\n",
    "2. To avoid the issue of data-leakag, make sure to split your data first and then vectorize it. \n",
    "3. While vectorizing your data, apply the method fit_transform() on you train data, and apply the method transform() on cv/test data.\n",
    "4. For more details please go through this <a href='https://soundcloud.com/applied-ai-course/leakage-bow-and-tfidf'>link.</a>"
   ]
  },
  {
   "cell_type": "markdown",
   "metadata": {},
   "source": [
    "#### Reading the csv file (Which is already saved on my system (saved while doing naive bayes assignment))\n"
   ]
  },
  {
   "cell_type": "code",
   "execution_count": 2,
   "metadata": {
    "collapsed": true
   },
   "outputs": [],
   "source": [
    "review_dataset_filtered = pd.read_csv('filtered_reviews_data.csv')"
   ]
  },
  {
   "cell_type": "code",
   "execution_count": 3,
   "metadata": {},
   "outputs": [
    {
     "data": {
      "text/plain": [
       "(364173, 12)"
      ]
     },
     "execution_count": 3,
     "metadata": {},
     "output_type": "execute_result"
    }
   ],
   "source": [
    "review_dataset_filtered.shape"
   ]
  },
  {
   "cell_type": "code",
   "execution_count": 4,
   "metadata": {
    "collapsed": true
   },
   "outputs": [],
   "source": [
    "#removing all the null value represnted rows (removing rows even if one column has na in entire 12 columns in given dataset)\n",
    "review_dataset_filtered.dropna(inplace=True)"
   ]
  },
  {
   "cell_type": "code",
   "execution_count": 5,
   "metadata": {},
   "outputs": [
    {
     "data": {
      "text/plain": [
       "(364158, 12)"
      ]
     },
     "execution_count": 5,
     "metadata": {},
     "output_type": "execute_result"
    }
   ],
   "source": [
    "review_dataset_filtered.shape"
   ]
  },
  {
   "cell_type": "markdown",
   "metadata": {
    "collapsed": true
   },
   "source": [
    "#### As it is temporal data, I will be performing time-based splitting"
   ]
  },
  {
   "cell_type": "code",
   "execution_count": 6,
   "metadata": {
    "collapsed": true
   },
   "outputs": [],
   "source": [
    "#sorting the dataset according to time as we need time-based splitting\n",
    "review_dataset_final_sorted = review_dataset_filtered.sort_values(by ='Time',axis=0,ascending=True,inplace=False,kind='quicksort')"
   ]
  },
  {
   "cell_type": "code",
   "execution_count": 7,
   "metadata": {},
   "outputs": [
    {
     "data": {
      "text/html": [
       "<div>\n",
       "<style scoped>\n",
       "    .dataframe tbody tr th:only-of-type {\n",
       "        vertical-align: middle;\n",
       "    }\n",
       "\n",
       "    .dataframe tbody tr th {\n",
       "        vertical-align: top;\n",
       "    }\n",
       "\n",
       "    .dataframe thead th {\n",
       "        text-align: right;\n",
       "    }\n",
       "</style>\n",
       "<table border=\"1\" class=\"dataframe\">\n",
       "  <thead>\n",
       "    <tr style=\"text-align: right;\">\n",
       "      <th></th>\n",
       "      <th>Unnamed: 0</th>\n",
       "      <th>Id</th>\n",
       "      <th>ProductId</th>\n",
       "      <th>UserId</th>\n",
       "      <th>ProfileName</th>\n",
       "      <th>HelpfulnessNumerator</th>\n",
       "      <th>HelpfulnessDenominator</th>\n",
       "      <th>Score</th>\n",
       "      <th>Time</th>\n",
       "      <th>Summary</th>\n",
       "      <th>Text</th>\n",
       "      <th>Cleaned_text</th>\n",
       "    </tr>\n",
       "  </thead>\n",
       "  <tbody>\n",
       "    <tr>\n",
       "      <th>117926</th>\n",
       "      <td>150523</td>\n",
       "      <td>150524</td>\n",
       "      <td>0006641040</td>\n",
       "      <td>ACITT7DI6IDDL</td>\n",
       "      <td>shari zychinski</td>\n",
       "      <td>0</td>\n",
       "      <td>0</td>\n",
       "      <td>positive</td>\n",
       "      <td>939340800</td>\n",
       "      <td>EVERY book is educational</td>\n",
       "      <td>this witty little book makes my son laugh at l...</td>\n",
       "      <td>witti littl book make son laugh loud recit car...</td>\n",
       "    </tr>\n",
       "    <tr>\n",
       "      <th>117903</th>\n",
       "      <td>150500</td>\n",
       "      <td>150501</td>\n",
       "      <td>0006641040</td>\n",
       "      <td>AJ46FKXOVC7NR</td>\n",
       "      <td>Nicholas A Mesiano</td>\n",
       "      <td>2</td>\n",
       "      <td>2</td>\n",
       "      <td>positive</td>\n",
       "      <td>940809600</td>\n",
       "      <td>This whole series is great way to spend time w...</td>\n",
       "      <td>I can remember seeing the show when it aired o...</td>\n",
       "      <td>rememb see show air televis year ago child sis...</td>\n",
       "    </tr>\n",
       "    <tr>\n",
       "      <th>298794</th>\n",
       "      <td>451855</td>\n",
       "      <td>451856</td>\n",
       "      <td>B00004CXX9</td>\n",
       "      <td>AIUWLEQ1ADEG5</td>\n",
       "      <td>Elizabeth Medina</td>\n",
       "      <td>0</td>\n",
       "      <td>0</td>\n",
       "      <td>positive</td>\n",
       "      <td>944092800</td>\n",
       "      <td>Entertainingl Funny!</td>\n",
       "      <td>Beetlejuice is a well written movie ..... ever...</td>\n",
       "      <td>beetlejuic well written movi everyth excel act...</td>\n",
       "    </tr>\n",
       "    <tr>\n",
       "      <th>169283</th>\n",
       "      <td>230284</td>\n",
       "      <td>230285</td>\n",
       "      <td>B00004RYGX</td>\n",
       "      <td>A344SMIA5JECGM</td>\n",
       "      <td>Vincent P. Ross</td>\n",
       "      <td>1</td>\n",
       "      <td>2</td>\n",
       "      <td>positive</td>\n",
       "      <td>944438400</td>\n",
       "      <td>A modern day fairy tale</td>\n",
       "      <td>A twist of rumplestiskin captured on film, sta...</td>\n",
       "      <td>twist rumplestiskin captur film star michael k...</td>\n",
       "    </tr>\n",
       "    <tr>\n",
       "      <th>298793</th>\n",
       "      <td>451854</td>\n",
       "      <td>451855</td>\n",
       "      <td>B00004CXX9</td>\n",
       "      <td>AJH6LUC1UT1ON</td>\n",
       "      <td>The Phantom of the Opera</td>\n",
       "      <td>0</td>\n",
       "      <td>0</td>\n",
       "      <td>positive</td>\n",
       "      <td>946857600</td>\n",
       "      <td>FANTASTIC!</td>\n",
       "      <td>Beetlejuice is an excellent and funny movie. K...</td>\n",
       "      <td>beetlejuic excel funni movi keaton hilari wack...</td>\n",
       "    </tr>\n",
       "  </tbody>\n",
       "</table>\n",
       "</div>"
      ],
      "text/plain": [
       "        Unnamed: 0      Id   ProductId          UserId  \\\n",
       "117926      150523  150524  0006641040   ACITT7DI6IDDL   \n",
       "117903      150500  150501  0006641040   AJ46FKXOVC7NR   \n",
       "298794      451855  451856  B00004CXX9   AIUWLEQ1ADEG5   \n",
       "169283      230284  230285  B00004RYGX  A344SMIA5JECGM   \n",
       "298793      451854  451855  B00004CXX9   AJH6LUC1UT1ON   \n",
       "\n",
       "                     ProfileName  HelpfulnessNumerator  \\\n",
       "117926           shari zychinski                     0   \n",
       "117903        Nicholas A Mesiano                     2   \n",
       "298794          Elizabeth Medina                     0   \n",
       "169283           Vincent P. Ross                     1   \n",
       "298793  The Phantom of the Opera                     0   \n",
       "\n",
       "        HelpfulnessDenominator     Score       Time  \\\n",
       "117926                       0  positive  939340800   \n",
       "117903                       2  positive  940809600   \n",
       "298794                       0  positive  944092800   \n",
       "169283                       2  positive  944438400   \n",
       "298793                       0  positive  946857600   \n",
       "\n",
       "                                                  Summary  \\\n",
       "117926                          EVERY book is educational   \n",
       "117903  This whole series is great way to spend time w...   \n",
       "298794                               Entertainingl Funny!   \n",
       "169283                            A modern day fairy tale   \n",
       "298793                                         FANTASTIC!   \n",
       "\n",
       "                                                     Text  \\\n",
       "117926  this witty little book makes my son laugh at l...   \n",
       "117903  I can remember seeing the show when it aired o...   \n",
       "298794  Beetlejuice is a well written movie ..... ever...   \n",
       "169283  A twist of rumplestiskin captured on film, sta...   \n",
       "298793  Beetlejuice is an excellent and funny movie. K...   \n",
       "\n",
       "                                             Cleaned_text  \n",
       "117926  witti littl book make son laugh loud recit car...  \n",
       "117903  rememb see show air televis year ago child sis...  \n",
       "298794  beetlejuic well written movi everyth excel act...  \n",
       "169283  twist rumplestiskin captur film star michael k...  \n",
       "298793  beetlejuic excel funni movi keaton hilari wack...  "
      ]
     },
     "execution_count": 7,
     "metadata": {},
     "output_type": "execute_result"
    }
   ],
   "source": [
    "review_dataset_final_sorted.head()"
   ]
  },
  {
   "cell_type": "code",
   "execution_count": 8,
   "metadata": {
    "collapsed": true
   },
   "outputs": [],
   "source": [
    "labels = review_dataset_final_sorted['Score']"
   ]
  },
  {
   "cell_type": "code",
   "execution_count": 9,
   "metadata": {
    "collapsed": true
   },
   "outputs": [],
   "source": [
    "LABELS = labels.value_counts()"
   ]
  },
  {
   "cell_type": "code",
   "execution_count": 10,
   "metadata": {},
   "outputs": [
    {
     "data": {
      "image/png": "[encoded data removed]",
      "text/plain": [
       "<Figure size 576x396 with 1 Axes>"
      ]
     },
     "metadata": {},
     "output_type": "display_data"
    }
   ],
   "source": [
    "sns.barplot(LABELS.index,LABELS.values,alpha=0.8)\n",
    "plt.title(\"distribution of positive and negative classes in original dataset\")\n",
    "plt.xlabel(\"Positive  Negative\")\n",
    "plt.ylabel(\"Count\")\n",
    "plt.show()"
   ]
  },
  {
   "cell_type": "code",
   "execution_count": 11,
   "metadata": {},
   "outputs": [
    {
     "name": "stdout",
     "output_type": "stream",
     "text": [
      "POSITIVE class labels in original data is 84.32 %\n",
      "NEGATIVE class labels in original data is 15.68 %\n"
     ]
    }
   ],
   "source": [
    "print(f\"POSITIVE class labels in original data is {round(((labels.value_counts()[0]/review_dataset_final_sorted.shape[0])*100),2)} %\")\n",
    "print(f\"NEGATIVE class labels in original data is {round(((labels.value_counts()[1]/review_dataset_final_sorted.shape[0])*100),2)} %\")"
   ]
  },
  {
   "cell_type": "code",
   "execution_count": 12,
   "metadata": {
    "collapsed": true
   },
   "outputs": [],
   "source": [
    "#Now, let's take only 50k datapoints for computation because 300K+ would not be ideal to choose among\n",
    "# WE ARE CHOOSING ONLY 50K because (if we consider more than them , then we might face computational issues)\n",
    "review_dataset_final_sorted_sample = review_dataset_final_sorted.sample(n=50000)"
   ]
  },
  {
   "cell_type": "code",
   "execution_count": 13,
   "metadata": {
    "collapsed": true
   },
   "outputs": [],
   "source": [
    "#Now, let's make a check distribution of data or percentage of data present\n",
    "sample_labels = review_dataset_final_sorted_sample['Score'] "
   ]
  },
  {
   "cell_type": "code",
   "execution_count": 14,
   "metadata": {},
   "outputs": [
    {
     "data": {
      "text/plain": [
       "positive    42115\n",
       "negative     7885\n",
       "Name: Score, dtype: int64"
      ]
     },
     "execution_count": 14,
     "metadata": {},
     "output_type": "execute_result"
    }
   ],
   "source": [
    "sample_labels.value_counts()"
   ]
  },
  {
   "cell_type": "code",
   "execution_count": 15,
   "metadata": {},
   "outputs": [
    {
     "data": {
      "image/png": "[encoded data removed]",
      "text/plain": [
       "<Figure size 576x396 with 1 Axes>"
      ]
     },
     "metadata": {},
     "output_type": "display_data"
    }
   ],
   "source": [
    "sns.barplot(sample_labels.index,sample_labels.values,alpha=0.8)\n",
    "plt.title(\"distribution of positive and negative classes in original dataset\")\n",
    "plt.xlabel(\"Positive  Negative\")\n",
    "plt.ylabel(\"Count\")\n",
    "plt.show()"
   ]
  },
  {
   "cell_type": "code",
   "execution_count": 16,
   "metadata": {},
   "outputs": [
    {
     "name": "stdout",
     "output_type": "stream",
     "text": [
      "POSITIVE class labels in sample data is 84.23 %\n",
      "NEGATIVE class labels in sample data is 15.77 %\n"
     ]
    }
   ],
   "source": [
    "print(f\"POSITIVE class labels in sample data is {round(((sample_labels.value_counts()[0]/review_dataset_final_sorted_sample.shape[0])*100),2)} %\")\n",
    "print(f\"NEGATIVE class labels in sample data is {round(((sample_labels.value_counts()[1]/review_dataset_final_sorted_sample.shape[0])*100),2)} %\")"
   ]
  },
  {
   "cell_type": "markdown",
   "metadata": {},
   "source": [
    "So, it is almost same as our original dataset. Now, we can proceed on with further operations"
   ]
  },
  {
   "cell_type": "markdown",
   "metadata": {},
   "source": [
    "#### Actually it is reviews dataset. So,I think it is better if we perform time-based splitting rather than random split\n",
    "So, we will sort it first and then divide the data in 80:20 ratio and from train we can divide cross validation data"
   ]
  },
  {
   "cell_type": "code",
   "execution_count": 17,
   "metadata": {
    "collapsed": true
   },
   "outputs": [],
   "source": [
    "#sorting the dataset according to time as we need time-based splitting\n",
    "final_data = review_dataset_final_sorted_sample.sort_values(by ='Time',axis=0,ascending=True,inplace=False,kind='quicksort')"
   ]
  },
  {
   "cell_type": "code",
   "execution_count": 18,
   "metadata": {},
   "outputs": [
    {
     "data": {
      "text/plain": [
       "(50000, 12)"
      ]
     },
     "execution_count": 18,
     "metadata": {},
     "output_type": "execute_result"
    }
   ],
   "source": [
    "final_data.shape"
   ]
  },
  {
   "cell_type": "markdown",
   "metadata": {},
   "source": [
    "So, 40000 will be train data and 10000 will be test data"
   ]
  },
  {
   "cell_type": "code",
   "execution_count": 19,
   "metadata": {
    "collapsed": true
   },
   "outputs": [],
   "source": [
    "train_data = final_data['Cleaned_text'][:32000]\n",
    "test_data = final_data['Cleaned_text'][32000:]\n",
    "train_data_labels = final_data['Score'][:32000]\n",
    "test_data_labels = final_data['Score'][32000:]"
   ]
  },
  {
   "cell_type": "code",
   "execution_count": 20,
   "metadata": {},
   "outputs": [
    {
     "data": {
      "text/plain": [
       "positive    14838\n",
       "negative     3162\n",
       "Name: Score, dtype: int64"
      ]
     },
     "execution_count": 20,
     "metadata": {},
     "output_type": "execute_result"
    }
   ],
   "source": [
    "test_data_labels.value_counts()"
   ]
  },
  {
   "cell_type": "code",
   "execution_count": 21,
   "metadata": {},
   "outputs": [
    {
     "name": "stdout",
     "output_type": "stream",
     "text": [
      "positive labels distribution for TRAIN data 85.24\n",
      "negative labels distribution for TRAIN data 14.76\n"
     ]
    }
   ],
   "source": [
    "#TRAIN DATA\n",
    "print(f\"positive labels distribution for TRAIN data {round((train_data_labels.value_counts()[0]/train_data_labels.shape[0])*100,2)}\")\n",
    "print(f\"negative labels distribution for TRAIN data {round((train_data_labels.value_counts()[1]/train_data_labels.shape[0])*100,2)}\")"
   ]
  },
  {
   "cell_type": "code",
   "execution_count": 22,
   "metadata": {},
   "outputs": [
    {
     "name": "stdout",
     "output_type": "stream",
     "text": [
      "positive labels distribution for TEST data 82.43\n",
      "negative labels distribution for TEST data 17.57\n"
     ]
    }
   ],
   "source": [
    "#TEST DATA\n",
    "print(f\"positive labels distribution for TEST data {round((test_data_labels.value_counts()[0]/test_data_labels.shape[0])*100,2)}\")\n",
    "print(f\"negative labels distribution for TEST data {round((test_data_labels.value_counts()[1]/test_data_labels.shape[0])*100,2)}\")"
   ]
  },
  {
   "cell_type": "markdown",
   "metadata": {},
   "source": [
    "So, as we can see that there is slight variation in both distributions but it is fine to some extent"
   ]
  },
  {
   "cell_type": "code",
   "execution_count": null,
   "metadata": {
    "collapsed": true
   },
   "outputs": [],
   "source": []
  },
  {
   "cell_type": "markdown",
   "metadata": {},
   "source": [
    "# Applying SVM"
   ]
  },
  {
   "cell_type": "markdown",
   "metadata": {},
   "source": [
    "## [5.1] Linear SVM"
   ]
  },
  {
   "cell_type": "code",
   "execution_count": 23,
   "metadata": {
    "collapsed": true
   },
   "outputs": [],
   "source": [
    "#importing all the necessary packages needed for Logistic regression\n",
    "from sklearn.model_selection import GridSearchCV\n",
    "from sklearn.svm import SVC\n",
    "from sklearn.linear_model import SGDClassifier\n",
    "from sklearn.calibration import CalibratedClassifierCV"
   ]
  },
  {
   "cell_type": "markdown",
   "metadata": {},
   "source": [
    "### [5.1.1] Applying Linear SVM on BOW,<font color='red'> SET 1</font>"
   ]
  },
  {
   "cell_type": "code",
   "execution_count": 24,
   "metadata": {},
   "outputs": [
    {
     "name": "stdout",
     "output_type": "stream",
     "text": [
      "some feature names  ['abl', 'absolut', 'absorb', 'accept', 'access', 'accord', 'acid', 'acquir', 'across', 'act']\n",
      "==================================================\n",
      "the type of count vectorizer  <class 'scipy.sparse.csr.csr_matrix'>\n",
      "the shape of out text BOW vectorizer  (32000, 2123)\n",
      "the number of unique words  2123\n"
     ]
    }
   ],
   "source": [
    "#Initially applying BOW on train data and then will apply BOW on test data\n",
    "#BoW on train data\n",
    "count_vect = CountVectorizer(min_df=50) #selecting terms which has frequency higher than 50\n",
    "bow_train_data = count_vect.fit_transform(train_data)\n",
    "print(\"some feature names \", count_vect.get_feature_names()[:10])\n",
    "print('='*50)\n",
    "print(\"the type of count vectorizer \",type(bow_train_data))\n",
    "print(\"the shape of out text BOW vectorizer \",bow_train_data.get_shape())\n",
    "print(\"the number of unique words \", bow_train_data.get_shape()[1])"
   ]
  },
  {
   "cell_type": "code",
   "execution_count": 25,
   "metadata": {},
   "outputs": [
    {
     "data": {
      "text/plain": [
       "GridSearchCV(cv=3, error_score='raise-deprecating',\n",
       "       estimator=SGDClassifier(alpha=0.0001, average=False, class_weight=None,\n",
       "       early_stopping=False, epsilon=0.1, eta0=0.0, fit_intercept=True,\n",
       "       l1_ratio=0.15, learning_rate='optimal', loss='hinge', max_iter=None,\n",
       "       n_iter=None, n_iter_no_change=5, n_jobs=None, penalty='l2',\n",
       "       power_t=0.5, random_state=None, shuffle=True, tol=None,\n",
       "       validation_fraction=0.1, verbose=0, warm_start=False),\n",
       "       fit_params=None, iid='warn', n_jobs=None,\n",
       "       param_grid=[{'alpha': [0.0001, 0.01, 1, 100, 10000]}],\n",
       "       pre_dispatch='2*n_jobs', refit=True, return_train_score='warn',\n",
       "       scoring='roc_auc', verbose=0)"
      ]
     },
     "execution_count": 25,
     "metadata": {},
     "output_type": "execute_result"
    }
   ],
   "source": [
    "tuned_parameters = [{'alpha': [10**-4, 10**-2, 10**0, 10**2, 10**4]}] \n",
    "\n",
    "#using GridSearchCV\n",
    "model = GridSearchCV(SGDClassifier(loss=\"hinge\"),tuned_parameters,scoring='roc_auc',cv=3)\n",
    "model.fit(bow_train_data,train_data_labels.values)\n"
   ]
  },
  {
   "cell_type": "code",
   "execution_count": 26,
   "metadata": {},
   "outputs": [
    {
     "data": {
      "text/plain": [
       "SGDClassifier(alpha=0.01, average=False, class_weight=None,\n",
       "       early_stopping=False, epsilon=0.1, eta0=0.0, fit_intercept=True,\n",
       "       l1_ratio=0.15, learning_rate='optimal', loss='hinge', max_iter=None,\n",
       "       n_iter=None, n_iter_no_change=5, n_jobs=None, penalty='l2',\n",
       "       power_t=0.5, random_state=None, shuffle=True, tol=None,\n",
       "       validation_fraction=0.1, verbose=0, warm_start=False)"
      ]
     },
     "execution_count": 26,
     "metadata": {},
     "output_type": "execute_result"
    }
   ],
   "source": [
    "model.best_estimator_"
   ]
  },
  {
   "cell_type": "code",
   "execution_count": 27,
   "metadata": {
    "collapsed": true
   },
   "outputs": [],
   "source": [
    "linear_svm_model = SGDClassifier(alpha=0.01, loss='hinge')"
   ]
  },
  {
   "cell_type": "code",
   "execution_count": 28,
   "metadata": {},
   "outputs": [
    {
     "data": {
      "text/plain": [
       "CalibratedClassifierCV(base_estimator=SGDClassifier(alpha=0.01, average=False, class_weight=None,\n",
       "       early_stopping=False, epsilon=0.1, eta0=0.0, fit_intercept=True,\n",
       "       l1_ratio=0.15, learning_rate='optimal', loss='hinge', max_iter=None,\n",
       "       n_iter=None, n_iter_no_change=5, n_jobs=None, penalty='l2',\n",
       "       power_t=0.5, random_state=None, shuffle=True, tol=None,\n",
       "       validation_fraction=0.1, verbose=0, warm_start=False),\n",
       "            cv=3, method='sigmoid')"
      ]
     },
     "execution_count": 28,
     "metadata": {},
     "output_type": "execute_result"
    }
   ],
   "source": [
    "calibrated_model = CalibratedClassifierCV(base_estimator=linear_svm_model, cv=3)\n",
    "calibrated_model.fit(bow_train_data,train_data_labels)"
   ]
  },
  {
   "cell_type": "code",
   "execution_count": 29,
   "metadata": {
    "collapsed": true
   },
   "outputs": [],
   "source": [
    "#https://stackoverflow.com/questions/38692520/what-is-the-difference-between-fit-transform-and-transform-in-sklearn-countvecto\n",
    "bow_test_data = count_vect.transform(test_data)"
   ]
  },
  {
   "cell_type": "code",
   "execution_count": 30,
   "metadata": {
    "collapsed": true
   },
   "outputs": [],
   "source": [
    "probabilities = calibrated_model.predict_proba(bow_test_data)\n",
    "probabilitiess = probabilities[:,1]"
   ]
  },
  {
   "cell_type": "code",
   "execution_count": 31,
   "metadata": {},
   "outputs": [
    {
     "name": "stdout",
     "output_type": "stream",
     "text": [
      "0.91113716095\n"
     ]
    }
   ],
   "source": [
    "from sklearn.metrics import roc_auc_score\n",
    "print(roc_auc_score(test_data_labels,probabilitiess))"
   ]
  },
  {
   "cell_type": "code",
   "execution_count": 32,
   "metadata": {
    "collapsed": true
   },
   "outputs": [],
   "source": [
    "predictions = calibrated_model.predict(bow_test_data)\n",
    "prediction_probability_test = calibrated_model.predict_proba(bow_test_data)\n",
    "prediction_probability_train = calibrated_model.predict_proba(bow_train_data)"
   ]
  },
  {
   "cell_type": "code",
   "execution_count": 33,
   "metadata": {},
   "outputs": [
    {
     "data": {
      "image/png": "[encoded data removed]",
      "text/plain": [
       "<Figure size 576x396 with 2 Axes>"
      ]
     },
     "metadata": {},
     "output_type": "display_data"
    }
   ],
   "source": [
    "# Code for drawing seaborn heatmaps\n",
    "class_names = ['positive','negative']\n",
    "heatmap_dataframe = pd.DataFrame(confusion_matrix(test_data_labels.values, predictions), index=class_names, columns=class_names )\n",
    "heatmap = sns.heatmap(heatmap_dataframe, annot=True, fmt=\"d\")\n",
    "\n",
    "# Setting tick labels for heatmap\n",
    "heatmap.xaxis.set_ticklabels(heatmap.xaxis.get_ticklabels())\n",
    "heatmap.yaxis.set_ticklabels(heatmap.yaxis.get_ticklabels())\n",
    "plt.xlabel('True label')\n",
    "plt.ylabel('Predicted label')\n",
    "plt.title(\"Confusion Matrix\")\n",
    "plt.show()"
   ]
  },
  {
   "cell_type": "code",
   "execution_count": 34,
   "metadata": {},
   "outputs": [
    {
     "name": "stdout",
     "output_type": "stream",
     "text": [
      "The AUC value for test data is 0.9111371609503234\n"
     ]
    },
    {
     "data": {
      "image/png": "[encoded data removed]",
      "text/plain": [
       "<Figure size 576x396 with 1 Axes>"
      ]
     },
     "metadata": {},
     "output_type": "display_data"
    }
   ],
   "source": [
    "#https://machinelearningmastery.com/roc-curves-and-precision-recall-curves-for-classification-in-python/\n",
    "#https://medium.com/greyatom/lets-learn-about-auc-roc-curve-4a94b4d88152\n",
    "#AUC and ROC Values\n",
    "\n",
    "fpr_train, tpr_train, threshold_train = roc_curve(train_data_labels, prediction_probability_train [:,1],pos_label='positive')\n",
    "fpr_test, tpr_test, threshold_test = roc_curve(test_data_labels, prediction_probability_test[:,1],pos_label='positive')\n",
    "print(f\"The AUC value for test data is {roc_auc_score(test_data_labels, prediction_probability_test[:,1])}\")\n",
    "\n",
    "plt.plot(fpr_train, tpr_train,'g', label = 'Train Data')\n",
    "plt.plot(fpr_test, tpr_test,'y', label = 'Test Data')\n",
    "plt.ylim(0,1)\n",
    "plt.legend(bbox_to_anchor=(1.05, 1), loc='upper left', borderaxespad=0.)\n",
    "plt.grid(True)\n",
    "plt.title(\"ROC Curve for Train and Test Data\")\n",
    "plt.xlabel(\"FPR\")\n",
    "plt.ylabel(\"TPR\")\n",
    "plt.show()"
   ]
  },
  {
   "cell_type": "markdown",
   "metadata": {},
   "source": [
    "### [5.1.2] Applying Linear SVM on TFIDF,<font color='red'> SET 2</font>"
   ]
  },
  {
   "cell_type": "code",
   "execution_count": 35,
   "metadata": {},
   "outputs": [
    {
     "name": "stdout",
     "output_type": "stream",
     "text": [
      "some sample features(unique words in the corpus) ['abl', 'abl buy', 'abl find', 'abl get', 'absolut', 'absolut best', 'absolut delici', 'absolut love', 'absorb', 'accept']\n",
      "==================================================\n",
      "the type of count vectorizer  <class 'scipy.sparse.csr.csr_matrix'>\n",
      "the shape of out text TFIDF vectorizer  (32000, 3366)\n",
      "the number of unique words including both unigrams and bigrams  3366\n"
     ]
    }
   ],
   "source": [
    "tf_idf_vectorizer = TfidfVectorizer(ngram_range=(1,2),min_df=50)\n",
    "tf_idf_train_data = tf_idf_vectorizer.fit_transform(train_data)\n",
    "print(\"some sample features(unique words in the corpus)\",tf_idf_vectorizer.get_feature_names()[0:10])\n",
    "print('='*50)\n",
    "print(\"the type of count vectorizer \",type(tf_idf_train_data))\n",
    "print(\"the shape of out text TFIDF vectorizer \",tf_idf_train_data.get_shape())\n",
    "print(\"the number of unique words including both unigrams and bigrams \", tf_idf_train_data.get_shape()[1])"
   ]
  },
  {
   "cell_type": "code",
   "execution_count": 36,
   "metadata": {
    "collapsed": true
   },
   "outputs": [],
   "source": [
    "tf_idf_test_data = tf_idf_vectorizer.transform(test_data)"
   ]
  },
  {
   "cell_type": "code",
   "execution_count": 37,
   "metadata": {},
   "outputs": [
    {
     "data": {
      "text/plain": [
       "GridSearchCV(cv=3, error_score='raise-deprecating',\n",
       "       estimator=SGDClassifier(alpha=0.0001, average=False, class_weight=None,\n",
       "       early_stopping=False, epsilon=0.1, eta0=0.0, fit_intercept=True,\n",
       "       l1_ratio=0.15, learning_rate='optimal', loss='hinge', max_iter=None,\n",
       "       n_iter=None, n_iter_no_change=5, n_jobs=None, penalty='l2',\n",
       "       power_t=0.5, random_state=None, shuffle=True, tol=None,\n",
       "       validation_fraction=0.1, verbose=0, warm_start=False),\n",
       "       fit_params=None, iid='warn', n_jobs=None,\n",
       "       param_grid=[{'alpha': [0.0001, 0.01, 1, 100, 10000]}],\n",
       "       pre_dispatch='2*n_jobs', refit=True, return_train_score='warn',\n",
       "       scoring='roc_auc', verbose=0)"
      ]
     },
     "execution_count": 37,
     "metadata": {},
     "output_type": "execute_result"
    }
   ],
   "source": [
    "tuned_parameters = [{'alpha': [10**-4, 10**-2, 10**0, 10**2, 10**4]}] \n",
    "\n",
    "#using GridSearchCV\n",
    "model = GridSearchCV(SGDClassifier(loss=\"hinge\"),tuned_parameters,scoring='roc_auc',cv=3)\n",
    "model.fit(tf_idf_train_data,train_data_labels.values)"
   ]
  },
  {
   "cell_type": "code",
   "execution_count": 38,
   "metadata": {},
   "outputs": [
    {
     "data": {
      "text/plain": [
       "SGDClassifier(alpha=0.01, average=False, class_weight=None,\n",
       "       early_stopping=False, epsilon=0.1, eta0=0.0, fit_intercept=True,\n",
       "       l1_ratio=0.15, learning_rate='optimal', loss='hinge', max_iter=None,\n",
       "       n_iter=None, n_iter_no_change=5, n_jobs=None, penalty='l2',\n",
       "       power_t=0.5, random_state=None, shuffle=True, tol=None,\n",
       "       validation_fraction=0.1, verbose=0, warm_start=False)"
      ]
     },
     "execution_count": 38,
     "metadata": {},
     "output_type": "execute_result"
    }
   ],
   "source": [
    "model.best_estimator_"
   ]
  },
  {
   "cell_type": "code",
   "execution_count": 39,
   "metadata": {
    "collapsed": true
   },
   "outputs": [],
   "source": [
    "linear_svm_model = SGDClassifier(alpha=0.01, loss='hinge')"
   ]
  },
  {
   "cell_type": "code",
   "execution_count": 40,
   "metadata": {},
   "outputs": [
    {
     "data": {
      "text/plain": [
       "CalibratedClassifierCV(base_estimator=SGDClassifier(alpha=0.01, average=False, class_weight=None,\n",
       "       early_stopping=False, epsilon=0.1, eta0=0.0, fit_intercept=True,\n",
       "       l1_ratio=0.15, learning_rate='optimal', loss='hinge', max_iter=None,\n",
       "       n_iter=None, n_iter_no_change=5, n_jobs=None, penalty='l2',\n",
       "       power_t=0.5, random_state=None, shuffle=True, tol=None,\n",
       "       validation_fraction=0.1, verbose=0, warm_start=False),\n",
       "            cv=3, method='sigmoid')"
      ]
     },
     "execution_count": 40,
     "metadata": {},
     "output_type": "execute_result"
    }
   ],
   "source": [
    "calibrated_model = CalibratedClassifierCV(base_estimator=linear_svm_model, cv=3)\n",
    "calibrated_model.fit(tf_idf_train_data,train_data_labels)"
   ]
  },
  {
   "cell_type": "code",
   "execution_count": 41,
   "metadata": {
    "collapsed": true
   },
   "outputs": [],
   "source": [
    "probabilities = calibrated_model.predict_proba(tf_idf_test_data)\n",
    "probabilitiess = probabilities[:,1]"
   ]
  },
  {
   "cell_type": "code",
   "execution_count": 42,
   "metadata": {
    "collapsed": true
   },
   "outputs": [],
   "source": [
    "predictions = calibrated_model.predict(tf_idf_test_data)\n",
    "prediction_probability_test = calibrated_model.predict_proba(tf_idf_test_data)\n",
    "prediction_probability_train = calibrated_model.predict_proba(tf_idf_train_data)"
   ]
  },
  {
   "cell_type": "code",
   "execution_count": 43,
   "metadata": {},
   "outputs": [
    {
     "data": {
      "image/png": "[encoded data removed]",
      "text/plain": [
       "<Figure size 576x396 with 2 Axes>"
      ]
     },
     "metadata": {},
     "output_type": "display_data"
    }
   ],
   "source": [
    "# Code for drawing seaborn heatmaps\n",
    "class_names = ['positive','negative']\n",
    "heatmap_dataframe = pd.DataFrame(confusion_matrix(test_data_labels.values, predictions), index=class_names, columns=class_names )\n",
    "heatmap = sns.heatmap(heatmap_dataframe, annot=True, fmt=\"d\")\n",
    "\n",
    "# Setting tick labels for heatmap\n",
    "heatmap.xaxis.set_ticklabels(heatmap.xaxis.get_ticklabels())\n",
    "heatmap.yaxis.set_ticklabels(heatmap.yaxis.get_ticklabels())\n",
    "plt.xlabel('True label')\n",
    "plt.ylabel('Predicted label')\n",
    "plt.title(\"Confusion Matrix\")\n",
    "plt.show()"
   ]
  },
  {
   "cell_type": "code",
   "execution_count": 44,
   "metadata": {},
   "outputs": [
    {
     "name": "stdout",
     "output_type": "stream",
     "text": [
      "The AUC value for test data is 0.9375607392646826\n"
     ]
    },
    {
     "data": {
      "image/png": "[encoded data removed]",
      "text/plain": [
       "<Figure size 576x396 with 1 Axes>"
      ]
     },
     "metadata": {},
     "output_type": "display_data"
    }
   ],
   "source": [
    "#https://machinelearningmastery.com/roc-curves-and-precision-recall-curves-for-classification-in-python/\n",
    "#https://medium.com/greyatom/lets-learn-about-auc-roc-curve-4a94b4d88152\n",
    "#AUC and ROC Values\n",
    "\n",
    "fpr_train, tpr_train, threshold_train = roc_curve(train_data_labels, prediction_probability_train [:,1],pos_label='positive')\n",
    "fpr_test, tpr_test, threshold_test = roc_curve(test_data_labels, prediction_probability_test[:,1],pos_label='positive')\n",
    "print(f\"The AUC value for test data is {roc_auc_score(test_data_labels, prediction_probability_test[:,1])}\")\n",
    "\n",
    "plt.plot(fpr_train, tpr_train,'g', label = 'Train Data')\n",
    "plt.plot(fpr_test, tpr_test,'y', label = 'Test Data')\n",
    "plt.ylim(0,1)\n",
    "plt.legend(bbox_to_anchor=(1.05, 1), loc='upper left', borderaxespad=0.)\n",
    "plt.grid(True)\n",
    "plt.title(\"ROC Curve for Train and Test Data\")\n",
    "plt.xlabel(\"FPR\")\n",
    "plt.ylabel(\"TPR\")\n",
    "plt.show()"
   ]
  },
  {
   "cell_type": "markdown",
   "metadata": {},
   "source": [
    "#### Top 10 important features of positive class"
   ]
  },
  {
   "cell_type": "code",
   "execution_count": 45,
   "metadata": {},
   "outputs": [
    {
     "name": "stdout",
     "output_type": "stream",
     "text": [
      "3366\n"
     ]
    }
   ],
   "source": [
    "model = SGDClassifier(alpha=0.01, loss='hinge')\n",
    "model.fit(tf_idf_train_data,train_data_labels.values)\n",
    "weight_vec = model.coef_\n",
    "print(np.count_nonzero(weight_vec))"
   ]
  },
  {
   "cell_type": "code",
   "execution_count": 46,
   "metadata": {},
   "outputs": [
    {
     "name": "stdout",
     "output_type": "stream",
     "text": [
      "Top 10 important features of positive reviews are : ['great' 'best' 'love' 'delici' 'good' 'excel' 'perfect' 'nice' 'favorit'\n",
      " 'wonder']\n"
     ]
    }
   ],
   "source": [
    "imp_feat_df = pd.DataFrame(weight_vec.T,columns=['positive'])\n",
    "imp_feat_df['feature'] = tf_idf_vectorizer.get_feature_names()\n",
    "top_features = imp_feat_df.sort_values(by='positive',kind='quicksort',ascending=False) # ascending=False because we want to arrange in descending order\n",
    "print(f\"Top 10 important features of positive reviews are : {np.array(top_features['feature'][:10])}\")"
   ]
  },
  {
   "cell_type": "markdown",
   "metadata": {},
   "source": [
    "#### Top 10 important features of negative class"
   ]
  },
  {
   "cell_type": "code",
   "execution_count": 47,
   "metadata": {},
   "outputs": [
    {
     "name": "stdout",
     "output_type": "stream",
     "text": [
      "Top 10 important features of negative reviews are : ['stale' 'threw' 'terribl' 'horribl' 'wast' 'wast money' 'worst' 'aw'\n",
      " 'return' 'disappoint']\n"
     ]
    }
   ],
   "source": [
    "print(f\"Top 10 important features of negative reviews are : {np.array(top_features['feature'].tail(10))}\") #tail becuase we know last values will be negative when top of them are positive"
   ]
  },
  {
   "cell_type": "markdown",
   "metadata": {},
   "source": [
    "### [5.1.3]  Applying Linear SVM on AVG W2V,<font color='red'> SET 3</font>"
   ]
  },
  {
   "cell_type": "code",
   "execution_count": 48,
   "metadata": {
    "collapsed": true
   },
   "outputs": [],
   "source": [
    "# Train your own Word2Vec model using your own text corpus with train_data\n",
    "list_of_sentences_train=[]\n",
    "for sentance in train_data:\n",
    "    list_of_sentences_train.append(sentance.split())"
   ]
  },
  {
   "cell_type": "code",
   "execution_count": 49,
   "metadata": {
    "collapsed": true
   },
   "outputs": [],
   "source": [
    "#training W2V using test data\n",
    "list_of_sentences_test=[]\n",
    "for sentance in test_data:\n",
    "    list_of_sentences_test.append(sentance.split())"
   ]
  },
  {
   "cell_type": "code",
   "execution_count": 50,
   "metadata": {},
   "outputs": [
    {
     "name": "stdout",
     "output_type": "stream",
     "text": [
      "number of words that occured minimum 5 times  7695\n"
     ]
    }
   ],
   "source": [
    "# Train your own Word2Vec model using your own text corpus with train_data with min_count = 5\n",
    "w2v_model=Word2Vec(list_of_sentences_train,min_count=5,size=50, workers=4)\n",
    "\n",
    "w2v_words = list(w2v_model.wv.vocab)\n",
    "print(\"number of words that occured minimum 5 times \",len(w2v_words))"
   ]
  },
  {
   "cell_type": "code",
   "execution_count": 51,
   "metadata": {},
   "outputs": [
    {
     "name": "stderr",
     "output_type": "stream",
     "text": [
      "100%|███████████████████████████████████████████████████████████████████████████| 32000/32000 [01:24<00:00, 378.84it/s]\n"
     ]
    }
   ],
   "source": [
    "#computing avgW2V for train data (for each review)\n",
    "train_vectors = []; # the avg-w2v for each sentence/review is stored in this list\n",
    "for sent in tqdm(list_of_sentences_train): # for each review/sentence\n",
    "    sent_vec = np.zeros(50) # as word vectors are of zero length 50, you might need to change this to 300 if you use google's w2v\n",
    "    cnt_words =0; # num of words with a valid vector in the sentence/review\n",
    "    for word in sent: # for each word in a review/sentence\n",
    "        if word in w2v_words:\n",
    "            vec = w2v_model.wv[word]\n",
    "            sent_vec += vec\n",
    "            cnt_words += 1\n",
    "    if cnt_words != 0:\n",
    "        sent_vec /= cnt_words\n",
    "    train_vectors.append(sent_vec)\n"
   ]
  },
  {
   "cell_type": "code",
   "execution_count": 52,
   "metadata": {},
   "outputs": [
    {
     "name": "stderr",
     "output_type": "stream",
     "text": [
      "100%|███████████████████████████████████████████████████████████████████████████| 18000/18000 [00:38<00:00, 465.87it/s]\n"
     ]
    }
   ],
   "source": [
    "#computing avgW2V for train data (for each review)\n",
    "test_vectors = []; # the avg-w2v for each sentence/review is stored in this list\n",
    "for sent in tqdm(list_of_sentences_test): # for each review/sentence\n",
    "    sent_vec = np.zeros(50) # as word vectors are of zero length 50, you might need to change this to 300 if you use google's w2v\n",
    "    cnt_words =0; # num of words with a valid vector in the sentence/review\n",
    "    for word in sent: # for each word in a review/sentence\n",
    "        if word in w2v_words:\n",
    "            vec = w2v_model.wv[word]\n",
    "            sent_vec += vec\n",
    "            cnt_words += 1\n",
    "    if cnt_words != 0:\n",
    "        sent_vec /= cnt_words\n",
    "    test_vectors.append(sent_vec)\n"
   ]
  },
  {
   "cell_type": "code",
   "execution_count": 53,
   "metadata": {
    "collapsed": true
   },
   "outputs": [],
   "source": [
    "# Data-preprocessing: Standardizing the data , We can even proceed without standardizing but if we standardize our data then whole values will be in same range.So, we are doing it\n",
    "from sklearn.preprocessing import StandardScaler\n",
    "standardization = StandardScaler()\n",
    "train_vector_standardized =standardization.fit_transform(train_vectors)\n",
    "test_vector_standardized = standardization.transform(test_vectors)"
   ]
  },
  {
   "cell_type": "code",
   "execution_count": 54,
   "metadata": {},
   "outputs": [
    {
     "data": {
      "text/plain": [
       "GridSearchCV(cv=3, error_score='raise-deprecating',\n",
       "       estimator=SGDClassifier(alpha=0.0001, average=False, class_weight=None,\n",
       "       early_stopping=False, epsilon=0.1, eta0=0.0, fit_intercept=True,\n",
       "       l1_ratio=0.15, learning_rate='optimal', loss='hinge', max_iter=None,\n",
       "       n_iter=None, n_iter_no_change=5, n_jobs=None, penalty='l2',\n",
       "       power_t=0.5, random_state=None, shuffle=True, tol=None,\n",
       "       validation_fraction=0.1, verbose=0, warm_start=False),\n",
       "       fit_params=None, iid='warn', n_jobs=None,\n",
       "       param_grid=[{'alpha': [0.0001, 0.01, 1, 100, 10000]}],\n",
       "       pre_dispatch='2*n_jobs', refit=True, return_train_score='warn',\n",
       "       scoring='roc_auc', verbose=0)"
      ]
     },
     "execution_count": 54,
     "metadata": {},
     "output_type": "execute_result"
    }
   ],
   "source": [
    "# Please write all the code with proper documentation\n",
    "tuned_parameters = [{'alpha': [10**-4, 10**-2, 10**0, 10**2, 10**4]}]\n",
    "\n",
    "#using GridSearchCV\n",
    "model = GridSearchCV(SGDClassifier(loss=\"hinge\"),tuned_parameters,scoring='roc_auc',cv=3)\n",
    "model.fit(train_vector_standardized,train_data_labels.values)"
   ]
  },
  {
   "cell_type": "code",
   "execution_count": 55,
   "metadata": {},
   "outputs": [
    {
     "data": {
      "text/plain": [
       "SGDClassifier(alpha=0.01, average=False, class_weight=None,\n",
       "       early_stopping=False, epsilon=0.1, eta0=0.0, fit_intercept=True,\n",
       "       l1_ratio=0.15, learning_rate='optimal', loss='hinge', max_iter=None,\n",
       "       n_iter=None, n_iter_no_change=5, n_jobs=None, penalty='l2',\n",
       "       power_t=0.5, random_state=None, shuffle=True, tol=None,\n",
       "       validation_fraction=0.1, verbose=0, warm_start=False)"
      ]
     },
     "execution_count": 55,
     "metadata": {},
     "output_type": "execute_result"
    }
   ],
   "source": [
    "model.best_estimator_"
   ]
  },
  {
   "cell_type": "code",
   "execution_count": 56,
   "metadata": {
    "collapsed": true
   },
   "outputs": [],
   "source": [
    "linear_svm_model = SGDClassifier(alpha=0.01, loss='hinge')"
   ]
  },
  {
   "cell_type": "code",
   "execution_count": 57,
   "metadata": {},
   "outputs": [
    {
     "data": {
      "text/plain": [
       "CalibratedClassifierCV(base_estimator=SGDClassifier(alpha=0.01, average=False, class_weight=None,\n",
       "       early_stopping=False, epsilon=0.1, eta0=0.0, fit_intercept=True,\n",
       "       l1_ratio=0.15, learning_rate='optimal', loss='hinge', max_iter=None,\n",
       "       n_iter=None, n_iter_no_change=5, n_jobs=None, penalty='l2',\n",
       "       power_t=0.5, random_state=None, shuffle=True, tol=None,\n",
       "       validation_fraction=0.1, verbose=0, warm_start=False),\n",
       "            cv=3, method='sigmoid')"
      ]
     },
     "execution_count": 57,
     "metadata": {},
     "output_type": "execute_result"
    }
   ],
   "source": [
    "calibrated_model = CalibratedClassifierCV(base_estimator=linear_svm_model, cv=3)\n",
    "calibrated_model.fit(train_vector_standardized,train_data_labels)"
   ]
  },
  {
   "cell_type": "code",
   "execution_count": 58,
   "metadata": {
    "collapsed": true
   },
   "outputs": [],
   "source": [
    "probabilities = calibrated_model.predict_proba(test_vector_standardized)\n",
    "probabilitiess = probabilities[:,1]"
   ]
  },
  {
   "cell_type": "code",
   "execution_count": 59,
   "metadata": {
    "collapsed": true
   },
   "outputs": [],
   "source": [
    "predictions = calibrated_model.predict(test_vector_standardized)\n",
    "prediction_probability_test = calibrated_model.predict_proba(test_vector_standardized)\n",
    "prediction_probability_train = calibrated_model.predict_proba(train_vector_standardized)"
   ]
  },
  {
   "cell_type": "code",
   "execution_count": 60,
   "metadata": {},
   "outputs": [
    {
     "data": {
      "image/png": "[encoded data removed]",
      "text/plain": [
       "<Figure size 576x396 with 2 Axes>"
      ]
     },
     "metadata": {},
     "output_type": "display_data"
    }
   ],
   "source": [
    "# Code for drawing seaborn heatmaps\n",
    "class_names = ['positive','negative']\n",
    "heatmap_dataframe = pd.DataFrame(confusion_matrix(test_data_labels.values, predictions), index=class_names, columns=class_names )\n",
    "heatmap = sns.heatmap(heatmap_dataframe, annot=True, fmt=\"d\")\n",
    "\n",
    "# Setting tick labels for heatmap\n",
    "heatmap.xaxis.set_ticklabels(heatmap.xaxis.get_ticklabels())\n",
    "heatmap.yaxis.set_ticklabels(heatmap.yaxis.get_ticklabels())\n",
    "plt.xlabel('True label')\n",
    "plt.ylabel('Predicted label')\n",
    "plt.title(\"Confusion Matrix\")\n",
    "plt.show()"
   ]
  },
  {
   "cell_type": "code",
   "execution_count": 61,
   "metadata": {},
   "outputs": [
    {
     "name": "stdout",
     "output_type": "stream",
     "text": [
      "The AUC value for test data is 0.8839268442420818\n"
     ]
    },
    {
     "data": {
      "image/png": "[encoded data removed]",
      "text/plain": [
       "<Figure size 576x396 with 1 Axes>"
      ]
     },
     "metadata": {},
     "output_type": "display_data"
    }
   ],
   "source": [
    "#https://machinelearningmastery.com/roc-curves-and-precision-recall-curves-for-classification-in-python/\n",
    "#https://medium.com/greyatom/lets-learn-about-auc-roc-curve-4a94b4d88152\n",
    "#AUC and ROC Values\n",
    "\n",
    "fpr_train, tpr_train, threshold_train = roc_curve(train_data_labels, prediction_probability_train [:,1],pos_label='positive')\n",
    "fpr_test, tpr_test, threshold_test = roc_curve(test_data_labels, prediction_probability_test[:,1],pos_label='positive')\n",
    "print(f\"The AUC value for test data is {roc_auc_score(test_data_labels, prediction_probability_test[:,1])}\")\n",
    "\n",
    "plt.plot(fpr_train, tpr_train,'g', label = 'Train Data')\n",
    "plt.plot(fpr_test, tpr_test,'y', label = 'Test Data')\n",
    "plt.ylim(0,1)\n",
    "plt.legend(bbox_to_anchor=(1.05, 1), loc='upper left', borderaxespad=0.)\n",
    "plt.grid(True)\n",
    "plt.title(\"ROC Curve for Train and Test Data\")\n",
    "plt.xlabel(\"FPR\")\n",
    "plt.ylabel(\"TPR\")\n",
    "plt.show()"
   ]
  },
  {
   "cell_type": "markdown",
   "metadata": {},
   "source": [
    "### [5.1.4]  Applying Linear SVM on TFIDF W2V,<font color='red'> SET 4</font>"
   ]
  },
  {
   "cell_type": "code",
   "execution_count": 62,
   "metadata": {},
   "outputs": [
    {
     "name": "stderr",
     "output_type": "stream",
     "text": [
      "100%|███████████████████████████████████████████████████████████████████████████| 32000/32000 [02:23<00:00, 222.59it/s]\n"
     ]
    }
   ],
   "source": [
    "#I am using tfidf_train and test which is already done in previous steps and also using Only Word2Vec from previous one\n",
    "dictionary = dict(zip(tf_idf_vectorizer.get_feature_names(), list(tf_idf_vectorizer.idf_)))\n",
    "tfidf_features = tf_idf_vectorizer.get_feature_names()\n",
    "tfidf_sent_train = []; # the tfidf-w2v for each sentence/review is stored in this list\n",
    "row=0;\n",
    "for sent in tqdm(list_of_sentences_train): # for each review/sentence \n",
    "    sent_vec = np.zeros(50) # as word vectors are of zero length\n",
    "    weight_sum =0; # num of words with a valid vector in the sentence/review\n",
    "    for word in sent: # for each word in a review/sentence\n",
    "        if word in w2v_words and word in tfidf_features:\n",
    "            vec = w2v_model.wv[word]\n",
    "            #  tf_idf = tf_idf_matrix[row, tfidf_feat.index(word)]\n",
    "            # to reduce the computation we are \n",
    "            # dictionary[word] = idf value of word in whole courpus\n",
    "            # sent.count(word) = tf valeus of word in this review\n",
    "            tf_idf = dictionary[word]*(sent.count(word)/len(sent))\n",
    "            sent_vec += (vec * tf_idf)\n",
    "            weight_sum += tf_idf\n",
    "    if weight_sum != 0:\n",
    "        sent_vec /= weight_sum\n",
    "    tfidf_sent_train.append(sent_vec)\n",
    "    row += 1"
   ]
  },
  {
   "cell_type": "code",
   "execution_count": 63,
   "metadata": {},
   "outputs": [
    {
     "name": "stderr",
     "output_type": "stream",
     "text": [
      "100%|███████████████████████████████████████████████████████████████████████████| 18000/18000 [01:32<00:00, 195.44it/s]\n"
     ]
    }
   ],
   "source": [
    "#test-data (for test data)\n",
    "dictionary = dict(zip(tf_idf_vectorizer.get_feature_names(), list(tf_idf_vectorizer.idf_)))\n",
    "tfidf_features = tf_idf_vectorizer.get_feature_names()\n",
    "tfidf_sent_test = []; # the tfidf-w2v for each sentence/review is stored in this list\n",
    "row=0;\n",
    "for sent in tqdm(list_of_sentences_test): # for each review/sentence \n",
    "    sent_vec = np.zeros(50) # as word vectors are of zero length\n",
    "    weight_sum =0; # num of words with a valid vector in the sentence/review\n",
    "    for word in sent: # for each word in a review/sentence\n",
    "        if word in w2v_words and word in tfidf_features:\n",
    "            vec = w2v_model.wv[word]\n",
    "            #  tf_idf = tf_idf_matrix[row, tfidf_feat.index(word)]\n",
    "            # to reduce the computation we are \n",
    "            # dictionary[word] = idf value of word in whole courpus\n",
    "            # sent.count(word) = tf valeus of word in this review\n",
    "            tf_idf = dictionary[word]*(sent.count(word)/len(sent))\n",
    "            sent_vec += (vec * tf_idf)\n",
    "            weight_sum += tf_idf\n",
    "    if weight_sum != 0:\n",
    "        sent_vec /= weight_sum\n",
    "    tfidf_sent_test.append(sent_vec)\n",
    "    row += 1"
   ]
  },
  {
   "cell_type": "code",
   "execution_count": 64,
   "metadata": {
    "collapsed": true
   },
   "outputs": [],
   "source": [
    "# Data-preprocessing: Standardizing the data , We can even proceed without standardizing but if we standardize our data then whole values will be in same range.So, we are doing it\n",
    "from sklearn.preprocessing import StandardScaler\n",
    "standardization = StandardScaler()\n",
    "tfidf_sent_train_standardized =standardization.fit_transform(tfidf_sent_train)\n",
    "tfidf_sent_test_standardized = standardization.transform(tfidf_sent_test)"
   ]
  },
  {
   "cell_type": "code",
   "execution_count": 65,
   "metadata": {},
   "outputs": [
    {
     "data": {
      "text/plain": [
       "GridSearchCV(cv=3, error_score='raise-deprecating',\n",
       "       estimator=SGDClassifier(alpha=0.0001, average=False, class_weight=None,\n",
       "       early_stopping=False, epsilon=0.1, eta0=0.0, fit_intercept=True,\n",
       "       l1_ratio=0.15, learning_rate='optimal', loss='hinge', max_iter=None,\n",
       "       n_iter=None, n_iter_no_change=5, n_jobs=None, penalty='l2',\n",
       "       power_t=0.5, random_state=None, shuffle=True, tol=None,\n",
       "       validation_fraction=0.1, verbose=0, warm_start=False),\n",
       "       fit_params=None, iid='warn', n_jobs=None,\n",
       "       param_grid=[{'alpha': [0.0001, 0.01, 1, 100, 10000]}],\n",
       "       pre_dispatch='2*n_jobs', refit=True, return_train_score='warn',\n",
       "       scoring='roc_auc', verbose=0)"
      ]
     },
     "execution_count": 65,
     "metadata": {},
     "output_type": "execute_result"
    }
   ],
   "source": [
    "tuned_parameters = [{'alpha': [10**-4, 10**-2, 10**0, 10**2, 10**4]}]\n",
    "\n",
    "#using GridSearchCV\n",
    "model = GridSearchCV(SGDClassifier(loss=\"hinge\"),tuned_parameters,scoring='roc_auc',cv=3)\n",
    "model.fit(tfidf_sent_train_standardized,train_data_labels.values)"
   ]
  },
  {
   "cell_type": "code",
   "execution_count": 66,
   "metadata": {},
   "outputs": [
    {
     "data": {
      "text/plain": [
       "SGDClassifier(alpha=1, average=False, class_weight=None, early_stopping=False,\n",
       "       epsilon=0.1, eta0=0.0, fit_intercept=True, l1_ratio=0.15,\n",
       "       learning_rate='optimal', loss='hinge', max_iter=None, n_iter=None,\n",
       "       n_iter_no_change=5, n_jobs=None, penalty='l2', power_t=0.5,\n",
       "       random_state=None, shuffle=True, tol=None, validation_fraction=0.1,\n",
       "       verbose=0, warm_start=False)"
      ]
     },
     "execution_count": 66,
     "metadata": {},
     "output_type": "execute_result"
    }
   ],
   "source": [
    "model.best_estimator_"
   ]
  },
  {
   "cell_type": "code",
   "execution_count": 67,
   "metadata": {
    "collapsed": true
   },
   "outputs": [],
   "source": [
    "linear_svm_model = SGDClassifier(alpha=1, loss='hinge')"
   ]
  },
  {
   "cell_type": "code",
   "execution_count": 68,
   "metadata": {},
   "outputs": [
    {
     "data": {
      "text/plain": [
       "CalibratedClassifierCV(base_estimator=SGDClassifier(alpha=1, average=False, class_weight=None, early_stopping=False,\n",
       "       epsilon=0.1, eta0=0.0, fit_intercept=True, l1_ratio=0.15,\n",
       "       learning_rate='optimal', loss='hinge', max_iter=None, n_iter=None,\n",
       "       n_iter_no_change=5, n_jobs=None, penalty='l2', power_t=0.5,\n",
       "       random_state=None, shuffle=True, tol=None, validation_fraction=0.1,\n",
       "       verbose=0, warm_start=False),\n",
       "            cv=3, method='sigmoid')"
      ]
     },
     "execution_count": 68,
     "metadata": {},
     "output_type": "execute_result"
    }
   ],
   "source": [
    "calibrated_model = CalibratedClassifierCV(base_estimator=linear_svm_model, cv=3)\n",
    "calibrated_model.fit(tfidf_sent_train_standardized,train_data_labels)"
   ]
  },
  {
   "cell_type": "code",
   "execution_count": 69,
   "metadata": {
    "collapsed": true
   },
   "outputs": [],
   "source": [
    "probabilities = calibrated_model.predict_proba(tfidf_sent_test_standardized)\n",
    "probabilitiess = probabilities[:,1]"
   ]
  },
  {
   "cell_type": "code",
   "execution_count": 70,
   "metadata": {
    "collapsed": true
   },
   "outputs": [],
   "source": [
    "predictions = calibrated_model.predict(tfidf_sent_test_standardized)\n",
    "prediction_probability_test = calibrated_model.predict_proba(tfidf_sent_test_standardized)\n",
    "prediction_probability_train = calibrated_model.predict_proba(tfidf_sent_train_standardized)"
   ]
  },
  {
   "cell_type": "code",
   "execution_count": 71,
   "metadata": {},
   "outputs": [
    {
     "data": {
      "image/png": "[encoded data removed]",
      "text/plain": [
       "<Figure size 576x396 with 2 Axes>"
      ]
     },
     "metadata": {},
     "output_type": "display_data"
    }
   ],
   "source": [
    "# Code for drawing seaborn heatmaps\n",
    "class_names = ['positive','negative']\n",
    "heatmap_dataframe = pd.DataFrame(confusion_matrix(test_data_labels.values, predictions), index=class_names, columns=class_names )\n",
    "heatmap = sns.heatmap(heatmap_dataframe, annot=True, fmt=\"d\")\n",
    "\n",
    "# Setting tick labels for heatmap\n",
    "heatmap.xaxis.set_ticklabels(heatmap.xaxis.get_ticklabels())\n",
    "heatmap.yaxis.set_ticklabels(heatmap.yaxis.get_ticklabels())\n",
    "plt.xlabel('True label')\n",
    "plt.ylabel('Predicted label')\n",
    "plt.title(\"Confusion Matrix\")\n",
    "plt.show()"
   ]
  },
  {
   "cell_type": "code",
   "execution_count": 72,
   "metadata": {
    "scrolled": true
   },
   "outputs": [
    {
     "name": "stdout",
     "output_type": "stream",
     "text": [
      "The AUC value for test data is 0.851235127272498\n"
     ]
    },
    {
     "data": {
      "image/png": "[encoded data removed]",
      "text/plain": [
       "<Figure size 576x396 with 1 Axes>"
      ]
     },
     "metadata": {},
     "output_type": "display_data"
    }
   ],
   "source": [
    "#https://machinelearningmastery.com/roc-curves-and-precision-recall-curves-for-classification-in-python/\n",
    "#https://medium.com/greyatom/lets-learn-about-auc-roc-curve-4a94b4d88152\n",
    "#AUC and ROC Values\n",
    "\n",
    "fpr_train, tpr_train, threshold_train = roc_curve(train_data_labels, prediction_probability_train [:,1],pos_label='positive')\n",
    "fpr_test, tpr_test, threshold_test = roc_curve(test_data_labels, prediction_probability_test[:,1],pos_label='positive')\n",
    "print(f\"The AUC value for test data is {roc_auc_score(test_data_labels, prediction_probability_test[:,1])}\")\n",
    "\n",
    "plt.plot(fpr_train, tpr_train,'g', label = 'Train Data')\n",
    "plt.plot(fpr_test, tpr_test,'y', label = 'Test Data')\n",
    "plt.ylim(0,1)\n",
    "plt.legend(bbox_to_anchor=(1.05, 1), loc='upper left', borderaxespad=0.)\n",
    "plt.grid(True)\n",
    "plt.title(\"ROC Curve for Train and Test Data\")\n",
    "plt.xlabel(\"FPR\")\n",
    "plt.ylabel(\"TPR\")\n",
    "plt.show()"
   ]
  },
  {
   "cell_type": "markdown",
   "metadata": {},
   "source": [
    "## [5.2] RBF SVM"
   ]
  },
  {
   "cell_type": "markdown",
   "metadata": {},
   "source": [
    "Let's consider only 20000 points because of computation among this 12000 will be for train data and 8000 will be of test data'"
   ]
  },
  {
   "cell_type": "code",
   "execution_count": 78,
   "metadata": {
    "collapsed": true
   },
   "outputs": [],
   "source": [
    "final_data_limited = final_data.sample(20000)"
   ]
  },
  {
   "cell_type": "code",
   "execution_count": 79,
   "metadata": {
    "collapsed": true
   },
   "outputs": [],
   "source": [
    "#sorting the dataset according to time as we need time-based splitting\n",
    "final_data_limited = final_data_limited.sort_values(by ='Time',axis=0,ascending=True,inplace=False,kind='quicksort')"
   ]
  },
  {
   "cell_type": "code",
   "execution_count": 80,
   "metadata": {
    "collapsed": true
   },
   "outputs": [],
   "source": [
    "#dividing data into train and test\n",
    "train_data = final_data_limited['Cleaned_text'][:12000]\n",
    "test_data = final_data_limited['Cleaned_text'][12000:]\n",
    "train_data_labels = final_data_limited['Score'][:12000]\n",
    "test_data_labels = final_data_limited['Score'][12000:]\n"
   ]
  },
  {
   "cell_type": "markdown",
   "metadata": {},
   "source": [
    "### [5.2.1] Applying RBF SVM on BOW,<font color='red'> SET 1</font>"
   ]
  },
  {
   "cell_type": "code",
   "execution_count": 81,
   "metadata": {},
   "outputs": [
    {
     "name": "stdout",
     "output_type": "stream",
     "text": [
      "some feature names  ['abl', 'actual', 'ad', 'add', 'almost', 'also', 'alway', 'amazon', 'amount', 'anoth']\n",
      "==================================================\n",
      "the type of count vectorizer  <class 'scipy.sparse.csr.csr_matrix'>\n",
      "the shape of out text BOW vectorizer  (12000, 250)\n",
      "the number of unique words  250\n"
     ]
    }
   ],
   "source": [
    "#Initially applying BOW on train data and then will apply BOW on test data\n",
    "#BoW on train data\n",
    "count_vect = CountVectorizer(min_df=50,max_features=250) #selecting terms which has frequency higher than 50\n",
    "bow_train_data = count_vect.fit_transform(train_data)\n",
    "print(\"some feature names \", count_vect.get_feature_names()[:10])\n",
    "print('='*50)\n",
    "print(\"the type of count vectorizer \",type(bow_train_data))\n",
    "print(\"the shape of out text BOW vectorizer \",bow_train_data.get_shape())\n",
    "print(\"the number of unique words \", bow_train_data.get_shape()[1])"
   ]
  },
  {
   "cell_type": "code",
   "execution_count": 84,
   "metadata": {},
   "outputs": [
    {
     "data": {
      "text/plain": [
       "GridSearchCV(cv=2, error_score='raise-deprecating',\n",
       "       estimator=SVC(C=1.0, cache_size=200, class_weight=None, coef0=0.0,\n",
       "  decision_function_shape='ovr', degree=3, gamma='auto_deprecated',\n",
       "  kernel='rbf', max_iter=-1, probability=False, random_state=None,\n",
       "  shrinking=True, tol=0.001, verbose=False),\n",
       "       fit_params=None, iid='warn', n_jobs=None,\n",
       "       param_grid=[{'gamma': [0.0001, 0.01, 1, 100, 10000], 'C': [0.001, 0.01, 0.1, 1, 10, 100, 1000]}],\n",
       "       pre_dispatch='2*n_jobs', refit=True, return_train_score='warn',\n",
       "       scoring='roc_auc', verbose=0)"
      ]
     },
     "execution_count": 84,
     "metadata": {},
     "output_type": "execute_result"
    }
   ],
   "source": [
    "tuned_parameters = [{'gamma': [10**-4, 10**-2, 10**0, 10**2, 10**4],'C':[10**-3, 10**-2, 10**-1, 10**0, 10**1, 10**2, 10**3 ]}] \n",
    "\n",
    "#using RandomizedSearchCV  (instead of GridSearchCV we opt for RandomSearch CV because GridSearch takes time more when compared to RandomSearch cv)\n",
    "#https://scikit-learn.org/stable/modules/generated/sklearn.model_selection.RandomizedSearchCV.html\n",
    "\n",
    "model = GridSearchCV(SVC(kernel='rbf'),tuned_parameters,scoring='roc_auc',cv=2)\n",
    "model.fit(bow_train_data,train_data_labels.values)\n"
   ]
  },
  {
   "cell_type": "code",
   "execution_count": 85,
   "metadata": {},
   "outputs": [
    {
     "data": {
      "text/plain": [
       "SVC(C=10, cache_size=200, class_weight=None, coef0=0.0,\n",
       "  decision_function_shape='ovr', degree=3, gamma=0.01, kernel='rbf',\n",
       "  max_iter=-1, probability=False, random_state=None, shrinking=True,\n",
       "  tol=0.001, verbose=False)"
      ]
     },
     "execution_count": 85,
     "metadata": {},
     "output_type": "execute_result"
    }
   ],
   "source": [
    "model.best_estimator_"
   ]
  },
  {
   "cell_type": "code",
   "execution_count": 86,
   "metadata": {
    "collapsed": true
   },
   "outputs": [],
   "source": [
    "svm_model = SVC(gamma=0.01,C=10,kernel='rbf')"
   ]
  },
  {
   "cell_type": "code",
   "execution_count": 87,
   "metadata": {},
   "outputs": [
    {
     "data": {
      "text/plain": [
       "CalibratedClassifierCV(base_estimator=SVC(C=10, cache_size=200, class_weight=None, coef0=0.0,\n",
       "  decision_function_shape='ovr', degree=3, gamma=0.01, kernel='rbf',\n",
       "  max_iter=-1, probability=False, random_state=None, shrinking=True,\n",
       "  tol=0.001, verbose=False),\n",
       "            cv=3, method='sigmoid')"
      ]
     },
     "execution_count": 87,
     "metadata": {},
     "output_type": "execute_result"
    }
   ],
   "source": [
    "calibrated_model = CalibratedClassifierCV(base_estimator=svm_model, cv=3)\n",
    "calibrated_model.fit(bow_train_data,train_data_labels)"
   ]
  },
  {
   "cell_type": "code",
   "execution_count": 89,
   "metadata": {},
   "outputs": [],
   "source": [
    "#https://stackoverflow.com/questions/38692520/what-is-the-difference-between-fit-transform-and-transform-in-sklearn-countvecto\n",
    "bow_test_data = count_vect.transform(test_data)"
   ]
  },
  {
   "cell_type": "code",
   "execution_count": 90,
   "metadata": {
    "collapsed": true
   },
   "outputs": [],
   "source": [
    "probabilities = calibrated_model.predict_proba(bow_test_data)\n",
    "probabilitiess = probabilities[:,1]\n"
   ]
  },
  {
   "cell_type": "code",
   "execution_count": 91,
   "metadata": {
    "collapsed": true
   },
   "outputs": [],
   "source": [
    "predictions = calibrated_model.predict(bow_test_data)\n",
    "prediction_probability_test = calibrated_model.predict_proba(bow_test_data)\n",
    "prediction_probability_train = calibrated_model.predict_proba(bow_train_data)"
   ]
  },
  {
   "cell_type": "code",
   "execution_count": 92,
   "metadata": {},
   "outputs": [
    {
     "data": {
      "image/png": "[encoded data removed]",
      "text/plain": [
       "<Figure size 576x396 with 2 Axes>"
      ]
     },
     "metadata": {},
     "output_type": "display_data"
    }
   ],
   "source": [
    "# Code for drawing seaborn heatmaps\n",
    "class_names = ['positive','negative']\n",
    "heatmap_dataframe = pd.DataFrame(confusion_matrix(test_data_labels.values, predictions), index=class_names, columns=class_names )\n",
    "heatmap = sns.heatmap(heatmap_dataframe, annot=True, fmt=\"d\")\n",
    "\n",
    "# Setting tick labels for heatmap\n",
    "heatmap.xaxis.set_ticklabels(heatmap.xaxis.get_ticklabels())\n",
    "heatmap.yaxis.set_ticklabels(heatmap.yaxis.get_ticklabels())\n",
    "plt.xlabel('True label')\n",
    "plt.ylabel('Predicted label')\n",
    "plt.title(\"Confusion Matrix\")\n",
    "plt.show()\n"
   ]
  },
  {
   "cell_type": "code",
   "execution_count": 93,
   "metadata": {},
   "outputs": [
    {
     "name": "stdout",
     "output_type": "stream",
     "text": [
      "The AUC value for test data is 0.8707494205149964\n"
     ]
    },
    {
     "data": {
      "image/png": "[encoded data removed]",
      "text/plain": [
       "<Figure size 576x396 with 1 Axes>"
      ]
     },
     "metadata": {},
     "output_type": "display_data"
    }
   ],
   "source": [
    "#https://machinelearningmastery.com/roc-curves-and-precision-recall-curves-for-classification-in-python/\n",
    "#https://medium.com/greyatom/lets-learn-about-auc-roc-curve-4a94b4d88152\n",
    "#AUC and ROC Values\n",
    "\n",
    "fpr_train, tpr_train, threshold_train = roc_curve(train_data_labels, prediction_probability_train [:,1],pos_label='positive')\n",
    "fpr_test, tpr_test, threshold_test = roc_curve(test_data_labels, prediction_probability_test[:,1],pos_label='positive')\n",
    "print(f\"The AUC value for test data is {roc_auc_score(test_data_labels, prediction_probability_test[:,1])}\")\n",
    "\n",
    "plt.plot(fpr_train, tpr_train,'g', label = 'Train Data')\n",
    "plt.plot(fpr_test, tpr_test,'y', label = 'Test Data')\n",
    "plt.ylim(0,1)\n",
    "plt.legend(bbox_to_anchor=(1.05, 1), loc='upper left', borderaxespad=0.)\n",
    "plt.grid(True)\n",
    "plt.title(\"ROC Curve for Train and Test Data\")\n",
    "plt.xlabel(\"FPR\")\n",
    "plt.ylabel(\"TPR\")\n",
    "plt.show()"
   ]
  },
  {
   "cell_type": "markdown",
   "metadata": {},
   "source": [
    "### [5.2.2] Applying RBF SVM on TFIDF,<font color='red'> SET 2</font>"
   ]
  },
  {
   "cell_type": "code",
   "execution_count": 94,
   "metadata": {},
   "outputs": [
    {
     "name": "stdout",
     "output_type": "stream",
     "text": [
      "some sample features(unique words in the corpus) ['actual', 'ad', 'add', 'almost', 'also', 'alway', 'amazon', 'amount', 'anoth', 'anyth']\n",
      "==================================================\n",
      "the type of count vectorizer  <class 'scipy.sparse.csr.csr_matrix'>\n",
      "the shape of out text TFIDF vectorizer  (12000, 250)\n",
      "the number of unique words including both unigrams and bigrams  250\n"
     ]
    }
   ],
   "source": [
    "tf_idf_vectorizer = TfidfVectorizer(ngram_range=(1,2),min_df=50,max_features=250)\n",
    "tf_idf_train_data = tf_idf_vectorizer.fit_transform(train_data)\n",
    "print(\"some sample features(unique words in the corpus)\",tf_idf_vectorizer.get_feature_names()[0:10])\n",
    "print('='*50)\n",
    "print(\"the type of count vectorizer \",type(tf_idf_train_data))\n",
    "print(\"the shape of out text TFIDF vectorizer \",tf_idf_train_data.get_shape())\n",
    "print(\"the number of unique words including both unigrams and bigrams \", tf_idf_train_data.get_shape()[1])\n",
    "\n"
   ]
  },
  {
   "cell_type": "code",
   "execution_count": 95,
   "metadata": {},
   "outputs": [
    {
     "data": {
      "text/plain": [
       "GridSearchCV(cv=2, error_score='raise-deprecating',\n",
       "       estimator=SVC(C=1.0, cache_size=200, class_weight=None, coef0=0.0,\n",
       "  decision_function_shape='ovr', degree=3, gamma='auto_deprecated',\n",
       "  kernel='rbf', max_iter=-1, probability=False, random_state=None,\n",
       "  shrinking=True, tol=0.001, verbose=False),\n",
       "       fit_params=None, iid='warn', n_jobs=None,\n",
       "       param_grid=[{'gamma': [0.0001, 0.01, 1, 100, 10000], 'C': [0.001, 0.01, 0.1, 1, 10, 100, 1000]}],\n",
       "       pre_dispatch='2*n_jobs', refit=True, return_train_score='warn',\n",
       "       scoring='roc_auc', verbose=0)"
      ]
     },
     "execution_count": 95,
     "metadata": {},
     "output_type": "execute_result"
    }
   ],
   "source": [
    "tuned_parameters = [{'gamma': [10**-4, 10**-2, 10**0, 10**2, 10**4],'C':[10**-3, 10**-2, 10**-1, 10**0, 10**1, 10**2, 10**3 ]}] \n",
    "\n",
    "#using RandomizedSearchCV  (instead of GridSearchCV we opt for RandomSearch CV because GridSearch takes time more when compared to RandomSearch cv)\n",
    "#https://scikit-learn.org/stable/modules/generated/sklearn.model_selection.RandomizedSearchCV.html\n",
    "\n",
    "model = GridSearchCV(SVC(kernel='rbf'),tuned_parameters,scoring='roc_auc',cv=2)\n",
    "model.fit(tf_idf_train_data,train_data_labels.values)"
   ]
  },
  {
   "cell_type": "code",
   "execution_count": 96,
   "metadata": {},
   "outputs": [
    {
     "data": {
      "text/plain": [
       "SVC(C=1, cache_size=200, class_weight=None, coef0=0.0,\n",
       "  decision_function_shape='ovr', degree=3, gamma=1, kernel='rbf',\n",
       "  max_iter=-1, probability=False, random_state=None, shrinking=True,\n",
       "  tol=0.001, verbose=False)"
      ]
     },
     "execution_count": 96,
     "metadata": {},
     "output_type": "execute_result"
    }
   ],
   "source": [
    "model.best_estimator_"
   ]
  },
  {
   "cell_type": "code",
   "execution_count": 97,
   "metadata": {
    "collapsed": true
   },
   "outputs": [],
   "source": [
    "svm_model = SVC(gamma=1,C=1,kernel='rbf')"
   ]
  },
  {
   "cell_type": "code",
   "execution_count": 98,
   "metadata": {},
   "outputs": [
    {
     "data": {
      "text/plain": [
       "CalibratedClassifierCV(base_estimator=SVC(C=1, cache_size=200, class_weight=None, coef0=0.0,\n",
       "  decision_function_shape='ovr', degree=3, gamma=1, kernel='rbf',\n",
       "  max_iter=-1, probability=False, random_state=None, shrinking=True,\n",
       "  tol=0.001, verbose=False),\n",
       "            cv=3, method='sigmoid')"
      ]
     },
     "execution_count": 98,
     "metadata": {},
     "output_type": "execute_result"
    }
   ],
   "source": [
    "calibrated_model = CalibratedClassifierCV(base_estimator=svm_model, cv=3)\n",
    "calibrated_model.fit(tf_idf_train_data,train_data_labels)"
   ]
  },
  {
   "cell_type": "code",
   "execution_count": 100,
   "metadata": {
    "collapsed": true
   },
   "outputs": [],
   "source": [
    "tf_idf_test_data = tf_idf_vectorizer.transform(test_data)"
   ]
  },
  {
   "cell_type": "code",
   "execution_count": 101,
   "metadata": {},
   "outputs": [],
   "source": [
    "probabilities = calibrated_model.predict_proba(tf_idf_test_data)\n",
    "probabilitiess = probabilities[:,1]\n"
   ]
  },
  {
   "cell_type": "code",
   "execution_count": 102,
   "metadata": {
    "collapsed": true
   },
   "outputs": [],
   "source": [
    "predictions = calibrated_model.predict(tf_idf_test_data)\n",
    "prediction_probability_test = calibrated_model.predict_proba(tf_idf_test_data)\n",
    "prediction_probability_train = calibrated_model.predict_proba(tf_idf_train_data)"
   ]
  },
  {
   "cell_type": "code",
   "execution_count": 103,
   "metadata": {},
   "outputs": [
    {
     "data": {
      "image/png": "[encoded data removed]",
      "text/plain": [
       "<Figure size 576x396 with 2 Axes>"
      ]
     },
     "metadata": {},
     "output_type": "display_data"
    }
   ],
   "source": [
    "# Code for drawing seaborn heatmaps\n",
    "class_names = ['positive','negative']\n",
    "heatmap_dataframe = pd.DataFrame(confusion_matrix(test_data_labels.values, predictions), index=class_names, columns=class_names )\n",
    "heatmap = sns.heatmap(heatmap_dataframe, annot=True, fmt=\"d\")\n",
    "\n",
    "# Setting tick labels for heatmap\n",
    "heatmap.xaxis.set_ticklabels(heatmap.xaxis.get_ticklabels())\n",
    "heatmap.yaxis.set_ticklabels(heatmap.yaxis.get_ticklabels())\n",
    "plt.xlabel('True label')\n",
    "plt.ylabel('Predicted label')\n",
    "plt.title(\"Confusion Matrix\")\n",
    "plt.show()\n"
   ]
  },
  {
   "cell_type": "code",
   "execution_count": 104,
   "metadata": {},
   "outputs": [
    {
     "name": "stdout",
     "output_type": "stream",
     "text": [
      "The AUC value for test data is 0.8787015922939785\n"
     ]
    },
    {
     "data": {
      "image/png": "[encoded data removed]",
      "text/plain": [
       "<Figure size 576x396 with 1 Axes>"
      ]
     },
     "metadata": {},
     "output_type": "display_data"
    }
   ],
   "source": [
    "#https://machinelearningmastery.com/roc-curves-and-precision-recall-curves-for-classification-in-python/\n",
    "#https://medium.com/greyatom/lets-learn-about-auc-roc-curve-4a94b4d88152\n",
    "#AUC and ROC Values\n",
    "\n",
    "fpr_train, tpr_train, threshold_train = roc_curve(train_data_labels, prediction_probability_train [:,1],pos_label='positive')\n",
    "fpr_test, tpr_test, threshold_test = roc_curve(test_data_labels, prediction_probability_test[:,1],pos_label='positive')\n",
    "print(f\"The AUC value for test data is {roc_auc_score(test_data_labels, prediction_probability_test[:,1])}\")\n",
    "\n",
    "plt.plot(fpr_train, tpr_train,'g', label = 'Train Data')\n",
    "plt.plot(fpr_test, tpr_test,'y', label = 'Test Data')\n",
    "plt.ylim(0,1)\n",
    "plt.legend(bbox_to_anchor=(1.05, 1), loc='upper left', borderaxespad=0.)\n",
    "plt.grid(True)\n",
    "plt.title(\"ROC Curve for Train and Test Data\")\n",
    "plt.xlabel(\"FPR\")\n",
    "plt.ylabel(\"TPR\")\n",
    "plt.show()"
   ]
  },
  {
   "cell_type": "markdown",
   "metadata": {},
   "source": [
    "### [5.2.3]  Applying RBF SVM on AVG W2V,<font color='red'> SET 3</font>"
   ]
  },
  {
   "cell_type": "code",
   "execution_count": 105,
   "metadata": {
    "collapsed": true
   },
   "outputs": [],
   "source": [
    "# Train your own Word2Vec model using your own text corpus with train_data\n",
    "list_of_sentences_train=[]\n",
    "for sentance in train_data:\n",
    "    list_of_sentences_train.append(sentance.split())\n",
    "\n",
    "#training W2V using test data\n",
    "list_of_sentences_test=[]\n",
    "for sentance in test_data:\n",
    "    list_of_sentences_test.append(sentance.split())"
   ]
  },
  {
   "cell_type": "code",
   "execution_count": 106,
   "metadata": {},
   "outputs": [
    {
     "name": "stdout",
     "output_type": "stream",
     "text": [
      "number of words that occured minimum 5 times  4993\n"
     ]
    }
   ],
   "source": [
    "# Train your own Word2Vec model using your own text corpus with train_data with min_count = 5\n",
    "w2v_model=Word2Vec(list_of_sentences_train,min_count=5,size=50, workers=4)\n",
    "\n",
    "w2v_words = list(w2v_model.wv.vocab)\n",
    "print(\"number of words that occured minimum 5 times \",len(w2v_words))"
   ]
  },
  {
   "cell_type": "code",
   "execution_count": 107,
   "metadata": {},
   "outputs": [
    {
     "name": "stderr",
     "output_type": "stream",
     "text": [
      "100%|███████████████████████████████████████████████████████████████████████████| 12000/12000 [00:15<00:00, 753.92it/s]\n"
     ]
    }
   ],
   "source": [
    "#computing avgW2V for train data (for each review)\n",
    "train_vectors = []; # the avg-w2v for each sentence/review is stored in this list\n",
    "for sent in tqdm(list_of_sentences_train): # for each review/sentence\n",
    "    sent_vec = np.zeros(50) # as word vectors are of zero length 50, you might need to change this to 300 if you use google's w2v\n",
    "    cnt_words =0; # num of words with a valid vector in the sentence/review\n",
    "    for word in sent: # for each word in a review/sentence\n",
    "        if word in w2v_words:\n",
    "            vec = w2v_model.wv[word]\n",
    "            sent_vec += vec\n",
    "            cnt_words += 1\n",
    "    if cnt_words != 0:\n",
    "        sent_vec /= cnt_words\n",
    "    train_vectors.append(sent_vec)\n",
    "\n"
   ]
  },
  {
   "cell_type": "code",
   "execution_count": 108,
   "metadata": {},
   "outputs": [
    {
     "name": "stderr",
     "output_type": "stream",
     "text": [
      "100%|█████████████████████████████████████████████████████████████████████████████| 8000/8000 [00:12<00:00, 645.74it/s]\n"
     ]
    }
   ],
   "source": [
    "#computing avgW2V for train data (for each review)\n",
    "test_vectors = []; # the avg-w2v for each sentence/review is stored in this list\n",
    "for sent in tqdm(list_of_sentences_test): # for each review/sentence\n",
    "    sent_vec = np.zeros(50) # as word vectors are of zero length 50, you might need to change this to 300 if you use google's w2v\n",
    "    cnt_words =0; # num of words with a valid vector in the sentence/review\n",
    "    for word in sent: # for each word in a review/sentence\n",
    "        if word in w2v_words:\n",
    "            vec = w2v_model.wv[word]\n",
    "            sent_vec += vec\n",
    "            cnt_words += 1\n",
    "    if cnt_words != 0:\n",
    "        sent_vec /= cnt_words\n",
    "    test_vectors.append(sent_vec)\n",
    "\n"
   ]
  },
  {
   "cell_type": "code",
   "execution_count": 109,
   "metadata": {
    "collapsed": true
   },
   "outputs": [],
   "source": [
    "# Data-preprocessing: Standardizing the data , We can even proceed without standardizing but if we standardize our data then whole values will be in same range.So, we are doing it\n",
    "from sklearn.preprocessing import StandardScaler\n",
    "standardization = StandardScaler()\n",
    "train_vector_standardized =standardization.fit_transform(train_vectors)\n",
    "test_vector_standardized = standardization.transform(test_vectors)\n"
   ]
  },
  {
   "cell_type": "code",
   "execution_count": 110,
   "metadata": {},
   "outputs": [
    {
     "data": {
      "text/plain": [
       "(12000, 50)"
      ]
     },
     "execution_count": 110,
     "metadata": {},
     "output_type": "execute_result"
    }
   ],
   "source": [
    "train_vector_standardized.shape"
   ]
  },
  {
   "cell_type": "code",
   "execution_count": 112,
   "metadata": {},
   "outputs": [
    {
     "data": {
      "text/plain": [
       "(8000, 50)"
      ]
     },
     "execution_count": 112,
     "metadata": {},
     "output_type": "execute_result"
    }
   ],
   "source": [
    "test_vector_standardized.shape"
   ]
  },
  {
   "cell_type": "code",
   "execution_count": 114,
   "metadata": {},
   "outputs": [
    {
     "data": {
      "text/plain": [
       "GridSearchCV(cv=2, error_score='raise-deprecating',\n",
       "       estimator=SVC(C=1.0, cache_size=200, class_weight=None, coef0=0.0,\n",
       "  decision_function_shape='ovr', degree=3, gamma='auto_deprecated',\n",
       "  kernel='rbf', max_iter=-1, probability=False, random_state=None,\n",
       "  shrinking=True, tol=0.001, verbose=False),\n",
       "       fit_params=None, iid='warn', n_jobs=None,\n",
       "       param_grid=[{'gamma': [0.0001, 0.01, 1, 100, 10000], 'C': [0.001, 0.01, 0.1, 1, 10, 100, 1000]}],\n",
       "       pre_dispatch='2*n_jobs', refit=True, return_train_score='warn',\n",
       "       scoring='roc_auc', verbose=0)"
      ]
     },
     "execution_count": 114,
     "metadata": {},
     "output_type": "execute_result"
    }
   ],
   "source": [
    "tuned_parameters = [{'gamma': [10**-4, 10**-2, 10**0, 10**2, 10**4],'C':[10**-3, 10**-2, 10**-1, 10**0, 10**1, 10**2, 10**3 ]}] \n",
    "\n",
    "#using RandomizedSearchCV  (instead of GridSearchCV we opt for RandomSearch CV because GridSearch takes time more when compared to RandomSearch cv)\n",
    "#https://scikit-learn.org/stable/modules/generated/sklearn.model_selection.RandomizedSearchCV.html\n",
    "\n",
    "model = GridSearchCV(SVC(kernel='rbf'),tuned_parameters,scoring='roc_auc',cv=2)\n",
    "model.fit(train_vector_standardized,train_data_labels.values)"
   ]
  },
  {
   "cell_type": "code",
   "execution_count": 115,
   "metadata": {},
   "outputs": [
    {
     "data": {
      "text/plain": [
       "SVC(C=1000, cache_size=200, class_weight=None, coef0=0.0,\n",
       "  decision_function_shape='ovr', degree=3, gamma=0.0001, kernel='rbf',\n",
       "  max_iter=-1, probability=False, random_state=None, shrinking=True,\n",
       "  tol=0.001, verbose=False)"
      ]
     },
     "execution_count": 115,
     "metadata": {},
     "output_type": "execute_result"
    }
   ],
   "source": [
    "model.best_estimator_"
   ]
  },
  {
   "cell_type": "code",
   "execution_count": 127,
   "metadata": {
    "collapsed": true
   },
   "outputs": [],
   "source": [
    "svm_model = SVC(gamma=0.0001,C=1000,kernel='rbf')"
   ]
  },
  {
   "cell_type": "code",
   "execution_count": 128,
   "metadata": {},
   "outputs": [
    {
     "data": {
      "text/plain": [
       "CalibratedClassifierCV(base_estimator=SVC(C=1000, cache_size=200, class_weight=None, coef0=0.0,\n",
       "  decision_function_shape='ovr', degree=3, gamma=0.0001, kernel='rbf',\n",
       "  max_iter=-1, probability=False, random_state=None, shrinking=True,\n",
       "  tol=0.001, verbose=False),\n",
       "            cv=3, method='sigmoid')"
      ]
     },
     "execution_count": 128,
     "metadata": {},
     "output_type": "execute_result"
    }
   ],
   "source": [
    "calibrated_model = CalibratedClassifierCV(base_estimator=svm_model, cv=3)\n",
    "calibrated_model.fit(train_vector_standardized,train_data_labels)"
   ]
  },
  {
   "cell_type": "code",
   "execution_count": 129,
   "metadata": {
    "collapsed": true
   },
   "outputs": [],
   "source": [
    "probabilities = calibrated_model.predict_proba(test_vector_standardized)\n",
    "probabilitiess = probabilities[:,1]"
   ]
  },
  {
   "cell_type": "code",
   "execution_count": 130,
   "metadata": {
    "collapsed": true
   },
   "outputs": [],
   "source": [
    "predictions = calibrated_model.predict(test_vector_standardized)\n",
    "prediction_probability_test = calibrated_model.predict_proba(test_vector_standardized)\n",
    "prediction_probability_train = calibrated_model.predict_proba(train_vector_standardized)\n"
   ]
  },
  {
   "cell_type": "code",
   "execution_count": 131,
   "metadata": {},
   "outputs": [
    {
     "data": {
      "image/png": "[encoded data removed]",
      "text/plain": [
       "<Figure size 576x396 with 2 Axes>"
      ]
     },
     "metadata": {},
     "output_type": "display_data"
    }
   ],
   "source": [
    "# Code for drawing seaborn heatmaps\n",
    "class_names = ['positive','negative']\n",
    "heatmap_dataframe = pd.DataFrame(confusion_matrix(test_data_labels.values, predictions), index=class_names, columns=class_names )\n",
    "heatmap = sns.heatmap(heatmap_dataframe, annot=True, fmt=\"d\")\n",
    "\n",
    "# Setting tick labels for heatmap\n",
    "heatmap.xaxis.set_ticklabels(heatmap.xaxis.get_ticklabels())\n",
    "heatmap.yaxis.set_ticklabels(heatmap.yaxis.get_ticklabels())\n",
    "plt.xlabel('True label')\n",
    "plt.ylabel('Predicted label')\n",
    "plt.title(\"Confusion Matrix\")\n",
    "plt.show()\n"
   ]
  },
  {
   "cell_type": "code",
   "execution_count": 132,
   "metadata": {},
   "outputs": [
    {
     "name": "stdout",
     "output_type": "stream",
     "text": [
      "The AUC value for test data is 0.8705023563545061\n"
     ]
    },
    {
     "data": {
      "image/png": "[encoded data removed]",
      "text/plain": [
       "<Figure size 576x396 with 1 Axes>"
      ]
     },
     "metadata": {},
     "output_type": "display_data"
    }
   ],
   "source": [
    "#https://machinelearningmastery.com/roc-curves-and-precision-recall-curves-for-classification-in-python/\n",
    "#https://medium.com/greyatom/lets-learn-about-auc-roc-curve-4a94b4d88152\n",
    "#AUC and ROC Values\n",
    "\n",
    "fpr_train, tpr_train, threshold_train = roc_curve(train_data_labels, prediction_probability_train [:,1],pos_label='positive')\n",
    "fpr_test, tpr_test, threshold_test = roc_curve(test_data_labels, prediction_probability_test[:,1],pos_label='positive')\n",
    "print(f\"The AUC value for test data is {roc_auc_score(test_data_labels, prediction_probability_test[:,1])}\")\n",
    "\n",
    "plt.plot(fpr_train, tpr_train,'g', label = 'Train Data')\n",
    "plt.plot(fpr_test, tpr_test,'y', label = 'Test Data')\n",
    "plt.ylim(0,1)\n",
    "plt.legend(bbox_to_anchor=(1.05, 1), loc='upper left', borderaxespad=0.)\n",
    "plt.grid(True)\n",
    "plt.title(\"ROC Curve for Train and Test Data\")\n",
    "plt.xlabel(\"FPR\")\n",
    "plt.ylabel(\"TPR\")\n",
    "plt.show()"
   ]
  },
  {
   "cell_type": "code",
   "execution_count": null,
   "metadata": {
    "collapsed": true
   },
   "outputs": [],
   "source": []
  },
  {
   "cell_type": "code",
   "execution_count": null,
   "metadata": {
    "collapsed": true
   },
   "outputs": [],
   "source": []
  },
  {
   "cell_type": "code",
   "execution_count": null,
   "metadata": {
    "collapsed": true
   },
   "outputs": [],
   "source": []
  },
  {
   "cell_type": "markdown",
   "metadata": {},
   "source": [
    "### [5.2.4]  Applying RBF SVM on TFIDF W2V,<font color='red'> SET 4</font>"
   ]
  },
  {
   "cell_type": "code",
   "execution_count": 122,
   "metadata": {},
   "outputs": [
    {
     "name": "stderr",
     "output_type": "stream",
     "text": [
      "100%|███████████████████████████████████████████████████████████████████████████| 12000/12000 [00:18<00:00, 639.31it/s]\n"
     ]
    }
   ],
   "source": [
    "#I am using tfidf_train and test which is already done in previous steps and also using Only Word2Vec from previous one\n",
    "dictionary = dict(zip(tf_idf_vectorizer.get_feature_names(), list(tf_idf_vectorizer.idf_)))\n",
    "tfidf_features = tf_idf_vectorizer.get_feature_names()\n",
    "tfidf_sent_train = []; # the tfidf-w2v for each sentence/review is stored in this list\n",
    "row=0;\n",
    "for sent in tqdm(list_of_sentences_train): # for each review/sentence \n",
    "    sent_vec = np.zeros(50) # as word vectors are of zero length\n",
    "    weight_sum =0; # num of words with a valid vector in the sentence/review\n",
    "    for word in sent: # for each word in a review/sentence\n",
    "        if word in w2v_words and word in tfidf_features:\n",
    "            vec = w2v_model.wv[word]\n",
    "            #  tf_idf = tf_idf_matrix[row, tfidf_feat.index(word)]\n",
    "            # to reduce the computation we are \n",
    "            # dictionary[word] = idf value of word in whole courpus\n",
    "            # sent.count(word) = tf valeus of word in this review\n",
    "            tf_idf = dictionary[word]*(sent.count(word)/len(sent))\n",
    "            sent_vec += (vec * tf_idf)\n",
    "            weight_sum += tf_idf\n",
    "    if weight_sum != 0:\n",
    "        sent_vec /= weight_sum\n",
    "    tfidf_sent_train.append(sent_vec)\n",
    "    row += 1"
   ]
  },
  {
   "cell_type": "code",
   "execution_count": 123,
   "metadata": {},
   "outputs": [
    {
     "name": "stderr",
     "output_type": "stream",
     "text": [
      "100%|█████████████████████████████████████████████████████████████████████████████| 8000/8000 [00:13<00:00, 612.02it/s]\n"
     ]
    }
   ],
   "source": [
    "#test-data (for test data)\n",
    "dictionary = dict(zip(tf_idf_vectorizer.get_feature_names(), list(tf_idf_vectorizer.idf_)))\n",
    "tfidf_features = tf_idf_vectorizer.get_feature_names()\n",
    "tfidf_sent_test = []; # the tfidf-w2v for each sentence/review is stored in this list\n",
    "row=0;\n",
    "for sent in tqdm(list_of_sentences_test): # for each review/sentence \n",
    "    sent_vec = np.zeros(50) # as word vectors are of zero length\n",
    "    weight_sum =0; # num of words with a valid vector in the sentence/review\n",
    "    for word in sent: # for each word in a review/sentence\n",
    "        if word in w2v_words and word in tfidf_features:\n",
    "            vec = w2v_model.wv[word]\n",
    "            #  tf_idf = tf_idf_matrix[row, tfidf_feat.index(word)]\n",
    "            # to reduce the computation we are \n",
    "            # dictionary[word] = idf value of word in whole courpus\n",
    "            # sent.count(word) = tf valeus of word in this review\n",
    "            tf_idf = dictionary[word]*(sent.count(word)/len(sent))\n",
    "            sent_vec += (vec * tf_idf)\n",
    "            weight_sum += tf_idf\n",
    "    if weight_sum != 0:\n",
    "        sent_vec /= weight_sum\n",
    "    tfidf_sent_test.append(sent_vec)\n",
    "    row += 1\n"
   ]
  },
  {
   "cell_type": "code",
   "execution_count": 124,
   "metadata": {
    "collapsed": true
   },
   "outputs": [],
   "source": [
    "# Data-preprocessing: Standardizing the data , We can even proceed without standardizing but if we standardize our data then whole values will be in same range.So, we are doing it\n",
    "from sklearn.preprocessing import StandardScaler\n",
    "standardization = StandardScaler()\n",
    "tfidf_sent_train_standardized =standardization.fit_transform(tfidf_sent_train)\n",
    "tfidf_sent_test_standardized = standardization.transform(tfidf_sent_test)"
   ]
  },
  {
   "cell_type": "code",
   "execution_count": 125,
   "metadata": {},
   "outputs": [
    {
     "data": {
      "text/plain": [
       "(12000, 50)"
      ]
     },
     "execution_count": 125,
     "metadata": {},
     "output_type": "execute_result"
    }
   ],
   "source": [
    "tfidf_sent_train_standardized.shape"
   ]
  },
  {
   "cell_type": "code",
   "execution_count": 126,
   "metadata": {},
   "outputs": [
    {
     "data": {
      "text/plain": [
       "(8000, 50)"
      ]
     },
     "execution_count": 126,
     "metadata": {},
     "output_type": "execute_result"
    }
   ],
   "source": [
    "tfidf_sent_test_standardized.shape"
   ]
  },
  {
   "cell_type": "code",
   "execution_count": 133,
   "metadata": {},
   "outputs": [
    {
     "data": {
      "text/plain": [
       "GridSearchCV(cv=2, error_score='raise-deprecating',\n",
       "       estimator=SVC(C=1.0, cache_size=200, class_weight=None, coef0=0.0,\n",
       "  decision_function_shape='ovr', degree=3, gamma='auto_deprecated',\n",
       "  kernel='rbf', max_iter=-1, probability=False, random_state=None,\n",
       "  shrinking=True, tol=0.001, verbose=False),\n",
       "       fit_params=None, iid='warn', n_jobs=None,\n",
       "       param_grid=[{'gamma': [0.0001, 0.01, 1, 100, 10000], 'C': [0.001, 0.01, 0.1, 1, 10, 100, 1000]}],\n",
       "       pre_dispatch='2*n_jobs', refit=True, return_train_score='warn',\n",
       "       scoring='roc_auc', verbose=0)"
      ]
     },
     "execution_count": 133,
     "metadata": {},
     "output_type": "execute_result"
    }
   ],
   "source": [
    "tuned_parameters = [{'gamma': [10**-4, 10**-2, 10**0, 10**2, 10**4],'C':[10**-3, 10**-2, 10**-1, 10**0, 10**1, 10**2, 10**3 ]}] \n",
    "\n",
    "#using RandomizedSearchCV  (instead of GridSearchCV we opt for RandomSearch CV because GridSearch takes time more when compared to RandomSearch cv)\n",
    "#https://scikit-learn.org/stable/modules/generated/sklearn.model_selection.RandomizedSearchCV.html\n",
    "\n",
    "model = GridSearchCV(SVC(kernel='rbf'),tuned_parameters,scoring='roc_auc',cv=2)\n",
    "model.fit(tfidf_sent_train_standardized,train_data_labels.values)"
   ]
  },
  {
   "cell_type": "code",
   "execution_count": 134,
   "metadata": {},
   "outputs": [
    {
     "data": {
      "text/plain": [
       "SVC(C=1000, cache_size=200, class_weight=None, coef0=0.0,\n",
       "  decision_function_shape='ovr', degree=3, gamma=0.0001, kernel='rbf',\n",
       "  max_iter=-1, probability=False, random_state=None, shrinking=True,\n",
       "  tol=0.001, verbose=False)"
      ]
     },
     "execution_count": 134,
     "metadata": {},
     "output_type": "execute_result"
    }
   ],
   "source": [
    "model.best_estimator_"
   ]
  },
  {
   "cell_type": "code",
   "execution_count": 135,
   "metadata": {
    "collapsed": true
   },
   "outputs": [],
   "source": [
    "svm_model = SVC(gamma=0.0001,C=1000,kernel='rbf')"
   ]
  },
  {
   "cell_type": "code",
   "execution_count": 136,
   "metadata": {},
   "outputs": [
    {
     "data": {
      "text/plain": [
       "CalibratedClassifierCV(base_estimator=SVC(C=1000, cache_size=200, class_weight=None, coef0=0.0,\n",
       "  decision_function_shape='ovr', degree=3, gamma=0.0001, kernel='rbf',\n",
       "  max_iter=-1, probability=False, random_state=None, shrinking=True,\n",
       "  tol=0.001, verbose=False),\n",
       "            cv=3, method='sigmoid')"
      ]
     },
     "execution_count": 136,
     "metadata": {},
     "output_type": "execute_result"
    }
   ],
   "source": [
    "calibrated_model = CalibratedClassifierCV(base_estimator=svm_model, cv=3)\n",
    "calibrated_model.fit(tfidf_sent_train_standardized,train_data_labels)"
   ]
  },
  {
   "cell_type": "code",
   "execution_count": 137,
   "metadata": {
    "collapsed": true
   },
   "outputs": [],
   "source": [
    "probabilities = calibrated_model.predict_proba(tfidf_sent_test_standardized)\n",
    "probabilitiess = probabilities[:,1]"
   ]
  },
  {
   "cell_type": "code",
   "execution_count": 138,
   "metadata": {
    "collapsed": true
   },
   "outputs": [],
   "source": [
    "predictions = calibrated_model.predict(tfidf_sent_test_standardized)\n",
    "prediction_probability_test = calibrated_model.predict_proba(tfidf_sent_test_standardized)\n",
    "prediction_probability_train = calibrated_model.predict_proba(tfidf_sent_train_standardized)"
   ]
  },
  {
   "cell_type": "code",
   "execution_count": 139,
   "metadata": {},
   "outputs": [
    {
     "data": {
      "image/png": "[encoded data removed]",
      "text/plain": [
       "<Figure size 576x396 with 2 Axes>"
      ]
     },
     "metadata": {},
     "output_type": "display_data"
    }
   ],
   "source": [
    "# Code for drawing seaborn heatmaps\n",
    "class_names = ['positive','negative']\n",
    "heatmap_dataframe = pd.DataFrame(confusion_matrix(test_data_labels.values, predictions), index=class_names, columns=class_names )\n",
    "heatmap = sns.heatmap(heatmap_dataframe, annot=True, fmt=\"d\")\n",
    "\n",
    "# Setting tick labels for heatmap\n",
    "heatmap.xaxis.set_ticklabels(heatmap.xaxis.get_ticklabels())\n",
    "heatmap.yaxis.set_ticklabels(heatmap.yaxis.get_ticklabels())\n",
    "plt.xlabel('True label')\n",
    "plt.ylabel('Predicted label')\n",
    "plt.title(\"Confusion Matrix\")\n",
    "plt.show()\n"
   ]
  },
  {
   "cell_type": "code",
   "execution_count": 140,
   "metadata": {},
   "outputs": [
    {
     "name": "stdout",
     "output_type": "stream",
     "text": [
      "The AUC value for test data is 0.8255128759745353\n"
     ]
    },
    {
     "data": {
      "image/png": "[encoded data removed]",
      "text/plain": [
       "<Figure size 576x396 with 1 Axes>"
      ]
     },
     "metadata": {},
     "output_type": "display_data"
    }
   ],
   "source": [
    "#https://machinelearningmastery.com/roc-curves-and-precision-recall-curves-for-classification-in-python/\n",
    "#https://medium.com/greyatom/lets-learn-about-auc-roc-curve-4a94b4d88152\n",
    "#AUC and ROC Values\n",
    "\n",
    "fpr_train, tpr_train, threshold_train = roc_curve(train_data_labels, prediction_probability_train [:,1],pos_label='positive')\n",
    "fpr_test, tpr_test, threshold_test = roc_curve(test_data_labels, prediction_probability_test[:,1],pos_label='positive')\n",
    "print(f\"The AUC value for test data is {roc_auc_score(test_data_labels, prediction_probability_test[:,1])}\")\n",
    "\n",
    "plt.plot(fpr_train, tpr_train,'g', label = 'Train Data')\n",
    "plt.plot(fpr_test, tpr_test,'y', label = 'Test Data')\n",
    "plt.ylim(0,1)\n",
    "plt.legend(bbox_to_anchor=(1.05, 1), loc='upper left', borderaxespad=0.)\n",
    "plt.grid(True)\n",
    "plt.title(\"ROC Curve for Train and Test Data\")\n",
    "plt.xlabel(\"FPR\")\n",
    "plt.ylabel(\"TPR\")\n",
    "plt.show()"
   ]
  },
  {
   "cell_type": "markdown",
   "metadata": {},
   "source": [
    "# [6] Conclusions"
   ]
  },
  {
   "cell_type": "markdown",
   "metadata": {
    "collapsed": true
   },
   "source": [
    "1. Among all the NLP techniques, we have obtained good accuracy with tf-idf model\n",
    "\n",
    "2. Worst performed model out of all is Tf-idf Weighted Word2Vec (RBF kernel). That might be because we have taken very small amount of subset and trained only on it and tried to get predictions on unseen data based on trained weights\n",
    "\n",
    "3. Important features for positive reviews are , i.e., when it has these words then they are predicted as POSITIVE review ['great' 'best' 'love' 'delici' 'good' 'excel' 'perfect' 'nice' 'favorit'\n",
    " 'wonder']\n",
    "\n",
    "4. Similarly, When it has negative reviews , important features which obtained are {'stale' 'wast' 'money' 'unfortun' 'horribl' 'return' 'aw' 'terribl'\n",
    " 'worst' 'disappoint'}\n",
    "\n",
    "5. We can see that ROC-AUC scores for RBF kernel are on lower side. Actually RBF kernel can perform well on non-linearly seperable data whereas linear SVM works fine on linearly seperable data.\n",
    "\n",
    "6. By looking at the results , we can say that our data is almost linearly seperable. On the Other hand, we can compare both the SVM types if we would have trained and tested both types on same datasets. But, we have opted for different number of datapoints for each because of computational resources. \n"
   ]
  },
  {
   "cell_type": "markdown",
   "metadata": {
    "collapsed": true
   },
   "source": [
    "-----> Even though we haven't tested using cross-validation dataset, By observing test and train accuracies we can co-relate whether our model is good or is it tending to overfit/underfit.\n",
    "\n",
    "-----> Here, in only R.B.F kernel SVM's, we can see such phenomena. As discussed above there might be multiple reasons for it (as it is trained only on few datapoints and data might be linearly seperable where RBF kernel's might fail)\n",
    "\n",
    "-----> Among all, we have got high roc-auc on Tf-idf model. So, we would say, it is best among others."
   ]
  },
  {
   "cell_type": "code",
   "execution_count": 144,
   "metadata": {},
   "outputs": [
    {
     "name": "stdout",
     "output_type": "stream",
     "text": [
      "+-----------------+------------+-----------------------+---------+\n",
      "| vectorizer_type |  SVM Type  | Hyperparameter(alpha) | roc-auc |\n",
      "+-----------------+------------+-----------------------+---------+\n",
      "|   Bag of words  | Linear-SVM |          0.01         |   0.91  |\n",
      "|      TF-IDF     | Linear-SVM |          0.01         |   0.93  |\n",
      "|      AvgW2V     | Linear-SVM |          0.01         |   0.88  |\n",
      "|    Tf_idfW2V    | Linear-SVM |           1           |   0.85  |\n",
      "+-----------------+------------+-----------------------+---------+\n",
      "+-----------------+----------------+-----------------------+-------------------+---------+\n",
      "| vectorizer_type |    SVM Type    | Hyperparameter(gamma) | Hyperparameter(C) | roc-auc |\n",
      "+-----------------+----------------+-----------------------+-------------------+---------+\n",
      "|   Bag of words  | RBF Kernel SVM |          0.01         |         10        |   0.91  |\n",
      "|      TF-IDF     | RBF Kernel SVM |           1           |         1         |   0.87  |\n",
      "|      AvgW2V     | RBF Kernel SVM |         0.0001        |        1000       |   0.87  |\n",
      "|    Tf_idfW2V    | RBF Kernel SVM |         0.0001        |        1000       |   0.82  |\n",
      "+-----------------+----------------+-----------------------+-------------------+---------+\n"
     ]
    }
   ],
   "source": [
    "from prettytable import PrettyTable\n",
    "# reference : http://zetcode.com/python/prettytable/\n",
    "pretty_table = PrettyTable()\n",
    "pretty_table.field_names = [\"vectorizer_type\",\"SVM Type\",\"Hyperparameter(alpha)\",\"roc-auc\"]\n",
    "pretty_table.add_row([\"Bag of words\",\"Linear-SVM\",\"0.01\",\"0.91\"])\n",
    "pretty_table.add_row([\"TF-IDF\",\"Linear-SVM\",\"0.01\",\"0.93\"])\n",
    "pretty_table.add_row([\"AvgW2V\",\"Linear-SVM\",\"0.01\",\"0.88\"])\n",
    "pretty_table.add_row([\"Tf_idfW2V\",\"Linear-SVM\",\"1\",\"0.85\"])\n",
    "print(pretty_table)\n",
    "\n",
    "pretty_table = PrettyTable()\n",
    "pretty_table.field_names = [\"vectorizer_type\",\"SVM Type\",\"Hyperparameter(gamma)\",\"Hyperparameter(C)\",\"roc-auc\"]\n",
    "pretty_table.add_row([\"Bag of words\",\"RBF Kernel SVM\",\"0.01\",\"10\",\"0.91\"])\n",
    "pretty_table.add_row([\"TF-IDF\",\"RBF Kernel SVM\",\"1\",\"1\",\"0.87\"])\n",
    "pretty_table.add_row([\"AvgW2V\",\"RBF Kernel SVM\",\"0.0001\",\"1000\",\"0.87\"])\n",
    "pretty_table.add_row([\"Tf_idfW2V\",\"RBF Kernel SVM\",\"0.0001\",\"1000\",\"0.82\"])\n",
    "print(pretty_table)"
   ]
  },
  {
   "cell_type": "code",
   "execution_count": null,
   "metadata": {
    "collapsed": true
   },
   "outputs": [],
   "source": []
  }
 ],
 "metadata": {
  "kernelspec": {
   "display_name": "Python 3",
   "language": "python",
   "name": "python3"
  },
  "language_info": {
   "codemirror_mode": {
    "name": "ipython",
    "version": 3
   },
   "file_extension": ".py",
   "mimetype": "text/x-python",
   "name": "python",
   "nbconvert_exporter": "python",
   "pygments_lexer": "ipython3",
   "version": "3.6.8"
  }
 },
 "nbformat": 4,
 "nbformat_minor": 2
}
